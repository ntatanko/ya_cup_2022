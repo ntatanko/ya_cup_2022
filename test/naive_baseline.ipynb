{
 "cells": [
  {
   "cell_type": "code",
   "execution_count": 1,
   "id": "4ba155f4-36f8-48ad-9283-c83c12ede021",
   "metadata": {},
   "outputs": [],
   "source": [
    "import os\n",
    "import time\n",
    "\n",
    "import numpy as np\n",
    "import pandas as pd\n",
    "from sklearn.metrics import pairwise_distances_chunked\n",
    "from sklearn.metrics.pairwise import euclidean_distances\n",
    "from tqdm import tqdm"
   ]
  },
  {
   "cell_type": "code",
   "execution_count": 2,
   "id": "d070c8e8-3bc2-4a3c-82fb-3929b9caa6b2",
   "metadata": {},
   "outputs": [],
   "source": [
    "root_dir = \"/app/_data/artist_data/\"\n",
    "test = pd.read_csv(os.path.join(root_dir, \"test_meta.tsv\"), sep=\"\\t\")\n",
    "file_dir = os.path.join(root_dir, \"test_features\")"
   ]
  },
  {
   "cell_type": "code",
   "execution_count": 3,
   "id": "819746a0-7522-453d-8a8b-688896c3c802",
   "metadata": {},
   "outputs": [],
   "source": [
    "def get_top_k(dist_chunk, start):\n",
    "    top_size = 100\n",
    "    result = []\n",
    "    for chunk_item_indx, item_distances in enumerate(dist_chunk):\n",
    "        global_query_item_indx = start + chunk_item_indx\n",
    "        ranked_list = list(enumerate(item_distances))\n",
    "        ranked_list.sort(key=lambda x: x[1])\n",
    "        current_item_result = []\n",
    "        for result_indx, distance in ranked_list:\n",
    "            if result_indx == global_query_item_indx:\n",
    "                continue\n",
    "            current_item_result.append(result_indx)\n",
    "            if len(current_item_result) >= top_size:\n",
    "                break\n",
    "        result.append(current_item_result)\n",
    "    return result"
   ]
  },
  {
   "cell_type": "code",
   "execution_count": 4,
   "id": "978b1d74-8ddf-44b0-9128-950e72783cb8",
   "metadata": {},
   "outputs": [],
   "source": [
    "trackids = []\n",
    "embeds = []\n",
    "for _, row in test.iterrows():\n",
    "    features_filepath = os.path.join(file_dir, row[\"archive_features_path\"])\n",
    "    track_features = np.load(features_filepath)\n",
    "    track_embed = np.mean(track_features, axis=1)\n",
    "    trackids.append(row[\"trackid\"])\n",
    "    embeds.append(track_embed)\n",
    "embeds = np.array(embeds)"
   ]
  },
  {
   "cell_type": "code",
   "execution_count": 5,
   "id": "73ddcbd7-eef3-4adf-8e2d-53b83043f05a",
   "metadata": {},
   "outputs": [
    {
     "name": "stderr",
     "output_type": "stream",
     "text": [
      "131it [23:27, 10.74s/it]"
     ]
    },
    {
     "name": "stdout",
     "output_type": "stream",
     "text": [
      "It takes 23.46 minutes to run this cell\n"
     ]
    },
    {
     "name": "stderr",
     "output_type": "stream",
     "text": [
      "\n"
     ]
    }
   ],
   "source": [
    "start = time.time()\n",
    "\n",
    "with open(\"submission\", \"w\") as foutput:\n",
    "    current_item_indx = 0\n",
    "    for chunk in tqdm(pairwise_distances_chunked(\n",
    "        embeds, metric=\"cosine\", working_memory=100, reduce_func=get_top_k, n_jobs=16\n",
    "    )):\n",
    "        for item_ranked_list in chunk:\n",
    "            foutput.write(\n",
    "                \"{}\\t{}\\n\".format(\n",
    "                    trackids[current_item_indx],\n",
    "                    \" \".join([str(trackids[i]) for i in item_ranked_list]),\n",
    "                )\n",
    "            )\n",
    "            current_item_indx += 1\n",
    "\n",
    "total_time = time.time() - start\n",
    "print(f\"It takes {(total_time/60):.2f} minutes to run this cell\")"
   ]
  },
  {
   "cell_type": "code",
   "execution_count": 6,
   "id": "bf5a3ba8-e132-4d0c-9573-4d3335dfa004",
   "metadata": {},
   "outputs": [
    {
     "name": "stderr",
     "output_type": "stream",
     "text": [
      "100% 41377/41377 [02:19<00:00, 296.75it/s]\n"
     ]
    },
    {
     "name": "stdout",
     "output_type": "stream",
     "text": [
      "It takes 2.68 minutes to run this cell\n"
     ]
    }
   ],
   "source": [
    "start = time.time()\n",
    "\n",
    "\n",
    "def choose_100(prediction, df, val=True, path_to_save=None):\n",
    "    dists = euclidean_distances(prediction)\n",
    "    neigh = {}\n",
    "    with open(os.path.join(path_to_save, \"my_test_submission\"), \"w\") as f:\n",
    "        for ix in tqdm(range(prediction.shape[0])):\n",
    "            trackid = df.loc[ix, \"trackid\"]\n",
    "            nearest_100 = np.argsort(dists[ix])[1:101]\n",
    "            tracks_100 = df.loc[nearest_100, \"trackid\"].tolist()\n",
    "            neigh[trackid] = {\"tracks\": [x for x in tracks_100 if x != trackid]}\n",
    "            if val:\n",
    "                artist_100 = df.loc[nearest_100, \"artistid\"].tolist()\n",
    "                neigh[trackid][\"artists\"] = artist_100\n",
    "            f.write(\n",
    "                \"{}\\t{}\\n\".format(\n",
    "                    trackid,\n",
    "                    \" \".join(list(map(str, tracks_100))),\n",
    "                )\n",
    "            )\n",
    "    return neigh\n",
    "\n",
    "\n",
    "neigh = choose_100(prediction=embeds, df=test, val=False, path_to_save=os.getcwd())\n",
    "total_time = time.time() - start\n",
    "print(f\"It takes {(total_time/60):.2f} minutes to run this cell\")"
   ]
  },
  {
   "cell_type": "code",
   "execution_count": null,
   "id": "53e10311-a980-4f7a-bc78-bc8991fa80af",
   "metadata": {},
   "outputs": [],
   "source": []
  }
 ],
 "metadata": {
  "kernelspec": {
   "display_name": "Python 3 (ipykernel)",
   "language": "python",
   "name": "python3"
  },
  "language_info": {
   "codemirror_mode": {
    "name": "ipython",
    "version": 3
   },
   "file_extension": ".py",
   "mimetype": "text/x-python",
   "name": "python",
   "nbconvert_exporter": "python",
   "pygments_lexer": "ipython3",
   "version": "3.8.10"
  }
 },
 "nbformat": 4,
 "nbformat_minor": 5
}
