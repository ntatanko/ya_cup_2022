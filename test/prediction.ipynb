{
 "cells": [
  {
   "cell_type": "code",
   "execution_count": 40,
   "id": "6cdcb8b8-d56a-4559-a983-c7a0ddd35c3d",
   "metadata": {},
   "outputs": [],
   "source": [
    "import glob\n",
    "import json\n",
    "import os\n",
    "import random as rnd\n",
    "import shutil\n",
    "import sys\n",
    "\n",
    "import keras.backend as K\n",
    "import matplotlib.pyplot as plt\n",
    "import numpy as np\n",
    "import pandas as pd\n",
    "import seaborn as sns\n",
    "import tensorflow as tf\n",
    "from IPython.core.interactiveshell import InteractiveShell\n",
    "from sklearn.metrics.pairwise import euclidean_distances\n",
    "from tensorflow import keras\n",
    "from src.test_utils import (\n",
    "    TestGenerator,\n",
    "    choose_100,\n",
    "    embNet,\n",
    "    eval_submission,\n",
    "    find_batch_size,\n",
    "    get_emb_model,\n",
    "    load_submission,\n",
    "    pairwise_distances,\n",
    ")\n",
    "from tqdm import tqdm\n",
    "\n",
    "from src.utils import euclidean_distance, loss\n",
    "from _data.artist_data.ny_baseline import FeaturesLoader, NT_Xent, TestLoader, SimCLR, BasicNet, inference, get_ranked_list,eval_submission\n",
    "InteractiveShell.ast_node_interactivity = \"all\""
   ]
  },
  {
   "cell_type": "code",
   "execution_count": 7,
   "id": "4a8aae3a-a20e-4a70-84e6-da7355560ffb",
   "metadata": {},
   "outputs": [],
   "source": [
    "root_dir = \"/app/_data/artist_data/\"\n",
    "# mod_dirs = [\"/app/_data/artist_data/models/test_arch/constr_7/\", \"/app/_data/artist_data/models/test_arch/constr_8/\", \"/app/_data/artist_data/models/test_arch/constr_9/\"]\n",
    "mod_dirs = [\"/app/_data/artist_data/models/test_arch/tripl_6/\"]"
   ]
  },
  {
   "cell_type": "code",
   "execution_count": 3,
   "id": "e205957c-676f-45a9-b2b9-bd560daf046d",
   "metadata": {},
   "outputs": [],
   "source": [
    "train = pd.read_csv(os.path.join(root_dir, \"train.csv\"))\n",
    "test = pd.read_csv(os.path.join(root_dir, \"test_meta.tsv\"), sep=\"\\t\")\n",
    "test[\"path\"] = test[\"archive_features_path\"].apply(\n",
    "    lambda x: os.path.join(root_dir, \"test_features\", x)\n",
    ")\n",
    "train[\"subset\"] = train[\"archive_features_path\"].str.split(\"/\").str[0].astype(\"int\")"
   ]
  },
  {
   "cell_type": "code",
   "execution_count": 4,
   "id": "e6a43283-bf8c-4111-a26a-62918ecb1230",
   "metadata": {
    "tags": []
   },
   "outputs": [],
   "source": [
    "track2artist_map = train.set_index(\"trackid\")[\"artistid\"].to_dict()\n",
    "track2subset_map = train.set_index(\"trackid\")[\"subset\"].to_dict()\n",
    "artist2tracks_map = train.groupby(\"artistid\").agg(list)[\"trackid\"].to_dict()"
   ]
  },
  {
   "cell_type": "markdown",
   "id": "85668232-be43-4401-88f6-ddf755fad158",
   "metadata": {},
   "source": [
    "## model"
   ]
  },
  {
   "cell_type": "code",
   "execution_count": 8,
   "id": "c19f5b2e-17f9-439d-98ba-3f22b0fd8ecc",
   "metadata": {},
   "outputs": [
    {
     "data": {
      "text/plain": [
       "['/app/_data/artist_data/models/test_arch/tripl_6/model_0.19850705564022064.h5']"
      ]
     },
     "execution_count": 8,
     "metadata": {},
     "output_type": "execute_result"
    }
   ],
   "source": [
    "mod_paths = glob.glob(os.path.join(mod_dirs[0], '*_*.h5'))\n",
    "mod_paths"
   ]
  },
  {
   "cell_type": "code",
   "execution_count": 9,
   "id": "fe7ca626-0145-4116-88de-898dbfab8aa7",
   "metadata": {},
   "outputs": [],
   "source": [
    "model = keras.models.load_model(mod_paths[0], compile=False)\n",
    "model = [x for x in model.layers if x.name == 'embedding'][0]"
   ]
  },
  {
   "cell_type": "code",
   "execution_count": 5,
   "id": "b4211f74-5042-401a-b52e-dcde48f6ed24",
   "metadata": {},
   "outputs": [],
   "source": [
    "# embedding_nets = [embNet(path=x) for x in mod_dirs]\n",
    "embedding_nets = [get_emb_model(path=x) for x in mod_dirs]"
   ]
  },
  {
   "cell_type": "markdown",
   "id": "c3e9809f-f067-4d23-8d4b-82c4a9003ab3",
   "metadata": {},
   "source": [
    "## feature vectors"
   ]
  },
  {
   "cell_type": "code",
   "execution_count": 66,
   "id": "89fa1848-a097-4515-9d74-f7d5149f3a95",
   "metadata": {},
   "outputs": [],
   "source": [
    "val = train.query(\"subset in [2, 3]\").reset_index(drop=True)\n",
    "val_gen = TestGenerator(\n",
    "    data=val,\n",
    "    img_size=(512, 60),\n",
    "    batch_size=1,\n",
    "    norm=False,\n",
    "    n_chanels=1,\n",
    ")"
   ]
  },
  {
   "cell_type": "code",
   "execution_count": 67,
   "id": "422b70fe-8fc8-4b83-9ce0-2d5c131e1710",
   "metadata": {},
   "outputs": [
    {
     "name": "stdout",
     "output_type": "stream",
     "text": [
      "33320/33320 [==============================] - 81s 2ms/step\n"
     ]
    }
   ],
   "source": [
    "prediction = m.predict(val_gen)"
   ]
  },
  {
   "cell_type": "code",
   "execution_count": 68,
   "id": "97a29fac-02e1-479f-8b71-4351dd7874d5",
   "metadata": {},
   "outputs": [],
   "source": [
    "emb = {k: v for k,v in zip(val['trackid'].tolist(), np.squeeze(prediction))}"
   ]
  },
  {
   "cell_type": "code",
   "execution_count": 69,
   "id": "72cf25c5-bee8-4565-a380-49b8182c0b02",
   "metadata": {},
   "outputs": [],
   "source": [
    "subm = get_ranked_list(embeds=emb, top_size=100, annoy_num_trees=256)"
   ]
  },
  {
   "cell_type": "code",
   "execution_count": 70,
   "id": "3dc54b8a-23db-4ccf-a3cf-5c6e68b76f3a",
   "metadata": {},
   "outputs": [
    {
     "name": "stderr",
     "output_type": "stream",
     "text": [
      "100% 33320/33320 [00:10<00:00, 3174.52it/s]\n"
     ]
    },
    {
     "data": {
      "text/plain": [
       "0.19267174745578516"
      ]
     },
     "execution_count": 70,
     "metadata": {},
     "output_type": "execute_result"
    }
   ],
   "source": [
    "val_ndcg_encoder = eval_submission(submission = subm, gt_meta_info = val,top_size=100)\n",
    "val_ndcg_encoder"
   ]
  },
  {
   "cell_type": "code",
   "execution_count": null,
   "id": "142550c7-e008-4959-915b-b3a3d51d7d4b",
   "metadata": {},
   "outputs": [],
   "source": []
  },
  {
   "cell_type": "code",
   "execution_count": null,
   "id": "06a1c18f-30f0-40b5-a75d-c3396ba7a834",
   "metadata": {},
   "outputs": [],
   "source": []
  },
  {
   "cell_type": "code",
   "execution_count": null,
   "id": "735152c5-e44a-415f-a920-7b0433b082a0",
   "metadata": {},
   "outputs": [
    {
     "name": "stdout",
     "output_type": "stream",
     "text": [
      "33284/33284 [==============================] - 87s 3ms/step\n",
      "33284/33284 [==============================] - 87s 3ms/step\n",
      "33284/33284 [==============================] - 86s 3ms/step\n"
     ]
    }
   ],
   "source": [
    "prediction = [embedding_nets[i].predict(val_gen) for i in range(len(embedding_nets))]"
   ]
  },
  {
   "cell_type": "code",
   "execution_count": null,
   "id": "b66233e8-6160-46d9-b350-8f3528964303",
   "metadata": {},
   "outputs": [],
   "source": [
    "for model in embedding_nets:\n",
    "    del model"
   ]
  },
  {
   "cell_type": "code",
   "execution_count": null,
   "id": "f5556b9d-1fbe-42a7-afc7-bf96f0abd07c",
   "metadata": {},
   "outputs": [],
   "source": [
    "tf.keras.backend.clear_session()"
   ]
  },
  {
   "cell_type": "code",
   "execution_count": 36,
   "id": "43acad5d-569c-45db-8701-afdcf3d94b47",
   "metadata": {},
   "outputs": [],
   "source": [
    "with tf.device(\"/CPU:0\"):\n",
    "    dists = [pairwise_distances(x) for x in prediction]"
   ]
  },
  {
   "cell_type": "code",
   "execution_count": 37,
   "id": "3e77b1b6-1a66-4c03-b0b0-d1367b414d90",
   "metadata": {},
   "outputs": [],
   "source": [
    "pred = np.mean(np.array(dists), 0)"
   ]
  },
  {
   "cell_type": "code",
   "execution_count": 12,
   "id": "75fb0500-a6d9-4df0-be42-d112334acf8e",
   "metadata": {},
   "outputs": [],
   "source": [
    "# len_count = []\n",
    "# for i in tqdm(train.index.tolist()):\n",
    "#     nearest = np.argsort(dists[i])[1:101]\n",
    "#     artist_id = train.loc[i][\"artistid\"]\n",
    "#     ids = train.loc[nearest,\"artistid\"]\n",
    "#     len_count.append(sum([1 for x in ids if x == artist_id]))\n",
    "# plt.hist(len_count)\n",
    "# plt.show();"
   ]
  },
  {
   "cell_type": "code",
   "execution_count": 24,
   "id": "2b972d21-4985-45ab-aed4-6b6fc35fca46",
   "metadata": {},
   "outputs": [
    {
     "data": {
      "text/plain": [
       "(33284, 1024)"
      ]
     },
     "execution_count": 24,
     "metadata": {},
     "output_type": "execute_result"
    }
   ],
   "source": [
    "prediction[2].shape"
   ]
  },
  {
   "cell_type": "code",
   "execution_count": 26,
   "id": "bca24523-2669-4df1-8481-01cbf0b5b0fa",
   "metadata": {},
   "outputs": [],
   "source": [
    "pred = np.mean(np.array(prediction[1:]), 0)\n",
    "with tf.device(\"/CPU:0\"):\n",
    "    dist = pairwise_distances(pred)"
   ]
  },
  {
   "cell_type": "code",
   "execution_count": 46,
   "id": "74510556-2dd8-4109-a70a-760b44b8a554",
   "metadata": {},
   "outputs": [],
   "source": [
    "def choose_100(\n",
    "    prediction, df, val=True, path_to_save=os.getcwd(), file_ix=1, n_samples=100\n",
    "):\n",
    "    def pairwise_distances_np(array):\n",
    "        dists = (\n",
    "            np.sum(np.square(array), axis=1, keepdims=True)\n",
    "            + np.sum(np.square(np.transpose(array, (1, 0))), axis=0, keepdims=True)\n",
    "            - 2.0 * np.matmul(array, np.transpose(array, (1, 0)))\n",
    "        )\n",
    "        return dists\n",
    "\n",
    "    dists = pairwise_distances_np(prediction)\n",
    "    neigh = {}\n",
    "    with open(os.path.join(path_to_save, f\"submission_{file_ix}\"), \"w\") as f:\n",
    "        for ix in tqdm(range(prediction.shape[0])):\n",
    "            trackid = df.loc[ix, \"trackid\"]\n",
    "            nearest_100 = np.argsort(dists[ix])[: n_samples + 1]\n",
    "            tracks_100 = df.loc[nearest_100, \"trackid\"].tolist()\n",
    "            neigh[trackid] = {\"tracks\": [x for x in tracks_100 if x != trackid]}\n",
    "            if val:\n",
    "                artist_100 = df.loc[nearest_100, \"artistid\"].tolist()\n",
    "                neigh[trackid][\"artists\"] = artist_100\n",
    "                neigh[trackid][\"artistid\"] = df.loc[ix, \"artistid\"]\n",
    "            f.write(\n",
    "                \"{}\\t{}\\n\".format(\n",
    "                    trackid,\n",
    "                    \" \".join(list(map(str, tracks_100))),\n",
    "                )\n",
    "            )\n",
    "    return neigh"
   ]
  },
  {
   "cell_type": "code",
   "execution_count": 71,
   "id": "9162dd1e-db36-4d83-bd64-6c638069850d",
   "metadata": {},
   "outputs": [
    {
     "name": "stderr",
     "output_type": "stream",
     "text": [
      "100% 33320/33320 [02:06<00:00, 264.08it/s]\n"
     ]
    }
   ],
   "source": [
    "neigh = choose_100(\n",
    "    np.squeeze(prediction),\n",
    "    df=val,\n",
    "    val=True,\n",
    "    path_to_save=os.getcwd(),file_ix=7\n",
    ")"
   ]
  },
  {
   "cell_type": "markdown",
   "id": "a033290d-1713-4436-bbca-ed9e9227556a",
   "metadata": {},
   "source": [
    "## calculate score"
   ]
  },
  {
   "cell_type": "code",
   "execution_count": 72,
   "id": "f961ead1-5002-4ec8-bb0a-e44f80ce4331",
   "metadata": {},
   "outputs": [],
   "source": [
    "result = load_submission(\n",
    "    input_path=os.path.join(os.getcwd(), \"submission_7\"), max_top_size=100\n",
    ")"
   ]
  },
  {
   "cell_type": "markdown",
   "id": "ae6e79d7-7d22-4a3e-9cea-fb736013d07d",
   "metadata": {},
   "source": [
    "it's better to mean predictions, not distanses?"
   ]
  },
  {
   "cell_type": "code",
   "execution_count": 73,
   "id": "7fc6891c-c1d9-4c1d-a0b9-05fe94a78d69",
   "metadata": {},
   "outputs": [],
   "source": [
    "from src.test_utils import eval_submission as ev_sub"
   ]
  },
  {
   "cell_type": "code",
   "execution_count": 74,
   "id": "1d7847f9-7ac4-4770-897b-2414bb56be53",
   "metadata": {},
   "outputs": [
    {
     "data": {
      "text/plain": [
       "{1: 0.0,\n",
       " 2: 0.1971703313133137,\n",
       " 3: 0.19347741106964236,\n",
       " 4: 0.0,\n",
       " 5: 0.0,\n",
       " 6: 0.0,\n",
       " 7: 0.0,\n",
       " 8: 0.0,\n",
       " 9: 0.0,\n",
       " 0: 0.0}"
      ]
     },
     "execution_count": 74,
     "metadata": {},
     "output_type": "execute_result"
    }
   ],
   "source": [
    "r = ev_sub(train, result, 100)\n",
    "r"
   ]
  },
  {
   "cell_type": "code",
   "execution_count": null,
   "id": "f466bd8e-dbb1-412b-837b-c2e29dc4c702",
   "metadata": {},
   "outputs": [],
   "source": []
  }
 ],
 "metadata": {
  "kernelspec": {
   "display_name": "Python 3 (ipykernel)",
   "language": "python",
   "name": "python3"
  },
  "language_info": {
   "codemirror_mode": {
    "name": "ipython",
    "version": 3
   },
   "file_extension": ".py",
   "mimetype": "text/x-python",
   "name": "python",
   "nbconvert_exporter": "python",
   "pygments_lexer": "ipython3",
   "version": "3.8.10"
  }
 },
 "nbformat": 4,
 "nbformat_minor": 5
}
