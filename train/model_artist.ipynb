{
 "cells": [
  {
   "cell_type": "code",
   "execution_count": 1,
   "id": "1a3a78f8-d017-49ec-8e35-8b3d45184101",
   "metadata": {},
   "outputs": [],
   "source": [
    "import glob\n",
    "import json\n",
    "import os\n",
    "import random as rnd\n",
    "import shutil\n",
    "\n",
    "import keras.backend as K\n",
    "import matplotlib.pyplot as plt\n",
    "import numpy as np\n",
    "import pandas as pd\n",
    "import seaborn as sns\n",
    "import tensorflow as tf\n",
    "from IPython.core.interactiveshell import InteractiveShell\n",
    "from sklearn.model_selection import StratifiedGroupKFold\n",
    "from tensorflow import keras\n",
    "from tqdm import tqdm\n",
    "\n",
    "InteractiveShell.ast_node_interactivity = \"all\""
   ]
  },
  {
   "cell_type": "code",
   "execution_count": 2,
   "id": "d59dddd2-3968-411f-ba75-4554fc539a94",
   "metadata": {},
   "outputs": [],
   "source": [
    "root_dir = \"/app/_data/artist_data/\"\n",
    "SEED = 39\n",
    "BATCH_SIZE = 32\n",
    "IMG_SIZE = (512, 81)\n",
    "N_CHANELS = 1\n",
    "INPUT_SIZE = (IMG_SIZE[0], IMG_SIZE[1], N_CHANELS)\n",
    "N_FOLDS = 6\n",
    "NORM = False"
   ]
  },
  {
   "cell_type": "code",
   "execution_count": 3,
   "id": "0494279b-f756-4873-92d8-92e8a2e9347c",
   "metadata": {},
   "outputs": [],
   "source": [
    "train = pd.read_csv(os.path.join(root_dir, \"train.csv\"))"
   ]
  },
  {
   "cell_type": "markdown",
   "id": "37fd340b-6dce-4794-9339-e1a175f96b11",
   "metadata": {
    "tags": []
   },
   "source": [
    "## train_val_split"
   ]
  },
  {
   "cell_type": "code",
   "execution_count": 4,
   "id": "97516dd6-b2df-4e38-88f2-192f9787350d",
   "metadata": {},
   "outputs": [
    {
     "name": "stderr",
     "output_type": "stream",
     "text": [
      "/usr/local/lib/python3.8/dist-packages/sklearn/model_selection/_split.py:885: UserWarning: The least populated class in y has only 3 members, which is less than n_splits=6.\n",
      "  warnings.warn(\n"
     ]
    }
   ],
   "source": [
    "gkf = StratifiedGroupKFold(n_splits=N_FOLDS, shuffle=True, random_state=SEED)\n",
    "for n, (train_ids, val_ids) in enumerate(\n",
    "    gkf.split(\n",
    "        X=train[[\"artistid\", \"artistid_count\"]],\n",
    "        y=train[\"artistid_count\"],\n",
    "        groups=train[\"artistid\"],\n",
    "    )\n",
    "):\n",
    "    train.loc[val_ids, \"fold\"] = n"
   ]
  },
  {
   "cell_type": "code",
   "execution_count": 5,
   "id": "7083af2d-127e-4761-8277-c4851828823a",
   "metadata": {},
   "outputs": [
    {
     "name": "stderr",
     "output_type": "stream",
     "text": [
      "100% 18468/18468 [00:43<00:00, 423.37it/s]\n"
     ]
    }
   ],
   "source": [
    "FOLD = 0\n",
    "artist_ids = train[\"artistid\"].unique().tolist()\n",
    "train_set = train[train[\"fold\"] != FOLD][\"artistid\"].unique()\n",
    "val_set = train[train[\"fold\"] == FOLD][\"artistid\"].unique()\n",
    "train_data, val_data = {}, {}\n",
    "for art_id in tqdm(artist_ids):\n",
    "    new_df = train.query(\"artistid == @art_id\")\n",
    "    paths = new_df[\"path\"].values.tolist()\n",
    "    tracks = new_df[\"trackid\"].values.tolist()\n",
    "    if art_id in train_set:\n",
    "        train_data[art_id] = {\n",
    "            \"tracks\": tracks,\n",
    "            \"paths\": paths,\n",
    "            \"count\": new_df.shape[0],\n",
    "        }\n",
    "    else:\n",
    "        val_data[art_id] = {\"tracks\": tracks, \"paths\": paths, \"count\": new_df.shape[0]}"
   ]
  },
  {
   "cell_type": "markdown",
   "id": "d14185ca-a054-4151-a8a0-5efa5f6c45e6",
   "metadata": {},
   "source": [
    "## DataGenerator"
   ]
  },
  {
   "cell_type": "code",
   "execution_count": 7,
   "id": "fcc7ecba-3bc6-4603-8889-21bc7a57d2cc",
   "metadata": {},
   "outputs": [],
   "source": [
    "class DataGenerator(keras.utils.Sequence):\n",
    "    def __init__(self, data, img_size, batch_size, norm, n_chanels, shuffle):\n",
    "        self.data = data\n",
    "        self.img_size = img_size\n",
    "        self.batch_size = batch_size\n",
    "        self.norm = norm\n",
    "        self.n_chanels = n_chanels\n",
    "        if self.n_chanels is None:\n",
    "            self.n_chanels = 1\n",
    "        self.shuffle = shuffle\n",
    "        self.artist_ids = [x for x in self.data.keys()]\n",
    "        if self.shuffle:\n",
    "            np.random.shuffle(self.artist_ids)\n",
    "\n",
    "    def __len__(self):\n",
    "        return len(self.artist_ids) // self.batch_size\n",
    "\n",
    "    def on_epoch_end(self):\n",
    "        if self.shuffle:\n",
    "            np.random.shuffle(self.artist_ids)\n",
    "\n",
    "    def load_img(self, path):\n",
    "        img = np.load(path).astype(\"float32\")\n",
    "        if self.norm:\n",
    "            img -= img.min()\n",
    "            img /= img.max()\n",
    "        if img.shape != self.img_size:\n",
    "            wpad = self.img_size[1] - img.shape[1]\n",
    "            wpad_l = wpad // 2\n",
    "            wpad_r = wpad - wpad_l\n",
    "            img = np.pad(\n",
    "                img,\n",
    "                pad_width=((0, 0), (wpad_l, wpad_r)),\n",
    "                mode=\"constant\",\n",
    "                constant_values=0,\n",
    "            )\n",
    "        img = np.expand_dims(img, -1)\n",
    "        if self.n_chanels != 1:\n",
    "            img = np.concatenate([img, img, img], -1)\n",
    "        return img\n",
    "\n",
    "    def make_pair(self, ix, pos_label):\n",
    "        artist_id = self.artist_ids[ix]\n",
    "        if self.data[artist_id][\"count\"] < 2:\n",
    "            pos_label = False\n",
    "        if pos_label:\n",
    "            path1, path2 = rnd.sample(self.data[artist_id][\"paths\"], 2)\n",
    "        else:\n",
    "            path1 = rnd.sample(self.data[artist_id][\"paths\"], 1)[0]\n",
    "            new_artist_id = artist_id\n",
    "            while artist_id == new_artist_id:\n",
    "                new_artist_id = rnd.sample(self.artist_ids, 1)[0]\n",
    "                path2 = rnd.sample(self.data[new_artist_id][\"paths\"], 1)[0]\n",
    "        return pos_label, (path1, path2)\n",
    "\n",
    "    def _get_one(self, ix, pos_label):\n",
    "        upd_pos_label, [path1, path2] = self.make_pair(ix=ix, pos_label=pos_label)\n",
    "        img1 = self.load_img(path1)\n",
    "        img2 = self.load_img(path2)\n",
    "        y = 0 if upd_pos_label else 1\n",
    "        return (img1, img2), y\n",
    "\n",
    "    def __getitem__(self, batch_ix):\n",
    "        b_X1 = np.zeros(\n",
    "            (self.batch_size, self.img_size[0], self.img_size[1], self.n_chanels),\n",
    "            dtype=np.float32,\n",
    "        )\n",
    "        b_X2 = np.zeros(\n",
    "            (self.batch_size, self.img_size[0], self.img_size[1], self.n_chanels),\n",
    "            dtype=np.float32,\n",
    "        )\n",
    "        b_Y = np.zeros(\n",
    "            self.batch_size,\n",
    "            dtype=np.float32,\n",
    "        )\n",
    "        for i in range(self.batch_size):\n",
    "            pos_label = np.random.random() > 0.5\n",
    "            (b_X1[i], b_X2[i]), b_Y[i] = self._get_one(\n",
    "                i + self.batch_size * batch_ix, pos_label\n",
    "            )\n",
    "        return {\"input1\": b_X1, \"input2\": b_X2}, b_Y"
   ]
  },
  {
   "cell_type": "code",
   "execution_count": 8,
   "id": "bb8785ec-8788-4e73-91be-527bddeaa20d",
   "metadata": {},
   "outputs": [],
   "source": [
    "train_gen = DataGenerator(\n",
    "    data=train_data,\n",
    "    img_size=IMG_SIZE,\n",
    "    batch_size=BATCH_SIZE,\n",
    "    norm=NORM,\n",
    "    n_chanels=N_CHANELS,\n",
    "    shuffle=True,\n",
    ")\n",
    "val_gen = DataGenerator(\n",
    "    data=val_data,\n",
    "    img_size=IMG_SIZE,\n",
    "    batch_size=BATCH_SIZE,\n",
    "    norm=NORM,\n",
    "    n_chanels=N_CHANELS,\n",
    "    shuffle=False,\n",
    ")"
   ]
  },
  {
   "cell_type": "markdown",
   "id": "22b3ee0c-5514-405f-bd0c-b4c9c8c84ca1",
   "metadata": {},
   "source": [
    "### balance between 1 and 0"
   ]
  },
  {
   "cell_type": "code",
   "execution_count": 8,
   "id": "12ae22f3-a054-4967-9b1f-321c330a3b7a",
   "metadata": {},
   "outputs": [
    {
     "name": "stderr",
     "output_type": "stream",
     "text": [
      "100% 480/480 [00:11<00:00, 40.35it/s]"
     ]
    },
    {
     "name": "stdout",
     "output_type": "stream",
     "text": [
      "0.496 of negative pairs, 0.504 of negative pairs\n"
     ]
    },
    {
     "name": "stderr",
     "output_type": "stream",
     "text": [
      "\n"
     ]
    }
   ],
   "source": [
    "tgs = []\n",
    "for i in tqdm(range(train_gen.__len__())):\n",
    "    a = train_gen.__getitem__(i)\n",
    "    tgs.append(a[1].mean())\n",
    "print(f\"{np.mean(tgs):.3f} of negative pairs, {1 - np.mean(tgs):.3f} of negative pairs\")"
   ]
  },
  {
   "cell_type": "markdown",
   "id": "1733a278-c7e4-4516-8f32-b58c517e6ac3",
   "metadata": {},
   "source": [
    "## Build model"
   ]
  },
  {
   "cell_type": "code",
   "execution_count": 9,
   "id": "5004d50a-3c56-405c-a184-7de9c1d9e61b",
   "metadata": {},
   "outputs": [],
   "source": [
    "def euclidean_distance(vects):\n",
    "    x, y = vects\n",
    "    sum_square = tf.math.reduce_sum(tf.math.square(x - y), axis=1, keepdims=True)\n",
    "    return tf.math.sqrt(tf.math.maximum(sum_square, tf.keras.backend.epsilon()))"
   ]
  },
  {
   "cell_type": "code",
   "execution_count": 20,
   "id": "5722020e-e811-444b-a586-f1d2adf28d4a",
   "metadata": {},
   "outputs": [],
   "source": [
    "def construct_embedding_model(\n",
    "    input,\n",
    "    embedding_len=1024,\n",
    "    n_blocks=4,\n",
    "    kernel_size=(10, 3),\n",
    "    activation_fn=\"relu\",\n",
    "    batch_norm=False,\n",
    "):\n",
    "    depth_vector = 2 ** ((np.arange(n_blocks) + 1) * 2)\n",
    "\n",
    "    def base_block(x, i):\n",
    "        x = keras.layers.Conv2D(\n",
    "            depth_vector[i],\n",
    "            kernel_size,\n",
    "            activation=activation_fn,\n",
    "            name=f\"Conv2D_{i + 1}\",\n",
    "        )(x)\n",
    "        x = keras.layers.AveragePooling2D(pool_size=(2, 2), name=f\"avg_pool_{i + 1}\")(x)\n",
    "        return x\n",
    "\n",
    "    if batch_norm:\n",
    "        x = keras.layers.BatchNormalization()(input)\n",
    "    else:\n",
    "        x = input\n",
    "    for i in range(n_blocks):\n",
    "        x = base_block(x, i)\n",
    "    x = keras.layers.Flatten(name=\"flatten\")(x)\n",
    "    # if batch_norm:\n",
    "    #     x = keras.layers.BatchNormalization(name=\"batch_norm_last\")(x)\n",
    "    x = keras.layers.Dense(\n",
    "        embedding_len, activation=activation_fn, name=f\"dense_{embedding_len}\"\n",
    "    )(x)\n",
    "    embedding_net = keras.Model(inputs=input, outputs=x, name=f\"embedding\")\n",
    "    return embedding_net"
   ]
  },
  {
   "cell_type": "code",
   "execution_count": 21,
   "id": "04396cd3-2a61-4ab1-a0c6-dd6a612a3d2e",
   "metadata": {},
   "outputs": [],
   "source": [
    "def make_model(\n",
    "    input_shape=(512, 81, 1),\n",
    "    n_blocks=4,\n",
    "    kernel_size=(10, 3),\n",
    "    embedding_len=1024,\n",
    "    activation_fn=\"relu\",\n",
    "    batch_norm=False,\n",
    "):\n",
    "    base_model = construct_embedding_model(\n",
    "        input = keras.layers.Input(input_shape),\n",
    "        embedding_len=embedding_len,\n",
    "        n_blocks=n_blocks,\n",
    "        kernel_size=kernel_size,\n",
    "        activation_fn=activation_fn,\n",
    "        batch_norm=batch_norm,\n",
    "    )\n",
    "\n",
    "    input_1 = keras.layers.Input(input_shape, name=\"input1\")\n",
    "    input_2 = keras.layers.Input(input_shape, name=\"input2\")\n",
    "    node1 = base_model(input_1)\n",
    "    node2 = base_model(input_2)\n",
    "\n",
    "    merge_layer = keras.layers.Lambda(euclidean_distance)([node1, node2])\n",
    "    output_layer = keras.layers.Dense(1, activation=\"sigmoid\")(merge_layer)\n",
    "    siamese = keras.Model(inputs=[input_1, input_2], outputs=output_layer)\n",
    "    return siamese"
   ]
  },
  {
   "cell_type": "code",
   "execution_count": 22,
   "id": "bf08f095-6800-4bb2-83f9-79c8e5900896",
   "metadata": {},
   "outputs": [],
   "source": [
    "# tf.keras.utils.plot_model(\n",
    "#     make_model(\n",
    "#         input_shape=(512, 81, 1),\n",
    "#         n_blocks=4,\n",
    "#         embedding_len=1024,\n",
    "#         kernel_size=(10, 3),\n",
    "#         activation_fn=\"relu\",\n",
    "#         batch_norm=False,\n",
    "#     ),\n",
    "#     to_file=\"mod.png\",\n",
    "#     show_shapes=True,\n",
    "#     expand_nested=True,\n",
    "# )"
   ]
  },
  {
   "cell_type": "code",
   "execution_count": 23,
   "id": "77b8323f-e794-4edf-8b7c-0a026ed49029",
   "metadata": {},
   "outputs": [],
   "source": [
    "def loss(margin=1):\n",
    "    def contrastive_loss(y_true, y_pred):\n",
    "        square_pred = tf.math.square(y_pred)\n",
    "        margin_square = tf.math.square(tf.math.maximum(margin - (y_pred), 0))\n",
    "        return tf.math.reduce_mean(\n",
    "            (1 - y_true) * square_pred + (y_true) * margin_square\n",
    "        )\n",
    "\n",
    "    return contrastive_loss"
   ]
  },
  {
   "cell_type": "code",
   "execution_count": 24,
   "id": "45f7c55e-2b21-40c1-b3f9-6a0fbb60226d",
   "metadata": {},
   "outputs": [],
   "source": [
    "def make_callbacks(\n",
    "    path, monitor=\"val_loss\", mode=\"min\", reduce_patience=10, stop_patience=100\n",
    "):\n",
    "    callbacks = [\n",
    "        keras.callbacks.EarlyStopping(\n",
    "            monitor=monitor,\n",
    "            patience=stop_patience,\n",
    "            restore_best_weights=True,\n",
    "            verbose=1,\n",
    "            mode=mode,\n",
    "        ),\n",
    "        keras.callbacks.ModelCheckpoint(\n",
    "            os.path.join(path, \"model.h5\"),\n",
    "            monitor=monitor,\n",
    "            verbose=1,\n",
    "            save_best_only=True,\n",
    "            save_weights_only=False,\n",
    "            mode=mode,\n",
    "            save_freq=\"epoch\",\n",
    "        ),\n",
    "        keras.callbacks.ReduceLROnPlateau(\n",
    "            monitor=monitor,\n",
    "            factor=0.9,\n",
    "            patience=reduce_patience,\n",
    "            verbose=1,\n",
    "            mode=mode,\n",
    "            min_delta=1e-4,\n",
    "            min_lr=0.00000001,\n",
    "        ),\n",
    "        keras.callbacks.TensorBoard(\n",
    "            log_dir=\"/app/.tensorboard/constr_3/\", histogram_freq=0\n",
    "        ),\n",
    "        keras.callbacks.BackupAndRestore(os.path.join(path, \"backup\")),\n",
    "        keras.callbacks.TerminateOnNaN(),\n",
    "    ]\n",
    "    return callbacks"
   ]
  },
  {
   "cell_type": "code",
   "execution_count": 29,
   "id": "5b0c758c-0b21-44fd-9344-e5906cd31925",
   "metadata": {},
   "outputs": [],
   "source": [
    "model = make_model(\n",
    "    input_shape=INPUT_SIZE,\n",
    "    n_blocks=4,\n",
    "    embedding_len=2048,\n",
    "    kernel_size=(10, 3),\n",
    "    activation_fn=\"relu\",\n",
    "    batch_norm=False,\n",
    ")"
   ]
  },
  {
   "cell_type": "code",
   "execution_count": null,
   "id": "58504462-0866-40a3-a415-1f151e53e8c5",
   "metadata": {},
   "outputs": [],
   "source": [
    "# shutil.rmtree(mod_folder)\n",
    "# shutil.rmtree('/app/.tensorboard/constr_3/')"
   ]
  },
  {
   "cell_type": "code",
   "execution_count": 31,
   "id": "c6698c0a-6a97-4f8a-80d4-1eebb271c864",
   "metadata": {},
   "outputs": [],
   "source": [
    "mod_folder = \"/app/_data/artist_data/models/test_arch/constr_3/\"\n",
    "# shutil.rmtree(mod_folder)\n",
    "# shutil.rmtree('/app/.tensorboard/constr_3/')\n",
    "optimizer = keras.optimizers.Adam(learning_rate=0.001)\n",
    "callbacks = make_callbacks(\n",
    "    path = mod_folder, monitor=\"val_loss\", mode=\"min\", reduce_patience=10, stop_patience=100\n",
    ")\n",
    "model.compile(\n",
    "    loss=loss(margin=1),\n",
    "    optimizer=optimizer,\n",
    "    metrics=[\"accuracy\", tf.keras.metrics.Precision(), tf.keras.metrics.Recall()],\n",
    ")"
   ]
  },
  {
   "cell_type": "code",
   "execution_count": 32,
   "id": "543ee743-c1fb-422f-b204-7b786691962b",
   "metadata": {
    "collapsed": true,
    "jupyter": {
     "outputs_hidden": true
    },
    "tags": []
   },
   "outputs": [
    {
     "name": "stdout",
     "output_type": "stream",
     "text": [
      "Epoch 1/250\n",
      "480/480 [==============================] - ETA: 0s - loss: 0.2389 - accuracy: 0.5900 - precision_2: 0.5682 - recall_2: 0.6311\n",
      "Epoch 1: val_loss improved from inf to 0.23333, saving model to /app/_data/artist_data/models/test_arch/constr_3/model.h5\n",
      "480/480 [==============================] - 23s 39ms/step - loss: 0.2389 - accuracy: 0.5900 - precision_2: 0.5682 - recall_2: 0.6311 - val_loss: 0.2333 - val_accuracy: 0.6253 - val_precision_2: 0.6157 - val_recall_2: 0.5802 - lr: 0.0010\n",
      "Epoch 2/250\n",
      "478/480 [============================>.] - ETA: 0s - loss: 0.2274 - accuracy: 0.6196 - precision_2: 0.6400 - recall_2: 0.6220\n",
      "Epoch 2: val_loss did not improve from 0.23333\n",
      "480/480 [==============================] - 19s 36ms/step - loss: 0.2274 - accuracy: 0.6198 - precision_2: 0.6401 - recall_2: 0.6213 - val_loss: 0.2351 - val_accuracy: 0.6032 - val_precision_2: 0.7252 - val_recall_2: 0.4242 - lr: 0.0010\n",
      "Epoch 3/250\n",
      "480/480 [==============================] - ETA: 0s - loss: 0.2116 - accuracy: 0.6886 - precision_2: 0.6646 - recall_2: 0.7829\n",
      "Epoch 3: val_loss improved from 0.23333 to 0.20430, saving model to /app/_data/artist_data/models/test_arch/constr_3/model.h5\n",
      "480/480 [==============================] - 19s 37ms/step - loss: 0.2116 - accuracy: 0.6886 - precision_2: 0.6646 - recall_2: 0.7829 - val_loss: 0.2043 - val_accuracy: 0.7139 - val_precision_2: 0.6600 - val_recall_2: 0.8540 - lr: 0.0010\n",
      "Epoch 4/250\n",
      "480/480 [==============================] - ETA: 0s - loss: 0.1960 - accuracy: 0.7331 - precision_2: 0.7079 - recall_2: 0.7767\n",
      "Epoch 4: val_loss improved from 0.20430 to 0.19144, saving model to /app/_data/artist_data/models/test_arch/constr_3/model.h5\n",
      "480/480 [==============================] - 19s 37ms/step - loss: 0.1960 - accuracy: 0.7331 - precision_2: 0.7079 - recall_2: 0.7767 - val_loss: 0.1914 - val_accuracy: 0.7389 - val_precision_2: 0.6966 - val_recall_2: 0.8263 - lr: 0.0010\n",
      "Epoch 5/250\n",
      "478/480 [============================>.] - ETA: 0s - loss: 0.1881 - accuracy: 0.7419 - precision_2: 0.7320 - recall_2: 0.7526\n",
      "Epoch 5: val_loss improved from 0.19144 to 0.18980, saving model to /app/_data/artist_data/models/test_arch/constr_3/model.h5\n",
      "480/480 [==============================] - 19s 38ms/step - loss: 0.1882 - accuracy: 0.7415 - precision_2: 0.7319 - recall_2: 0.7516 - val_loss: 0.1898 - val_accuracy: 0.7383 - val_precision_2: 0.7921 - val_recall_2: 0.6377 - lr: 0.0010\n",
      "Epoch 6/250\n",
      "478/480 [============================>.] - ETA: 0s - loss: 0.1793 - accuracy: 0.7573 - precision_2: 0.7482 - recall_2: 0.7721\n",
      "Epoch 6: val_loss improved from 0.18980 to 0.17712, saving model to /app/_data/artist_data/models/test_arch/constr_3/model.h5\n",
      "480/480 [==============================] - 19s 37ms/step - loss: 0.1793 - accuracy: 0.7576 - precision_2: 0.7483 - recall_2: 0.7726 - val_loss: 0.1771 - val_accuracy: 0.7734 - val_precision_2: 0.7632 - val_recall_2: 0.7260 - lr: 0.0010\n",
      "Epoch 7/250\n",
      "478/480 [============================>.] - ETA: 0s - loss: 0.1749 - accuracy: 0.7653 - precision_2: 0.7609 - recall_2: 0.7785\n",
      "Epoch 7: val_loss improved from 0.17712 to 0.16848, saving model to /app/_data/artist_data/models/test_arch/constr_3/model.h5\n",
      "480/480 [==============================] - 19s 38ms/step - loss: 0.1748 - accuracy: 0.7654 - precision_2: 0.7615 - recall_2: 0.7783 - val_loss: 0.1685 - val_accuracy: 0.7751 - val_precision_2: 0.7517 - val_recall_2: 0.8072 - lr: 0.0010\n",
      "Epoch 8/250\n",
      "480/480 [==============================] - ETA: 0s - loss: 0.1659 - accuracy: 0.7763 - precision_2: 0.7694 - recall_2: 0.7883\n",
      "Epoch 8: val_loss improved from 0.16848 to 0.16782, saving model to /app/_data/artist_data/models/test_arch/constr_3/model.h5\n",
      "480/480 [==============================] - 19s 37ms/step - loss: 0.1659 - accuracy: 0.7763 - precision_2: 0.7694 - recall_2: 0.7883 - val_loss: 0.1678 - val_accuracy: 0.7829 - val_precision_2: 0.7356 - val_recall_2: 0.8724 - lr: 0.0010\n",
      "Epoch 9/250\n",
      "479/480 [============================>.] - ETA: 0s - loss: 0.1621 - accuracy: 0.7831 - precision_2: 0.7756 - recall_2: 0.7811\n",
      "Epoch 9: val_loss improved from 0.16782 to 0.16293, saving model to /app/_data/artist_data/models/test_arch/constr_3/model.h5\n",
      "480/480 [==============================] - 19s 37ms/step - loss: 0.1621 - accuracy: 0.7831 - precision_2: 0.7756 - recall_2: 0.7813 - val_loss: 0.1629 - val_accuracy: 0.7819 - val_precision_2: 0.7394 - val_recall_2: 0.8302 - lr: 0.0010\n",
      "Epoch 10/250\n",
      "478/480 [============================>.] - ETA: 0s - loss: 0.1561 - accuracy: 0.7934 - precision_2: 0.7901 - recall_2: 0.7826\n",
      "Epoch 10: val_loss improved from 0.16293 to 0.15406, saving model to /app/_data/artist_data/models/test_arch/constr_3/model.h5\n",
      "480/480 [==============================] - 20s 38ms/step - loss: 0.1561 - accuracy: 0.7931 - precision_2: 0.7900 - recall_2: 0.7828 - val_loss: 0.1541 - val_accuracy: 0.7887 - val_precision_2: 0.7703 - val_recall_2: 0.8805 - lr: 0.0010\n",
      "Epoch 11/250\n",
      "480/480 [==============================] - ETA: 0s - loss: 0.1538 - accuracy: 0.7904 - precision_2: 0.7902 - recall_2: 0.7989\n",
      "Epoch 11: val_loss improved from 0.15406 to 0.14808, saving model to /app/_data/artist_data/models/test_arch/constr_3/model.h5\n",
      "480/480 [==============================] - 20s 38ms/step - loss: 0.1538 - accuracy: 0.7904 - precision_2: 0.7902 - recall_2: 0.7989 - val_loss: 0.1481 - val_accuracy: 0.8063 - val_precision_2: 0.8393 - val_recall_2: 0.7416 - lr: 0.0010\n",
      "Epoch 12/250\n",
      "480/480 [==============================] - ETA: 0s - loss: 0.1504 - accuracy: 0.7988 - precision_2: 0.7989 - recall_2: 0.7944\n",
      "Epoch 12: val_loss did not improve from 0.14808\n",
      "480/480 [==============================] - 20s 39ms/step - loss: 0.1504 - accuracy: 0.7988 - precision_2: 0.7989 - recall_2: 0.7944 - val_loss: 0.1669 - val_accuracy: 0.7552 - val_precision_2: 0.9036 - val_recall_2: 0.5377 - lr: 0.0010\n",
      "Epoch 13/250\n",
      "480/480 [==============================] - ETA: 0s - loss: 0.1472 - accuracy: 0.8009 - precision_2: 0.8060 - recall_2: 0.7958\n",
      "Epoch 13: val_loss did not improve from 0.14808\n",
      "480/480 [==============================] - 20s 39ms/step - loss: 0.1472 - accuracy: 0.8009 - precision_2: 0.8060 - recall_2: 0.7958 - val_loss: 0.1799 - val_accuracy: 0.7367 - val_precision_2: 0.6567 - val_recall_2: 0.9247 - lr: 0.0010\n",
      "Epoch 14/250\n",
      "478/480 [============================>.] - ETA: 0s - loss: 0.1443 - accuracy: 0.8101 - precision_2: 0.8093 - recall_2: 0.8018\n",
      "Epoch 14: val_loss did not improve from 0.14808\n",
      "480/480 [==============================] - 19s 37ms/step - loss: 0.1443 - accuracy: 0.8101 - precision_2: 0.8092 - recall_2: 0.8024 - val_loss: 0.1513 - val_accuracy: 0.7952 - val_precision_2: 0.7603 - val_recall_2: 0.9073 - lr: 0.0010\n",
      "Epoch 15/250\n",
      "478/480 [============================>.] - ETA: 0s - loss: 0.1454 - accuracy: 0.8054 - precision_2: 0.8054 - recall_2: 0.7918\n",
      "Epoch 15: val_loss improved from 0.14808 to 0.14294, saving model to /app/_data/artist_data/models/test_arch/constr_3/model.h5\n",
      "480/480 [==============================] - 20s 38ms/step - loss: 0.1454 - accuracy: 0.8054 - precision_2: 0.8051 - recall_2: 0.7925 - val_loss: 0.1429 - val_accuracy: 0.8109 - val_precision_2: 0.8036 - val_recall_2: 0.8470 - lr: 0.0010\n",
      "Epoch 16/250\n",
      "480/480 [==============================] - ETA: 0s - loss: 0.1395 - accuracy: 0.8120 - precision_2: 0.8117 - recall_2: 0.7889\n",
      "Epoch 16: val_loss did not improve from 0.14294\n",
      "480/480 [==============================] - 19s 37ms/step - loss: 0.1395 - accuracy: 0.8120 - precision_2: 0.8117 - recall_2: 0.7889 - val_loss: 0.1495 - val_accuracy: 0.7930 - val_precision_2: 0.7488 - val_recall_2: 0.8564 - lr: 0.0010\n",
      "Epoch 17/250\n",
      "480/480 [==============================] - ETA: 0s - loss: 0.1380 - accuracy: 0.8122 - precision_2: 0.8122 - recall_2: 0.8020\n",
      "Epoch 17: val_loss improved from 0.14294 to 0.14038, saving model to /app/_data/artist_data/models/test_arch/constr_3/model.h5\n",
      "480/480 [==============================] - 20s 39ms/step - loss: 0.1380 - accuracy: 0.8122 - precision_2: 0.8122 - recall_2: 0.8020 - val_loss: 0.1404 - val_accuracy: 0.8138 - val_precision_2: 0.8729 - val_recall_2: 0.7577 - lr: 0.0010\n",
      "Epoch 18/250\n",
      "479/480 [============================>.] - ETA: 0s - loss: 0.1418 - accuracy: 0.8081 - precision_2: 0.8074 - recall_2: 0.7929\n",
      "Epoch 18: val_loss improved from 0.14038 to 0.14026, saving model to /app/_data/artist_data/models/test_arch/constr_3/model.h5\n",
      "480/480 [==============================] - 20s 38ms/step - loss: 0.1418 - accuracy: 0.8080 - precision_2: 0.8072 - recall_2: 0.7925 - val_loss: 0.1403 - val_accuracy: 0.8145 - val_precision_2: 0.8708 - val_recall_2: 0.7174 - lr: 0.0010\n",
      "Epoch 19/250\n",
      "479/480 [============================>.] - ETA: 0s - loss: 0.1387 - accuracy: 0.8072 - precision_2: 0.8106 - recall_2: 0.7919\n",
      "Epoch 19: val_loss did not improve from 0.14026\n",
      "480/480 [==============================] - 19s 36ms/step - loss: 0.1388 - accuracy: 0.8070 - precision_2: 0.8106 - recall_2: 0.7914 - val_loss: 0.1431 - val_accuracy: 0.8024 - val_precision_2: 0.8065 - val_recall_2: 0.7789 - lr: 0.0010\n",
      "Epoch 20/250\n",
      "478/480 [============================>.] - ETA: 0s - loss: 0.1361 - accuracy: 0.8153 - precision_2: 0.8175 - recall_2: 0.8116\n",
      "Epoch 20: val_loss improved from 0.14026 to 0.13811, saving model to /app/_data/artist_data/models/test_arch/constr_3/model.h5\n",
      "480/480 [==============================] - 20s 38ms/step - loss: 0.1361 - accuracy: 0.8156 - precision_2: 0.8176 - recall_2: 0.8116 - val_loss: 0.1381 - val_accuracy: 0.8105 - val_precision_2: 0.8517 - val_recall_2: 0.7772 - lr: 0.0010\n",
      "Epoch 21/250\n",
      "480/480 [==============================] - ETA: 0s - loss: 0.1342 - accuracy: 0.8173 - precision_2: 0.8212 - recall_2: 0.8180\n",
      "Epoch 21: val_loss improved from 0.13811 to 0.13389, saving model to /app/_data/artist_data/models/test_arch/constr_3/model.h5\n",
      "480/480 [==============================] - 20s 39ms/step - loss: 0.1342 - accuracy: 0.8173 - precision_2: 0.8212 - recall_2: 0.8180 - val_loss: 0.1339 - val_accuracy: 0.8223 - val_precision_2: 0.8044 - val_recall_2: 0.8378 - lr: 0.0010\n",
      "Epoch 22/250\n",
      "480/480 [==============================] - ETA: 0s - loss: 0.1345 - accuracy: 0.8173 - precision_2: 0.8180 - recall_2: 0.7978\n",
      "Epoch 22: val_loss improved from 0.13389 to 0.12957, saving model to /app/_data/artist_data/models/test_arch/constr_3/model.h5\n",
      "480/480 [==============================] - 21s 41ms/step - loss: 0.1345 - accuracy: 0.8173 - precision_2: 0.8180 - recall_2: 0.7978 - val_loss: 0.1296 - val_accuracy: 0.8239 - val_precision_2: 0.8372 - val_recall_2: 0.7943 - lr: 0.0010\n",
      "Epoch 23/250\n",
      "480/480 [==============================] - ETA: 0s - loss: 0.1341 - accuracy: 0.8188 - precision_2: 0.8225 - recall_2: 0.8131\n",
      "Epoch 23: val_loss did not improve from 0.12957\n",
      "480/480 [==============================] - 20s 37ms/step - loss: 0.1341 - accuracy: 0.8188 - precision_2: 0.8225 - recall_2: 0.8131 - val_loss: 0.1371 - val_accuracy: 0.8118 - val_precision_2: 0.8654 - val_recall_2: 0.7487 - lr: 0.0010\n",
      "Epoch 24/250\n",
      "480/480 [==============================] - ETA: 0s - loss: 0.1317 - accuracy: 0.8206 - precision_2: 0.8207 - recall_2: 0.8145\n",
      "Epoch 24: val_loss improved from 0.12957 to 0.12889, saving model to /app/_data/artist_data/models/test_arch/constr_3/model.h5\n",
      "480/480 [==============================] - 20s 38ms/step - loss: 0.1317 - accuracy: 0.8206 - precision_2: 0.8207 - recall_2: 0.8145 - val_loss: 0.1289 - val_accuracy: 0.8242 - val_precision_2: 0.8524 - val_recall_2: 0.7684 - lr: 0.0010\n",
      "Epoch 25/250\n",
      "480/480 [==============================] - ETA: 0s - loss: 0.1320 - accuracy: 0.8206 - precision_2: 0.8202 - recall_2: 0.7900\n",
      "Epoch 25: val_loss did not improve from 0.12889\n",
      "480/480 [==============================] - 20s 38ms/step - loss: 0.1320 - accuracy: 0.8206 - precision_2: 0.8202 - recall_2: 0.7900 - val_loss: 0.1307 - val_accuracy: 0.8223 - val_precision_2: 0.8045 - val_recall_2: 0.8610 - lr: 0.0010\n",
      "Epoch 26/250\n",
      "478/480 [============================>.] - ETA: 0s - loss: 0.1252 - accuracy: 0.8325 - precision_2: 0.8323 - recall_2: 0.8321\n",
      "Epoch 26: val_loss did not improve from 0.12889\n",
      "480/480 [==============================] - 19s 37ms/step - loss: 0.1253 - accuracy: 0.8322 - precision_2: 0.8318 - recall_2: 0.8318 - val_loss: 0.1357 - val_accuracy: 0.8138 - val_precision_2: 0.8765 - val_recall_2: 0.7198 - lr: 0.0010\n",
      "Epoch 27/250\n",
      "479/480 [============================>.] - ETA: 0s - loss: 0.1278 - accuracy: 0.8271 - precision_2: 0.8303 - recall_2: 0.8229\n",
      "Epoch 27: val_loss did not improve from 0.12889\n",
      "480/480 [==============================] - 20s 37ms/step - loss: 0.1278 - accuracy: 0.8271 - precision_2: 0.8302 - recall_2: 0.8229 - val_loss: 0.1348 - val_accuracy: 0.8200 - val_precision_2: 0.7886 - val_recall_2: 0.8078 - lr: 0.0010\n",
      "Epoch 28/250\n",
      "480/480 [==============================] - ETA: 0s - loss: 0.1264 - accuracy: 0.8303 - precision_2: 0.8335 - recall_2: 0.8375\n",
      "Epoch 28: val_loss improved from 0.12889 to 0.12862, saving model to /app/_data/artist_data/models/test_arch/constr_3/model.h5\n",
      "480/480 [==============================] - 20s 38ms/step - loss: 0.1264 - accuracy: 0.8303 - precision_2: 0.8335 - recall_2: 0.8375 - val_loss: 0.1286 - val_accuracy: 0.8216 - val_precision_2: 0.8181 - val_recall_2: 0.8104 - lr: 0.0010\n",
      "Epoch 29/250\n",
      "479/480 [============================>.] - ETA: 0s - loss: 0.1264 - accuracy: 0.8285 - precision_2: 0.8310 - recall_2: 0.8239\n",
      "Epoch 29: val_loss did not improve from 0.12862\n",
      "480/480 [==============================] - 19s 37ms/step - loss: 0.1264 - accuracy: 0.8286 - precision_2: 0.8311 - recall_2: 0.8240 - val_loss: 0.1286 - val_accuracy: 0.8366 - val_precision_2: 0.8527 - val_recall_2: 0.8138 - lr: 0.0010\n",
      "Epoch 30/250\n",
      "479/480 [============================>.] - ETA: 0s - loss: 0.1235 - accuracy: 0.8341 - precision_2: 0.8386 - recall_2: 0.8313\n",
      "Epoch 30: val_loss improved from 0.12862 to 0.12312, saving model to /app/_data/artist_data/models/test_arch/constr_3/model.h5\n",
      "480/480 [==============================] - 22s 41ms/step - loss: 0.1235 - accuracy: 0.8341 - precision_2: 0.8385 - recall_2: 0.8313 - val_loss: 0.1231 - val_accuracy: 0.8369 - val_precision_2: 0.8686 - val_recall_2: 0.7330 - lr: 0.0010\n",
      "Epoch 31/250\n",
      "479/480 [============================>.] - ETA: 0s - loss: 0.1263 - accuracy: 0.8275 - precision_2: 0.8346 - recall_2: 0.8297\n",
      "Epoch 31: val_loss did not improve from 0.12312\n",
      "480/480 [==============================] - 19s 37ms/step - loss: 0.1263 - accuracy: 0.8275 - precision_2: 0.8346 - recall_2: 0.8296 - val_loss: 0.1251 - val_accuracy: 0.8366 - val_precision_2: 0.8700 - val_recall_2: 0.8030 - lr: 0.0010\n",
      "Epoch 32/250\n",
      "478/480 [============================>.] - ETA: 0s - loss: 0.1196 - accuracy: 0.8381 - precision_2: 0.8420 - recall_2: 0.8417\n",
      "Epoch 32: val_loss did not improve from 0.12312\n",
      "480/480 [==============================] - 19s 37ms/step - loss: 0.1198 - accuracy: 0.8375 - precision_2: 0.8411 - recall_2: 0.8415 - val_loss: 0.1231 - val_accuracy: 0.8389 - val_precision_2: 0.8460 - val_recall_2: 0.8455 - lr: 0.0010\n",
      "Epoch 33/250\n",
      "479/480 [============================>.] - ETA: 0s - loss: 0.1233 - accuracy: 0.8334 - precision_2: 0.8381 - recall_2: 0.8376\n",
      "Epoch 33: val_loss did not improve from 0.12312\n",
      "480/480 [==============================] - 19s 37ms/step - loss: 0.1232 - accuracy: 0.8335 - precision_2: 0.8381 - recall_2: 0.8377 - val_loss: 0.1354 - val_accuracy: 0.8086 - val_precision_2: 0.7565 - val_recall_2: 0.8942 - lr: 0.0010\n",
      "Epoch 34/250\n",
      "479/480 [============================>.] - ETA: 0s - loss: 0.1233 - accuracy: 0.8321 - precision_2: 0.8335 - recall_2: 0.8222\n",
      "Epoch 34: val_loss improved from 0.12312 to 0.11917, saving model to /app/_data/artist_data/models/test_arch/constr_3/model.h5\n",
      "480/480 [==============================] - 20s 38ms/step - loss: 0.1233 - accuracy: 0.8322 - precision_2: 0.8336 - recall_2: 0.8224 - val_loss: 0.1192 - val_accuracy: 0.8392 - val_precision_2: 0.8598 - val_recall_2: 0.8193 - lr: 0.0010\n",
      "Epoch 35/250\n",
      "480/480 [==============================] - ETA: 0s - loss: 0.1216 - accuracy: 0.8357 - precision_2: 0.8433 - recall_2: 0.8339\n",
      "Epoch 35: val_loss did not improve from 0.11917\n",
      "480/480 [==============================] - 19s 36ms/step - loss: 0.1216 - accuracy: 0.8357 - precision_2: 0.8433 - recall_2: 0.8339 - val_loss: 0.1198 - val_accuracy: 0.8395 - val_precision_2: 0.8659 - val_recall_2: 0.8020 - lr: 0.0010\n",
      "Epoch 36/250\n",
      "478/480 [============================>.] - ETA: 0s - loss: 0.1215 - accuracy: 0.8334 - precision_2: 0.8351 - recall_2: 0.8245\n",
      "Epoch 36: val_loss improved from 0.11917 to 0.11692, saving model to /app/_data/artist_data/models/test_arch/constr_3/model.h5\n",
      "480/480 [==============================] - 20s 38ms/step - loss: 0.1216 - accuracy: 0.8333 - precision_2: 0.8351 - recall_2: 0.8240 - val_loss: 0.1169 - val_accuracy: 0.8415 - val_precision_2: 0.8668 - val_recall_2: 0.8063 - lr: 0.0010\n",
      "Epoch 37/250\n",
      "479/480 [============================>.] - ETA: 0s - loss: 0.1229 - accuracy: 0.8307 - precision_2: 0.8342 - recall_2: 0.8211\n",
      "Epoch 37: val_loss did not improve from 0.11692\n",
      "480/480 [==============================] - 21s 40ms/step - loss: 0.1229 - accuracy: 0.8307 - precision_2: 0.8344 - recall_2: 0.8210 - val_loss: 0.1228 - val_accuracy: 0.8307 - val_precision_2: 0.8473 - val_recall_2: 0.8015 - lr: 0.0010\n",
      "Epoch 38/250\n",
      "480/480 [==============================] - ETA: 0s - loss: 0.1180 - accuracy: 0.8402 - precision_2: 0.8371 - recall_2: 0.8366\n",
      "Epoch 38: val_loss did not improve from 0.11692\n",
      "480/480 [==============================] - 20s 38ms/step - loss: 0.1180 - accuracy: 0.8402 - precision_2: 0.8371 - recall_2: 0.8366 - val_loss: 0.1228 - val_accuracy: 0.8307 - val_precision_2: 0.8764 - val_recall_2: 0.7766 - lr: 0.0010\n",
      "Epoch 39/250\n",
      "480/480 [==============================] - ETA: 0s - loss: 0.1231 - accuracy: 0.8336 - precision_2: 0.8342 - recall_2: 0.8327\n",
      "Epoch 39: val_loss did not improve from 0.11692\n",
      "480/480 [==============================] - 19s 37ms/step - loss: 0.1231 - accuracy: 0.8336 - precision_2: 0.8342 - recall_2: 0.8327 - val_loss: 0.1583 - val_accuracy: 0.7708 - val_precision_2: 0.9161 - val_recall_2: 0.6063 - lr: 0.0010\n",
      "Epoch 40/250\n",
      "480/480 [==============================] - ETA: 0s - loss: 0.1193 - accuracy: 0.8389 - precision_2: 0.8395 - recall_2: 0.8204\n",
      "Epoch 40: val_loss did not improve from 0.11692\n",
      "480/480 [==============================] - 20s 38ms/step - loss: 0.1193 - accuracy: 0.8389 - precision_2: 0.8395 - recall_2: 0.8204 - val_loss: 0.1193 - val_accuracy: 0.8356 - val_precision_2: 0.8200 - val_recall_2: 0.8733 - lr: 0.0010\n",
      "Epoch 41/250\n",
      "479/480 [============================>.] - ETA: 0s - loss: 0.1167 - accuracy: 0.8424 - precision_2: 0.8401 - recall_2: 0.8328\n",
      "Epoch 41: val_loss did not improve from 0.11692\n",
      "480/480 [==============================] - 20s 39ms/step - loss: 0.1168 - accuracy: 0.8421 - precision_2: 0.8401 - recall_2: 0.8321 - val_loss: 0.1291 - val_accuracy: 0.8193 - val_precision_2: 0.8940 - val_recall_2: 0.7343 - lr: 0.0010\n",
      "Epoch 42/250\n",
      "478/480 [============================>.] - ETA: 0s - loss: 0.1173 - accuracy: 0.8381 - precision_2: 0.8450 - recall_2: 0.8328\n",
      "Epoch 42: val_loss did not improve from 0.11692\n",
      "480/480 [==============================] - 21s 40ms/step - loss: 0.1172 - accuracy: 0.8382 - precision_2: 0.8448 - recall_2: 0.8326 - val_loss: 0.1308 - val_accuracy: 0.8232 - val_precision_2: 0.8996 - val_recall_2: 0.7552 - lr: 0.0010\n",
      "Epoch 43/250\n",
      "478/480 [============================>.] - ETA: 0s - loss: 0.1193 - accuracy: 0.8370 - precision_2: 0.8373 - recall_2: 0.8244\n",
      "Epoch 43: val_loss did not improve from 0.11692\n",
      "480/480 [==============================] - 20s 37ms/step - loss: 0.1194 - accuracy: 0.8368 - precision_2: 0.8374 - recall_2: 0.8240 - val_loss: 0.1250 - val_accuracy: 0.8262 - val_precision_2: 0.8745 - val_recall_2: 0.7769 - lr: 0.0010\n",
      "Epoch 44/250\n",
      "478/480 [============================>.] - ETA: 0s - loss: 0.1183 - accuracy: 0.8383 - precision_2: 0.8404 - recall_2: 0.8369\n",
      "Epoch 44: val_loss did not improve from 0.11692\n",
      "480/480 [==============================] - 19s 36ms/step - loss: 0.1182 - accuracy: 0.8383 - precision_2: 0.8406 - recall_2: 0.8372 - val_loss: 0.1242 - val_accuracy: 0.8304 - val_precision_2: 0.7873 - val_recall_2: 0.8696 - lr: 0.0010\n",
      "Epoch 45/250\n",
      "480/480 [==============================] - ETA: 0s - loss: 0.1170 - accuracy: 0.8378 - precision_2: 0.8476 - recall_2: 0.8443\n",
      "Epoch 45: val_loss did not improve from 0.11692\n",
      "480/480 [==============================] - 20s 38ms/step - loss: 0.1170 - accuracy: 0.8378 - precision_2: 0.8476 - recall_2: 0.8443 - val_loss: 0.1272 - val_accuracy: 0.8242 - val_precision_2: 0.7795 - val_recall_2: 0.8919 - lr: 0.0010\n",
      "Epoch 46/250\n",
      "480/480 [==============================] - ETA: 0s - loss: 0.1177 - accuracy: 0.8377 - precision_2: 0.8394 - recall_2: 0.8327\n",
      "Epoch 46: val_loss did not improve from 0.11692\n",
      "\n",
      "Epoch 46: ReduceLROnPlateau reducing learning rate to 0.0009000000427477062.\n",
      "480/480 [==============================] - 19s 37ms/step - loss: 0.1177 - accuracy: 0.8377 - precision_2: 0.8394 - recall_2: 0.8327 - val_loss: 0.1187 - val_accuracy: 0.8379 - val_precision_2: 0.8367 - val_recall_2: 0.8266 - lr: 0.0010\n",
      "Epoch 47/250\n",
      "479/480 [============================>.] - ETA: 0s - loss: 0.1174 - accuracy: 0.8377 - precision_2: 0.8432 - recall_2: 0.8282\n",
      "Epoch 47: val_loss did not improve from 0.11692\n",
      "480/480 [==============================] - 20s 39ms/step - loss: 0.1174 - accuracy: 0.8379 - precision_2: 0.8431 - recall_2: 0.8285 - val_loss: 0.1249 - val_accuracy: 0.8184 - val_precision_2: 0.7801 - val_recall_2: 0.8703 - lr: 9.0000e-04\n",
      "Epoch 48/250\n",
      "480/480 [==============================] - ETA: 0s - loss: 0.1143 - accuracy: 0.8432 - precision_2: 0.8399 - recall_2: 0.8374\n",
      "Epoch 48: val_loss did not improve from 0.11692\n",
      "480/480 [==============================] - 19s 37ms/step - loss: 0.1143 - accuracy: 0.8432 - precision_2: 0.8399 - recall_2: 0.8374 - val_loss: 0.1393 - val_accuracy: 0.7988 - val_precision_2: 0.8975 - val_recall_2: 0.6620 - lr: 9.0000e-04\n",
      "Epoch 49/250\n",
      "479/480 [============================>.] - ETA: 0s - loss: 0.1176 - accuracy: 0.8397 - precision_2: 0.8427 - recall_2: 0.8231\n",
      "Epoch 49: val_loss did not improve from 0.11692\n",
      "480/480 [==============================] - 20s 38ms/step - loss: 0.1175 - accuracy: 0.8398 - precision_2: 0.8430 - recall_2: 0.8231 - val_loss: 0.1234 - val_accuracy: 0.8278 - val_precision_2: 0.7918 - val_recall_2: 0.8484 - lr: 9.0000e-04\n",
      "Epoch 50/250\n",
      "479/480 [============================>.] - ETA: 0s - loss: 0.1169 - accuracy: 0.8425 - precision_2: 0.8405 - recall_2: 0.8324\n",
      "Epoch 50: val_loss improved from 0.11692 to 0.11171, saving model to /app/_data/artist_data/models/test_arch/constr_3/model.h5\n",
      "480/480 [==============================] - 21s 42ms/step - loss: 0.1169 - accuracy: 0.8426 - precision_2: 0.8406 - recall_2: 0.8325 - val_loss: 0.1117 - val_accuracy: 0.8512 - val_precision_2: 0.8313 - val_recall_2: 0.8825 - lr: 9.0000e-04\n",
      "Epoch 51/250\n",
      "478/480 [============================>.] - ETA: 0s - loss: 0.1156 - accuracy: 0.8415 - precision_2: 0.8400 - recall_2: 0.8325\n",
      "Epoch 51: val_loss did not improve from 0.11171\n",
      "480/480 [==============================] - 21s 41ms/step - loss: 0.1158 - accuracy: 0.8413 - precision_2: 0.8401 - recall_2: 0.8316 - val_loss: 0.1251 - val_accuracy: 0.8210 - val_precision_2: 0.8827 - val_recall_2: 0.7617 - lr: 9.0000e-04\n",
      "Epoch 52/250\n",
      "480/480 [==============================] - ETA: 0s - loss: 0.1156 - accuracy: 0.8428 - precision_2: 0.8480 - recall_2: 0.8456\n",
      "Epoch 52: val_loss did not improve from 0.11171\n",
      "480/480 [==============================] - 19s 37ms/step - loss: 0.1156 - accuracy: 0.8428 - precision_2: 0.8480 - recall_2: 0.8456 - val_loss: 0.1194 - val_accuracy: 0.8245 - val_precision_2: 0.8611 - val_recall_2: 0.7944 - lr: 9.0000e-04\n",
      "Epoch 53/250\n",
      "478/480 [============================>.] - ETA: 0s - loss: 0.1145 - accuracy: 0.8416 - precision_2: 0.8448 - recall_2: 0.8338\n",
      "Epoch 53: val_loss did not improve from 0.11171\n",
      "480/480 [==============================] - 19s 37ms/step - loss: 0.1146 - accuracy: 0.8413 - precision_2: 0.8449 - recall_2: 0.8331 - val_loss: 0.1142 - val_accuracy: 0.8444 - val_precision_2: 0.8386 - val_recall_2: 0.8630 - lr: 9.0000e-04\n",
      "Epoch 54/250\n",
      "479/480 [============================>.] - ETA: 0s - loss: 0.1132 - accuracy: 0.8461 - precision_2: 0.8471 - recall_2: 0.8423\n",
      "Epoch 54: val_loss did not improve from 0.11171\n",
      "480/480 [==============================] - 21s 40ms/step - loss: 0.1133 - accuracy: 0.8461 - precision_2: 0.8472 - recall_2: 0.8421 - val_loss: 0.1123 - val_accuracy: 0.8460 - val_precision_2: 0.8539 - val_recall_2: 0.8025 - lr: 9.0000e-04\n",
      "Epoch 55/250\n",
      "478/480 [============================>.] - ETA: 0s - loss: 0.1122 - accuracy: 0.8464 - precision_2: 0.8467 - recall_2: 0.8336\n",
      "Epoch 55: val_loss did not improve from 0.11171\n",
      "480/480 [==============================] - 20s 40ms/step - loss: 0.1123 - accuracy: 0.8463 - precision_2: 0.8468 - recall_2: 0.8335 - val_loss: 0.1141 - val_accuracy: 0.8411 - val_precision_2: 0.8447 - val_recall_2: 0.7907 - lr: 9.0000e-04\n",
      "Epoch 56/250\n",
      "480/480 [==============================] - ETA: 0s - loss: 0.1141 - accuracy: 0.8432 - precision_2: 0.8440 - recall_2: 0.8396\n",
      "Epoch 56: val_loss improved from 0.11171 to 0.11047, saving model to /app/_data/artist_data/models/test_arch/constr_3/model.h5\n",
      "480/480 [==============================] - 22s 43ms/step - loss: 0.1141 - accuracy: 0.8432 - precision_2: 0.8440 - recall_2: 0.8396 - val_loss: 0.1105 - val_accuracy: 0.8503 - val_precision_2: 0.8660 - val_recall_2: 0.8103 - lr: 9.0000e-04\n",
      "Epoch 57/250\n",
      "480/480 [==============================] - ETA: 0s - loss: 0.1137 - accuracy: 0.8451 - precision_2: 0.8428 - recall_2: 0.8340\n",
      "Epoch 57: val_loss did not improve from 0.11047\n",
      "480/480 [==============================] - 20s 38ms/step - loss: 0.1137 - accuracy: 0.8451 - precision_2: 0.8428 - recall_2: 0.8340 - val_loss: 0.1196 - val_accuracy: 0.8402 - val_precision_2: 0.8704 - val_recall_2: 0.8025 - lr: 9.0000e-04\n",
      "Epoch 58/250\n",
      "479/480 [============================>.] - ETA: 0s - loss: 0.1115 - accuracy: 0.8490 - precision_2: 0.8537 - recall_2: 0.8460\n",
      "Epoch 58: val_loss did not improve from 0.11047\n",
      "480/480 [==============================] - 21s 41ms/step - loss: 0.1115 - accuracy: 0.8492 - precision_2: 0.8538 - recall_2: 0.8460 - val_loss: 0.1168 - val_accuracy: 0.8434 - val_precision_2: 0.8232 - val_recall_2: 0.8332 - lr: 9.0000e-04\n",
      "Epoch 59/250\n",
      "480/480 [==============================] - ETA: 0s - loss: 0.1137 - accuracy: 0.8439 - precision_2: 0.8487 - recall_2: 0.8319\n",
      "Epoch 59: val_loss did not improve from 0.11047\n",
      "480/480 [==============================] - 20s 39ms/step - loss: 0.1137 - accuracy: 0.8439 - precision_2: 0.8487 - recall_2: 0.8319 - val_loss: 0.1163 - val_accuracy: 0.8411 - val_precision_2: 0.8709 - val_recall_2: 0.8114 - lr: 9.0000e-04\n",
      "Epoch 60/250\n",
      "478/480 [============================>.] - ETA: 0s - loss: 0.1147 - accuracy: 0.8432 - precision_2: 0.8462 - recall_2: 0.8355\n",
      "Epoch 60: val_loss did not improve from 0.11047\n",
      "480/480 [==============================] - 20s 38ms/step - loss: 0.1147 - accuracy: 0.8430 - precision_2: 0.8459 - recall_2: 0.8356 - val_loss: 0.1184 - val_accuracy: 0.8382 - val_precision_2: 0.8343 - val_recall_2: 0.8382 - lr: 9.0000e-04\n",
      "Epoch 61/250\n",
      "479/480 [============================>.] - ETA: 0s - loss: 0.1114 - accuracy: 0.8475 - precision_2: 0.8498 - recall_2: 0.8499\n",
      "Epoch 61: val_loss did not improve from 0.11047\n",
      "480/480 [==============================] - 19s 38ms/step - loss: 0.1115 - accuracy: 0.8474 - precision_2: 0.8494 - recall_2: 0.8498 - val_loss: 0.1187 - val_accuracy: 0.8379 - val_precision_2: 0.8707 - val_recall_2: 0.7662 - lr: 9.0000e-04\n",
      "Epoch 62/250\n",
      "480/480 [==============================] - ETA: 0s - loss: 0.1121 - accuracy: 0.8484 - precision_2: 0.8536 - recall_2: 0.8447\n",
      "Epoch 62: val_loss did not improve from 0.11047\n",
      "480/480 [==============================] - 20s 38ms/step - loss: 0.1121 - accuracy: 0.8484 - precision_2: 0.8536 - recall_2: 0.8447 - val_loss: 0.1221 - val_accuracy: 0.8223 - val_precision_2: 0.8507 - val_recall_2: 0.7795 - lr: 9.0000e-04\n",
      "Epoch 63/250\n",
      "480/480 [==============================] - ETA: 0s - loss: 0.1138 - accuracy: 0.8423 - precision_2: 0.8466 - recall_2: 0.8404\n",
      "Epoch 63: val_loss did not improve from 0.11047\n",
      "480/480 [==============================] - 20s 38ms/step - loss: 0.1138 - accuracy: 0.8423 - precision_2: 0.8466 - recall_2: 0.8404 - val_loss: 0.1190 - val_accuracy: 0.8311 - val_precision_2: 0.7964 - val_recall_2: 0.8866 - lr: 9.0000e-04\n",
      "Epoch 64/250\n",
      "480/480 [==============================] - ETA: 0s - loss: 0.1135 - accuracy: 0.8454 - precision_2: 0.8410 - recall_2: 0.8338\n",
      "Epoch 64: val_loss did not improve from 0.11047\n",
      "480/480 [==============================] - 20s 38ms/step - loss: 0.1135 - accuracy: 0.8454 - precision_2: 0.8410 - recall_2: 0.8338 - val_loss: 0.1173 - val_accuracy: 0.8382 - val_precision_2: 0.8812 - val_recall_2: 0.7927 - lr: 9.0000e-04\n",
      "Epoch 65/250\n",
      "480/480 [==============================] - ETA: 0s - loss: 0.1141 - accuracy: 0.8420 - precision_2: 0.8432 - recall_2: 0.8341\n",
      "Epoch 65: val_loss did not improve from 0.11047\n",
      "480/480 [==============================] - 20s 37ms/step - loss: 0.1141 - accuracy: 0.8420 - precision_2: 0.8432 - recall_2: 0.8341 - val_loss: 0.1216 - val_accuracy: 0.8376 - val_precision_2: 0.7939 - val_recall_2: 0.8996 - lr: 9.0000e-04\n",
      "Epoch 66/250\n",
      "480/480 [==============================] - ETA: 0s - loss: 0.1098 - accuracy: 0.8491 - precision_2: 0.8481 - recall_2: 0.8383\n",
      "Epoch 66: val_loss did not improve from 0.11047\n",
      "\n",
      "Epoch 66: ReduceLROnPlateau reducing learning rate to 0.0008100000384729356.\n",
      "480/480 [==============================] - 21s 41ms/step - loss: 0.1098 - accuracy: 0.8491 - precision_2: 0.8481 - recall_2: 0.8383 - val_loss: 0.1150 - val_accuracy: 0.8451 - val_precision_2: 0.8387 - val_recall_2: 0.8432 - lr: 9.0000e-04\n",
      "Epoch 67/250\n",
      "479/480 [============================>.] - ETA: 0s - loss: 0.1110 - accuracy: 0.8481 - precision_2: 0.8539 - recall_2: 0.8509\n",
      "Epoch 67: val_loss did not improve from 0.11047\n",
      "480/480 [==============================] - 19s 37ms/step - loss: 0.1109 - accuracy: 0.8482 - precision_2: 0.8538 - recall_2: 0.8508 - val_loss: 0.1187 - val_accuracy: 0.8350 - val_precision_2: 0.8490 - val_recall_2: 0.7869 - lr: 8.1000e-04\n",
      "Epoch 68/250\n",
      "480/480 [==============================] - ETA: 0s - loss: 0.1128 - accuracy: 0.8458 - precision_2: 0.8477 - recall_2: 0.8452\n",
      "Epoch 68: val_loss did not improve from 0.11047\n",
      "480/480 [==============================] - 20s 38ms/step - loss: 0.1128 - accuracy: 0.8458 - precision_2: 0.8477 - recall_2: 0.8452 - val_loss: 0.1331 - val_accuracy: 0.8118 - val_precision_2: 0.8201 - val_recall_2: 0.8021 - lr: 8.1000e-04\n",
      "Epoch 69/250\n",
      "246/480 [==============>...............] - ETA: 5s - loss: 0.1105 - accuracy: 0.8479 - precision_2: 0.8503 - recall_2: 0.8382"
     ]
    },
    {
     "name": "stderr",
     "output_type": "stream",
     "text": [
      "Process Keras_worker_ForkPoolWorker-2186:\n",
      "Process Keras_worker_ForkPoolWorker-2189:\n",
      "Process Keras_worker_ForkPoolWorker-2190:\n",
      "Process Keras_worker_ForkPoolWorker-2187:\n",
      "Process Keras_worker_ForkPoolWorker-2182:\n",
      "Process Keras_worker_ForkPoolWorker-2181:\n",
      "Process Keras_worker_ForkPoolWorker-2183:\n",
      "Process Keras_worker_ForkPoolWorker-2184:\n",
      "Process Keras_worker_ForkPoolWorker-2188:\n",
      "Traceback (most recent call last):\n",
      "Traceback (most recent call last):\n",
      "Process Keras_worker_ForkPoolWorker-2185:\n",
      "Traceback (most recent call last):\n",
      "  File \"/usr/lib/python3.8/multiprocessing/process.py\", line 315, in _bootstrap\n",
      "    self.run()\n",
      "Traceback (most recent call last):\n",
      "  File \"/usr/lib/python3.8/multiprocessing/process.py\", line 315, in _bootstrap\n",
      "    self.run()\n",
      "Traceback (most recent call last):\n",
      "Traceback (most recent call last):\n",
      "Traceback (most recent call last):\n",
      "  File \"/usr/lib/python3.8/multiprocessing/process.py\", line 108, in run\n",
      "    self._target(*self._args, **self._kwargs)\n",
      "  File \"/usr/lib/python3.8/multiprocessing/process.py\", line 315, in _bootstrap\n",
      "    self.run()\n",
      "Traceback (most recent call last):\n",
      "  File \"/usr/lib/python3.8/multiprocessing/process.py\", line 108, in run\n",
      "    self._target(*self._args, **self._kwargs)\n",
      "  File \"/usr/lib/python3.8/multiprocessing/process.py\", line 315, in _bootstrap\n",
      "    self.run()\n",
      "Traceback (most recent call last):\n",
      "Traceback (most recent call last):\n",
      "  File \"/usr/lib/python3.8/multiprocessing/process.py\", line 315, in _bootstrap\n",
      "    self.run()\n"
     ]
    },
    {
     "name": "stdout",
     "output_type": "stream",
     "text": [
      "WARNING:tensorflow:Detecting that an object or model or tf.train.Checkpoint is being deleted with unrestored values. See the following logs for the specific values in question. To silence these warnings, use `status.expect_partial()`. See https://www.tensorflow.org/api_docs/python/tf/train/Checkpoint#restorefor details about the status object returned by the restore function.\n"
     ]
    },
    {
     "name": "stderr",
     "output_type": "stream",
     "text": [
      "  File \"/usr/lib/python3.8/multiprocessing/process.py\", line 315, in _bootstrap\n",
      "    self.run()\n",
      "  File \"/usr/lib/python3.8/multiprocessing/process.py\", line 315, in _bootstrap\n",
      "    self.run()\n"
     ]
    },
    {
     "name": "stdout",
     "output_type": "stream",
     "text": [
      "WARNING:tensorflow:Value in checkpoint could not be found in the restored object: (root).save_counter\n"
     ]
    },
    {
     "name": "stderr",
     "output_type": "stream",
     "text": [
      "  File \"/usr/lib/python3.8/multiprocessing/process.py\", line 108, in run\n",
      "    self._target(*self._args, **self._kwargs)\n"
     ]
    },
    {
     "name": "stdout",
     "output_type": "stream",
     "text": [
      "WARNING:tensorflow:Value in checkpoint could not be found in the restored object: (root).model.optimizer.iter\n"
     ]
    },
    {
     "name": "stderr",
     "output_type": "stream",
     "text": [
      "  File \"/usr/lib/python3.8/multiprocessing/process.py\", line 315, in _bootstrap\n",
      "    self.run()\n",
      "  File \"/usr/lib/python3.8/multiprocessing/pool.py\", line 131, in worker\n",
      "    put((job, i, result))\n"
     ]
    },
    {
     "name": "stdout",
     "output_type": "stream",
     "text": [
      "WARNING:tensorflow:Value in checkpoint could not be found in the restored object: (root).model.optimizer.beta_1\n"
     ]
    },
    {
     "name": "stderr",
     "output_type": "stream",
     "text": [
      "  File \"/usr/lib/python3.8/multiprocessing/pool.py\", line 131, in worker\n",
      "    put((job, i, result))\n"
     ]
    },
    {
     "name": "stdout",
     "output_type": "stream",
     "text": [
      "WARNING:tensorflow:Value in checkpoint could not be found in the restored object: (root).model.optimizer.beta_2\n"
     ]
    },
    {
     "name": "stderr",
     "output_type": "stream",
     "text": [
      "  File \"/usr/lib/python3.8/multiprocessing/process.py\", line 315, in _bootstrap\n",
      "    self.run()\n",
      "  File \"/usr/lib/python3.8/multiprocessing/process.py\", line 108, in run\n",
      "    self._target(*self._args, **self._kwargs)\n"
     ]
    },
    {
     "name": "stdout",
     "output_type": "stream",
     "text": [
      "WARNING:tensorflow:Value in checkpoint could not be found in the restored object: (root).model.optimizer.decay\n"
     ]
    },
    {
     "name": "stderr",
     "output_type": "stream",
     "text": [
      "  File \"/usr/lib/python3.8/multiprocessing/process.py\", line 315, in _bootstrap\n",
      "    self.run()\n"
     ]
    },
    {
     "name": "stdout",
     "output_type": "stream",
     "text": [
      "WARNING:tensorflow:Value in checkpoint could not be found in the restored object: (root).model.optimizer.learning_rate\n"
     ]
    },
    {
     "name": "stderr",
     "output_type": "stream",
     "text": [
      "  File \"/usr/lib/python3.8/multiprocessing/process.py\", line 108, in run\n",
      "    self._target(*self._args, **self._kwargs)\n",
      "  File \"/usr/lib/python3.8/multiprocessing/process.py\", line 108, in run\n",
      "    self._target(*self._args, **self._kwargs)\n"
     ]
    },
    {
     "name": "stdout",
     "output_type": "stream",
     "text": [
      "WARNING:tensorflow:Value in checkpoint could not be found in the restored object: (root).model.optimizer's state 'm' for (root).model.layer_with_weights-1.kernel\n"
     ]
    },
    {
     "name": "stderr",
     "output_type": "stream",
     "text": [
      "  File \"/usr/lib/python3.8/multiprocessing/pool.py\", line 131, in worker\n",
      "    put((job, i, result))\n"
     ]
    },
    {
     "name": "stdout",
     "output_type": "stream",
     "text": [
      "WARNING:tensorflow:Value in checkpoint could not be found in the restored object: (root).model.optimizer's state 'm' for (root).model.layer_with_weights-1.bias\n"
     ]
    },
    {
     "name": "stderr",
     "output_type": "stream",
     "text": [
      "  File \"/usr/lib/python3.8/multiprocessing/process.py\", line 108, in run\n",
      "    self._target(*self._args, **self._kwargs)\n",
      "  File \"/usr/lib/python3.8/multiprocessing/queues.py\", line 367, in put\n",
      "    with self._wlock:\n"
     ]
    },
    {
     "name": "stdout",
     "output_type": "stream",
     "text": [
      "WARNING:tensorflow:Value in checkpoint could not be found in the restored object: (root).model.optimizer's state 'm' for (root).model.layer_with_weights-0.layer_with_weights-0.kernel\n",
      "WARNING:tensorflow:Value in checkpoint could not be found in the restored object: (root).model.optimizer's state 'm' for (root).model.layer_with_weights-0.layer_with_weights-0.bias\n"
     ]
    },
    {
     "name": "stderr",
     "output_type": "stream",
     "text": [
      "  File \"/usr/lib/python3.8/multiprocessing/process.py\", line 108, in run\n",
      "    self._target(*self._args, **self._kwargs)\n"
     ]
    },
    {
     "name": "stdout",
     "output_type": "stream",
     "text": [
      "WARNING:tensorflow:Value in checkpoint could not be found in the restored object: (root).model.optimizer's state 'm' for (root).model.layer_with_weights-0.layer_with_weights-1.kernel\n"
     ]
    },
    {
     "name": "stderr",
     "output_type": "stream",
     "text": [
      "  File \"/usr/lib/python3.8/multiprocessing/queues.py\", line 367, in put\n",
      "    with self._wlock:\n",
      "  File \"/usr/lib/python3.8/multiprocessing/pool.py\", line 131, in worker\n",
      "    put((job, i, result))\n"
     ]
    },
    {
     "name": "stdout",
     "output_type": "stream",
     "text": [
      "WARNING:tensorflow:Value in checkpoint could not be found in the restored object: (root).model.optimizer's state 'm' for (root).model.layer_with_weights-0.layer_with_weights-1.bias\n"
     ]
    },
    {
     "name": "stderr",
     "output_type": "stream",
     "text": [
      "  File \"/usr/lib/python3.8/multiprocessing/process.py\", line 108, in run\n",
      "    self._target(*self._args, **self._kwargs)\n",
      "  File \"/usr/lib/python3.8/multiprocessing/pool.py\", line 125, in worker\n",
      "    result = (True, func(*args, **kwds))\n",
      "  File \"/usr/lib/python3.8/multiprocessing/process.py\", line 108, in run\n",
      "    self._target(*self._args, **self._kwargs)\n"
     ]
    },
    {
     "name": "stdout",
     "output_type": "stream",
     "text": [
      "WARNING:tensorflow:Value in checkpoint could not be found in the restored object: (root).model.optimizer's state 'm' for (root).model.layer_with_weights-0.layer_with_weights-2.kernel\n",
      "WARNING:tensorflow:Value in checkpoint could not be found in the restored object: (root).model.optimizer's state 'm' for (root).model.layer_with_weights-0.layer_with_weights-2.bias\n"
     ]
    },
    {
     "name": "stderr",
     "output_type": "stream",
     "text": [
      "  File \"/usr/lib/python3.8/multiprocessing/pool.py\", line 114, in worker\n",
      "    task = get()\n",
      "  File \"/usr/lib/python3.8/multiprocessing/queues.py\", line 367, in put\n",
      "    with self._wlock:\n",
      "  File \"/usr/lib/python3.8/multiprocessing/pool.py\", line 131, in worker\n",
      "    put((job, i, result))\n"
     ]
    },
    {
     "name": "stdout",
     "output_type": "stream",
     "text": [
      "WARNING:tensorflow:Value in checkpoint could not be found in the restored object: (root).model.optimizer's state 'm' for (root).model.layer_with_weights-0.layer_with_weights-3.kernel\n",
      "WARNING:tensorflow:Value in checkpoint could not be found in the restored object: (root).model.optimizer's state 'm' for (root).model.layer_with_weights-0.layer_with_weights-3.bias\n"
     ]
    },
    {
     "name": "stderr",
     "output_type": "stream",
     "text": [
      "  File \"/usr/lib/python3.8/multiprocessing/synchronize.py\", line 95, in __enter__\n",
      "    return self._semlock.__enter__()\n",
      "  File \"/usr/lib/python3.8/multiprocessing/pool.py\", line 131, in worker\n",
      "    put((job, i, result))\n",
      "  File \"/usr/lib/python3.8/multiprocessing/synchronize.py\", line 95, in __enter__\n",
      "    return self._semlock.__enter__()\n"
     ]
    },
    {
     "name": "stdout",
     "output_type": "stream",
     "text": [
      "WARNING:tensorflow:Value in checkpoint could not be found in the restored object: (root).model.optimizer's state 'm' for (root).model.layer_with_weights-0.layer_with_weights-4.kernel\n",
      "WARNING:tensorflow:Value in checkpoint could not be found in the restored object: (root).model.optimizer's state 'm' for (root).model.layer_with_weights-0.layer_with_weights-4.bias\n"
     ]
    },
    {
     "name": "stderr",
     "output_type": "stream",
     "text": [
      "  File \"/usr/lib/python3.8/multiprocessing/queues.py\", line 368, in put\n",
      "    self._writer.send_bytes(obj)\n",
      "  File \"/usr/lib/python3.8/multiprocessing/pool.py\", line 125, in worker\n",
      "    result = (True, func(*args, **kwds))\n",
      "  File \"/usr/local/lib/python3.8/dist-packages/keras/utils/data_utils.py\", line 580, in get_index\n",
      "    return _SHARED_SEQUENCES[uid][i]\n"
     ]
    },
    {
     "name": "stdout",
     "output_type": "stream",
     "text": [
      "WARNING:tensorflow:Value in checkpoint could not be found in the restored object: (root).model.optimizer's state 'v' for (root).model.layer_with_weights-1.kernel\n",
      "WARNING:tensorflow:Value in checkpoint could not be found in the restored object: (root).model.optimizer's state 'v' for (root).model.layer_with_weights-1.bias\n"
     ]
    },
    {
     "name": "stderr",
     "output_type": "stream",
     "text": [
      "  File \"/usr/lib/python3.8/multiprocessing/synchronize.py\", line 95, in __enter__\n",
      "    return self._semlock.__enter__()\n",
      "  File \"/usr/lib/python3.8/multiprocessing/pool.py\", line 114, in worker\n",
      "    task = get()\n",
      "  File \"/usr/lib/python3.8/multiprocessing/queues.py\", line 355, in get\n",
      "    with self._rlock:\n"
     ]
    },
    {
     "name": "stdout",
     "output_type": "stream",
     "text": [
      "WARNING:tensorflow:Value in checkpoint could not be found in the restored object: (root).model.optimizer's state 'v' for (root).model.layer_with_weights-0.layer_with_weights-0.kernel\n"
     ]
    },
    {
     "name": "stderr",
     "output_type": "stream",
     "text": [
      "KeyboardInterrupt\n"
     ]
    },
    {
     "name": "stdout",
     "output_type": "stream",
     "text": [
      "WARNING:tensorflow:Value in checkpoint could not be found in the restored object: (root).model.optimizer's state 'v' for (root).model.layer_with_weights-0.layer_with_weights-0.bias\n"
     ]
    },
    {
     "name": "stderr",
     "output_type": "stream",
     "text": [
      "  File \"/usr/lib/python3.8/multiprocessing/queues.py\", line 367, in put\n",
      "    with self._wlock:\n",
      "  File \"/usr/lib/python3.8/multiprocessing/queues.py\", line 367, in put\n",
      "    with self._wlock:\n"
     ]
    },
    {
     "name": "stdout",
     "output_type": "stream",
     "text": [
      "WARNING:tensorflow:Value in checkpoint could not be found in the restored object: (root).model.optimizer's state 'v' for (root).model.layer_with_weights-0.layer_with_weights-1.kernel\n"
     ]
    },
    {
     "name": "stderr",
     "output_type": "stream",
     "text": [
      "KeyboardInterrupt\n"
     ]
    },
    {
     "name": "stdout",
     "output_type": "stream",
     "text": [
      "WARNING:tensorflow:Value in checkpoint could not be found in the restored object: (root).model.optimizer's state 'v' for (root).model.layer_with_weights-0.layer_with_weights-1.bias\n"
     ]
    },
    {
     "name": "stderr",
     "output_type": "stream",
     "text": [
      "  File \"/usr/lib/python3.8/multiprocessing/connection.py\", line 200, in send_bytes\n",
      "    self._send_bytes(m[offset:offset + size])\n",
      "  File \"/tmp/ipykernel_225476/3947053097.py\", line 68, in __getitem__\n",
      "    b_X2 = np.zeros(\n"
     ]
    },
    {
     "name": "stdout",
     "output_type": "stream",
     "text": [
      "WARNING:tensorflow:Value in checkpoint could not be found in the restored object: (root).model.optimizer's state 'v' for (root).model.layer_with_weights-0.layer_with_weights-2.kernel\n"
     ]
    },
    {
     "name": "stderr",
     "output_type": "stream",
     "text": [
      "  File \"/usr/lib/python3.8/multiprocessing/queues.py\", line 356, in get\n",
      "    res = self._reader.recv_bytes()\n"
     ]
    },
    {
     "name": "stdout",
     "output_type": "stream",
     "text": [
      "WARNING:tensorflow:Value in checkpoint could not be found in the restored object: (root).model.optimizer's state 'v' for (root).model.layer_with_weights-0.layer_with_weights-2.bias\n"
     ]
    },
    {
     "name": "stderr",
     "output_type": "stream",
     "text": [
      "  File \"/usr/local/lib/python3.8/dist-packages/keras/utils/data_utils.py\", line 580, in get_index\n",
      "    return _SHARED_SEQUENCES[uid][i]\n",
      "KeyboardInterrupt\n"
     ]
    },
    {
     "name": "stdout",
     "output_type": "stream",
     "text": [
      "WARNING:tensorflow:Value in checkpoint could not be found in the restored object: (root).model.optimizer's state 'v' for (root).model.layer_with_weights-0.layer_with_weights-3.kernel\n"
     ]
    },
    {
     "name": "stderr",
     "output_type": "stream",
     "text": [
      "  File \"/usr/lib/python3.8/multiprocessing/synchronize.py\", line 95, in __enter__\n",
      "    return self._semlock.__enter__()\n"
     ]
    },
    {
     "name": "stdout",
     "output_type": "stream",
     "text": [
      "WARNING:tensorflow:Value in checkpoint could not be found in the restored object: (root).model.optimizer's state 'v' for (root).model.layer_with_weights-0.layer_with_weights-3.bias\n"
     ]
    },
    {
     "name": "stderr",
     "output_type": "stream",
     "text": [
      "  File \"/usr/lib/python3.8/multiprocessing/synchronize.py\", line 95, in __enter__\n",
      "    return self._semlock.__enter__()\n",
      "  File \"/usr/lib/python3.8/multiprocessing/synchronize.py\", line 95, in __enter__\n",
      "    return self._semlock.__enter__()\n"
     ]
    },
    {
     "name": "stdout",
     "output_type": "stream",
     "text": [
      "WARNING:tensorflow:Value in checkpoint could not be found in the restored object: (root).model.optimizer's state 'v' for (root).model.layer_with_weights-0.layer_with_weights-4.kernel\n"
     ]
    },
    {
     "name": "stderr",
     "output_type": "stream",
     "text": [
      "  File \"/usr/lib/python3.8/multiprocessing/connection.py\", line 405, in _send_bytes\n",
      "    self._send(buf)\n"
     ]
    },
    {
     "name": "stdout",
     "output_type": "stream",
     "text": [
      "WARNING:tensorflow:Value in checkpoint could not be found in the restored object: (root).model.optimizer's state 'v' for (root).model.layer_with_weights-0.layer_with_weights-4.bias\n"
     ]
    },
    {
     "name": "stderr",
     "output_type": "stream",
     "text": [
      "  File \"/usr/lib/python3.8/multiprocessing/connection.py\", line 216, in recv_bytes\n",
      "    buf = self._recv_bytes(maxlength)\n",
      "KeyboardInterrupt\n"
     ]
    },
    {
     "name": "stdout",
     "output_type": "stream",
     "text": [
      "WARNING:tensorflow:Detecting that an object or model or tf.train.Checkpoint is being deleted with unrestored values. See the following logs for the specific values in question. To silence these warnings, use `status.expect_partial()`. See https://www.tensorflow.org/api_docs/python/tf/train/Checkpoint#restorefor details about the status object returned by the restore function.\n"
     ]
    },
    {
     "name": "stderr",
     "output_type": "stream",
     "text": [
      "  File \"/tmp/ipykernel_225476/3947053097.py\", line 78, in __getitem__\n",
      "    (b_X1[i], b_X2[i]), b_Y[i] = self._get_one(\n"
     ]
    },
    {
     "name": "stdout",
     "output_type": "stream",
     "text": [
      "WARNING:tensorflow:Value in checkpoint could not be found in the restored object: (root).save_counter\n"
     ]
    },
    {
     "name": "stderr",
     "output_type": "stream",
     "text": [
      "KeyboardInterrupt\n",
      "KeyboardInterrupt\n"
     ]
    },
    {
     "name": "stdout",
     "output_type": "stream",
     "text": [
      "WARNING:tensorflow:Value in checkpoint could not be found in the restored object: (root).model.optimizer.iter\n"
     ]
    },
    {
     "name": "stderr",
     "output_type": "stream",
     "text": [
      "KeyboardInterrupt\n"
     ]
    },
    {
     "name": "stdout",
     "output_type": "stream",
     "text": [
      "WARNING:tensorflow:Value in checkpoint could not be found in the restored object: (root).model.optimizer.beta_1\n"
     ]
    },
    {
     "name": "stderr",
     "output_type": "stream",
     "text": [
      "  File \"/usr/lib/python3.8/multiprocessing/connection.py\", line 414, in _recv_bytes\n",
      "    buf = self._recv(4)\n",
      "  File \"/usr/lib/python3.8/multiprocessing/connection.py\", line 368, in _send\n",
      "    n = write(self._handle, buf)\n"
     ]
    },
    {
     "name": "stdout",
     "output_type": "stream",
     "text": [
      "WARNING:tensorflow:Value in checkpoint could not be found in the restored object: (root).model.optimizer.beta_2\n"
     ]
    },
    {
     "name": "stderr",
     "output_type": "stream",
     "text": [
      "  File \"/tmp/ipykernel_225476/3947053097.py\", line 59, in _get_one\n",
      "    img2 = self.load_img(path2)\n"
     ]
    },
    {
     "name": "stdout",
     "output_type": "stream",
     "text": [
      "WARNING:tensorflow:Value in checkpoint could not be found in the restored object: (root).model.optimizer.decay\n"
     ]
    },
    {
     "name": "stderr",
     "output_type": "stream",
     "text": [
      "KeyboardInterrupt\n",
      "  File \"/usr/lib/python3.8/multiprocessing/connection.py\", line 379, in _recv\n",
      "    chunk = read(handle, remaining)\n"
     ]
    },
    {
     "name": "stdout",
     "output_type": "stream",
     "text": [
      "WARNING:tensorflow:Value in checkpoint could not be found in the restored object: (root).model.optimizer.learning_rate\n"
     ]
    },
    {
     "name": "stderr",
     "output_type": "stream",
     "text": [
      "  File \"/tmp/ipykernel_225476/3947053097.py\", line 23, in load_img\n",
      "    img = np.load(path).astype(\"float32\")\n"
     ]
    },
    {
     "name": "stdout",
     "output_type": "stream",
     "text": [
      "WARNING:tensorflow:Value in checkpoint could not be found in the restored object: (root).model.optimizer's state 'm' for (root).model.layer_with_weights-1.kernel\n"
     ]
    },
    {
     "name": "stderr",
     "output_type": "stream",
     "text": [
      "KeyboardInterrupt\n",
      "  File \"/usr/local/lib/python3.8/dist-packages/numpy/lib/npyio.py\", line 413, in load\n",
      "    return format.read_array(fid, allow_pickle=allow_pickle,\n"
     ]
    },
    {
     "name": "stdout",
     "output_type": "stream",
     "text": [
      "WARNING:tensorflow:Value in checkpoint could not be found in the restored object: (root).model.optimizer's state 'm' for (root).model.layer_with_weights-1.bias\n"
     ]
    },
    {
     "name": "stderr",
     "output_type": "stream",
     "text": [
      "  File \"/usr/local/lib/python3.8/dist-packages/numpy/lib/format.py\", line 731, in read_array\n",
      "    shape, fortran_order, dtype = _read_array_header(fp, version)\n"
     ]
    },
    {
     "name": "stdout",
     "output_type": "stream",
     "text": [
      "WARNING:tensorflow:Value in checkpoint could not be found in the restored object: (root).model.optimizer's state 'm' for (root).model.layer_with_weights-0.layer_with_weights-0.kernel\n"
     ]
    },
    {
     "name": "stderr",
     "output_type": "stream",
     "text": [
      "  File \"/usr/local/lib/python3.8/dist-packages/numpy/lib/format.py\", line 594, in _read_array_header\n",
      "    header = _filter_header(header)\n",
      "  File \"/usr/local/lib/python3.8/dist-packages/numpy/lib/format.py\", line 555, in _filter_header\n",
      "    for token in tokenize.generate_tokens(StringIO(s).readline):\n"
     ]
    },
    {
     "name": "stdout",
     "output_type": "stream",
     "text": [
      "WARNING:tensorflow:Value in checkpoint could not be found in the restored object: (root).model.optimizer's state 'm' for (root).model.layer_with_weights-0.layer_with_weights-0.bias\n"
     ]
    },
    {
     "name": "stderr",
     "output_type": "stream",
     "text": [
      "  File \"/usr/lib/python3.8/tokenize.py\", line 527, in _tokenize\n",
      "    start, end = pseudomatch.span(1)\n"
     ]
    },
    {
     "name": "stdout",
     "output_type": "stream",
     "text": [
      "WARNING:tensorflow:Value in checkpoint could not be found in the restored object: (root).model.optimizer's state 'm' for (root).model.layer_with_weights-0.layer_with_weights-1.kernel\n"
     ]
    },
    {
     "name": "stderr",
     "output_type": "stream",
     "text": [
      "KeyboardInterrupt\n"
     ]
    },
    {
     "name": "stdout",
     "output_type": "stream",
     "text": [
      "WARNING:tensorflow:Value in checkpoint could not be found in the restored object: (root).model.optimizer's state 'm' for (root).model.layer_with_weights-0.layer_with_weights-1.bias\n",
      "WARNING:tensorflow:Value in checkpoint could not be found in the restored object: (root).model.optimizer's state 'm' for (root).model.layer_with_weights-0.layer_with_weights-2.kernel\n",
      "WARNING:tensorflow:Value in checkpoint could not be found in the restored object: (root).model.optimizer's state 'm' for (root).model.layer_with_weights-0.layer_with_weights-2.bias\n",
      "WARNING:tensorflow:Value in checkpoint could not be found in the restored object: (root).model.optimizer's state 'm' for (root).model.layer_with_weights-0.layer_with_weights-3.kernel\n",
      "WARNING:tensorflow:Value in checkpoint could not be found in the restored object: (root).model.optimizer's state 'm' for (root).model.layer_with_weights-0.layer_with_weights-3.bias\n",
      "WARNING:tensorflow:Value in checkpoint could not be found in the restored object: (root).model.optimizer's state 'm' for (root).model.layer_with_weights-0.layer_with_weights-4.kernel\n",
      "WARNING:tensorflow:Value in checkpoint could not be found in the restored object: (root).model.optimizer's state 'm' for (root).model.layer_with_weights-0.layer_with_weights-4.bias\n",
      "WARNING:tensorflow:Value in checkpoint could not be found in the restored object: (root).model.optimizer's state 'v' for (root).model.layer_with_weights-1.kernel\n",
      "WARNING:tensorflow:Value in checkpoint could not be found in the restored object: (root).model.optimizer's state 'v' for (root).model.layer_with_weights-1.bias\n",
      "WARNING:tensorflow:Value in checkpoint could not be found in the restored object: (root).model.optimizer's state 'v' for (root).model.layer_with_weights-0.layer_with_weights-0.kernel\n",
      "WARNING:tensorflow:Value in checkpoint could not be found in the restored object: (root).model.optimizer's state 'v' for (root).model.layer_with_weights-0.layer_with_weights-0.bias\n",
      "WARNING:tensorflow:Value in checkpoint could not be found in the restored object: (root).model.optimizer's state 'v' for (root).model.layer_with_weights-0.layer_with_weights-1.kernel\n",
      "WARNING:tensorflow:Value in checkpoint could not be found in the restored object: (root).model.optimizer's state 'v' for (root).model.layer_with_weights-0.layer_with_weights-1.bias\n",
      "WARNING:tensorflow:Value in checkpoint could not be found in the restored object: (root).model.optimizer's state 'v' for (root).model.layer_with_weights-0.layer_with_weights-2.kernel\n",
      "WARNING:tensorflow:Value in checkpoint could not be found in the restored object: (root).model.optimizer's state 'v' for (root).model.layer_with_weights-0.layer_with_weights-2.bias\n",
      "WARNING:tensorflow:Value in checkpoint could not be found in the restored object: (root).model.optimizer's state 'v' for (root).model.layer_with_weights-0.layer_with_weights-3.kernel\n",
      "WARNING:tensorflow:Value in checkpoint could not be found in the restored object: (root).model.optimizer's state 'v' for (root).model.layer_with_weights-0.layer_with_weights-3.bias\n",
      "WARNING:tensorflow:Value in checkpoint could not be found in the restored object: (root).model.optimizer's state 'v' for (root).model.layer_with_weights-0.layer_with_weights-4.kernel\n",
      "WARNING:tensorflow:Value in checkpoint could not be found in the restored object: (root).model.optimizer's state 'v' for (root).model.layer_with_weights-0.layer_with_weights-4.bias\n"
     ]
    },
    {
     "ename": "KeyboardInterrupt",
     "evalue": "",
     "output_type": "error",
     "traceback": [
      "\u001b[0;31m---------------------------------------------------------------------------\u001b[0m",
      "\u001b[0;31mKeyboardInterrupt\u001b[0m                         Traceback (most recent call last)",
      "Cell \u001b[0;32mIn [32], line 1\u001b[0m\n\u001b[0;32m----> 1\u001b[0m history \u001b[38;5;241m=\u001b[39m \u001b[43mmodel\u001b[49m\u001b[38;5;241;43m.\u001b[39;49m\u001b[43mfit\u001b[49m\u001b[43m(\u001b[49m\n\u001b[1;32m      2\u001b[0m \u001b[43m    \u001b[49m\u001b[43mx\u001b[49m\u001b[38;5;241;43m=\u001b[39;49m\u001b[43mtrain_gen\u001b[49m\u001b[43m,\u001b[49m\n\u001b[1;32m      3\u001b[0m \u001b[43m    \u001b[49m\u001b[43mbatch_size\u001b[49m\u001b[38;5;241;43m=\u001b[39;49m\u001b[43mBATCH_SIZE\u001b[49m\u001b[43m,\u001b[49m\n\u001b[1;32m      4\u001b[0m \u001b[43m    \u001b[49m\u001b[43mepochs\u001b[49m\u001b[38;5;241;43m=\u001b[39;49m\u001b[38;5;241;43m250\u001b[39;49m\u001b[43m,\u001b[49m\n\u001b[1;32m      5\u001b[0m \u001b[43m    \u001b[49m\u001b[43mverbose\u001b[49m\u001b[38;5;241;43m=\u001b[39;49m\u001b[38;5;124;43m\"\u001b[39;49m\u001b[38;5;124;43mauto\u001b[39;49m\u001b[38;5;124;43m\"\u001b[39;49m\u001b[43m,\u001b[49m\n\u001b[1;32m      6\u001b[0m \u001b[43m    \u001b[49m\u001b[43mcallbacks\u001b[49m\u001b[38;5;241;43m=\u001b[39;49m\u001b[43mcallbacks\u001b[49m\u001b[43m,\u001b[49m\n\u001b[1;32m      7\u001b[0m \u001b[43m    \u001b[49m\u001b[43mvalidation_data\u001b[49m\u001b[38;5;241;43m=\u001b[39;49m\u001b[43mval_gen\u001b[49m\u001b[43m,\u001b[49m\n\u001b[1;32m      8\u001b[0m \u001b[43m    \u001b[49m\u001b[43mshuffle\u001b[49m\u001b[38;5;241;43m=\u001b[39;49m\u001b[38;5;28;43;01mTrue\u001b[39;49;00m\u001b[43m,\u001b[49m\n\u001b[1;32m      9\u001b[0m \u001b[43m    \u001b[49m\u001b[43msteps_per_epoch\u001b[49m\u001b[38;5;241;43m=\u001b[39;49m\u001b[38;5;28;43mlen\u001b[39;49m\u001b[43m(\u001b[49m\u001b[43mtrain_data\u001b[49m\u001b[43m)\u001b[49m\u001b[43m \u001b[49m\u001b[38;5;241;43m/\u001b[39;49m\u001b[38;5;241;43m/\u001b[39;49m\u001b[43m \u001b[49m\u001b[43mBATCH_SIZE\u001b[49m\u001b[43m,\u001b[49m\n\u001b[1;32m     10\u001b[0m \u001b[43m    \u001b[49m\u001b[43mvalidation_steps\u001b[49m\u001b[38;5;241;43m=\u001b[39;49m\u001b[38;5;28;43mlen\u001b[39;49m\u001b[43m(\u001b[49m\u001b[43mval_data\u001b[49m\u001b[43m)\u001b[49m\u001b[43m \u001b[49m\u001b[38;5;241;43m/\u001b[39;49m\u001b[38;5;241;43m/\u001b[39;49m\u001b[43m \u001b[49m\u001b[43mBATCH_SIZE\u001b[49m\u001b[43m,\u001b[49m\n\u001b[1;32m     11\u001b[0m \u001b[43m    \u001b[49m\u001b[43mvalidation_batch_size\u001b[49m\u001b[38;5;241;43m=\u001b[39;49m\u001b[43mBATCH_SIZE\u001b[49m\u001b[43m,\u001b[49m\n\u001b[1;32m     12\u001b[0m \u001b[43m    \u001b[49m\u001b[43mvalidation_freq\u001b[49m\u001b[38;5;241;43m=\u001b[39;49m\u001b[38;5;241;43m1\u001b[39;49m\u001b[43m,\u001b[49m\n\u001b[1;32m     13\u001b[0m \u001b[43m    \u001b[49m\u001b[43mmax_queue_size\u001b[49m\u001b[38;5;241;43m=\u001b[39;49m\u001b[38;5;241;43m10\u001b[39;49m\u001b[43m,\u001b[49m\n\u001b[1;32m     14\u001b[0m \u001b[43m    \u001b[49m\u001b[43mworkers\u001b[49m\u001b[38;5;241;43m=\u001b[39;49m\u001b[38;5;241;43m10\u001b[39;49m\u001b[43m,\u001b[49m\n\u001b[1;32m     15\u001b[0m \u001b[43m    \u001b[49m\u001b[43muse_multiprocessing\u001b[49m\u001b[38;5;241;43m=\u001b[39;49m\u001b[38;5;28;43;01mTrue\u001b[39;49;00m\u001b[43m,\u001b[49m\n\u001b[1;32m     16\u001b[0m \u001b[43m)\u001b[49m\n",
      "File \u001b[0;32m/usr/local/lib/python3.8/dist-packages/keras/utils/traceback_utils.py:64\u001b[0m, in \u001b[0;36mfilter_traceback.<locals>.error_handler\u001b[0;34m(*args, **kwargs)\u001b[0m\n\u001b[1;32m     62\u001b[0m filtered_tb \u001b[38;5;241m=\u001b[39m \u001b[38;5;28;01mNone\u001b[39;00m\n\u001b[1;32m     63\u001b[0m \u001b[38;5;28;01mtry\u001b[39;00m:\n\u001b[0;32m---> 64\u001b[0m   \u001b[38;5;28;01mreturn\u001b[39;00m \u001b[43mfn\u001b[49m\u001b[43m(\u001b[49m\u001b[38;5;241;43m*\u001b[39;49m\u001b[43margs\u001b[49m\u001b[43m,\u001b[49m\u001b[43m \u001b[49m\u001b[38;5;241;43m*\u001b[39;49m\u001b[38;5;241;43m*\u001b[39;49m\u001b[43mkwargs\u001b[49m\u001b[43m)\u001b[49m\n\u001b[1;32m     65\u001b[0m \u001b[38;5;28;01mexcept\u001b[39;00m \u001b[38;5;167;01mException\u001b[39;00m \u001b[38;5;28;01mas\u001b[39;00m e:  \u001b[38;5;66;03m# pylint: disable=broad-except\u001b[39;00m\n\u001b[1;32m     66\u001b[0m   filtered_tb \u001b[38;5;241m=\u001b[39m _process_traceback_frames(e\u001b[38;5;241m.\u001b[39m__traceback__)\n",
      "File \u001b[0;32m/usr/local/lib/python3.8/dist-packages/keras/engine/training.py:1409\u001b[0m, in \u001b[0;36mModel.fit\u001b[0;34m(self, x, y, batch_size, epochs, verbose, callbacks, validation_split, validation_data, shuffle, class_weight, sample_weight, initial_epoch, steps_per_epoch, validation_steps, validation_batch_size, validation_freq, max_queue_size, workers, use_multiprocessing)\u001b[0m\n\u001b[1;32m   1402\u001b[0m \u001b[38;5;28;01mwith\u001b[39;00m tf\u001b[38;5;241m.\u001b[39mprofiler\u001b[38;5;241m.\u001b[39mexperimental\u001b[38;5;241m.\u001b[39mTrace(\n\u001b[1;32m   1403\u001b[0m     \u001b[38;5;124m'\u001b[39m\u001b[38;5;124mtrain\u001b[39m\u001b[38;5;124m'\u001b[39m,\n\u001b[1;32m   1404\u001b[0m     epoch_num\u001b[38;5;241m=\u001b[39mepoch,\n\u001b[1;32m   1405\u001b[0m     step_num\u001b[38;5;241m=\u001b[39mstep,\n\u001b[1;32m   1406\u001b[0m     batch_size\u001b[38;5;241m=\u001b[39mbatch_size,\n\u001b[1;32m   1407\u001b[0m     _r\u001b[38;5;241m=\u001b[39m\u001b[38;5;241m1\u001b[39m):\n\u001b[1;32m   1408\u001b[0m   callbacks\u001b[38;5;241m.\u001b[39mon_train_batch_begin(step)\n\u001b[0;32m-> 1409\u001b[0m   tmp_logs \u001b[38;5;241m=\u001b[39m \u001b[38;5;28;43mself\u001b[39;49m\u001b[38;5;241;43m.\u001b[39;49m\u001b[43mtrain_function\u001b[49m\u001b[43m(\u001b[49m\u001b[43miterator\u001b[49m\u001b[43m)\u001b[49m\n\u001b[1;32m   1410\u001b[0m   \u001b[38;5;28;01mif\u001b[39;00m data_handler\u001b[38;5;241m.\u001b[39mshould_sync:\n\u001b[1;32m   1411\u001b[0m     context\u001b[38;5;241m.\u001b[39masync_wait()\n",
      "File \u001b[0;32m/usr/local/lib/python3.8/dist-packages/tensorflow/python/util/traceback_utils.py:150\u001b[0m, in \u001b[0;36mfilter_traceback.<locals>.error_handler\u001b[0;34m(*args, **kwargs)\u001b[0m\n\u001b[1;32m    148\u001b[0m filtered_tb \u001b[38;5;241m=\u001b[39m \u001b[38;5;28;01mNone\u001b[39;00m\n\u001b[1;32m    149\u001b[0m \u001b[38;5;28;01mtry\u001b[39;00m:\n\u001b[0;32m--> 150\u001b[0m   \u001b[38;5;28;01mreturn\u001b[39;00m \u001b[43mfn\u001b[49m\u001b[43m(\u001b[49m\u001b[38;5;241;43m*\u001b[39;49m\u001b[43margs\u001b[49m\u001b[43m,\u001b[49m\u001b[43m \u001b[49m\u001b[38;5;241;43m*\u001b[39;49m\u001b[38;5;241;43m*\u001b[39;49m\u001b[43mkwargs\u001b[49m\u001b[43m)\u001b[49m\n\u001b[1;32m    151\u001b[0m \u001b[38;5;28;01mexcept\u001b[39;00m \u001b[38;5;167;01mException\u001b[39;00m \u001b[38;5;28;01mas\u001b[39;00m e:\n\u001b[1;32m    152\u001b[0m   filtered_tb \u001b[38;5;241m=\u001b[39m _process_traceback_frames(e\u001b[38;5;241m.\u001b[39m__traceback__)\n",
      "File \u001b[0;32m/usr/local/lib/python3.8/dist-packages/tensorflow/python/eager/def_function.py:915\u001b[0m, in \u001b[0;36mFunction.__call__\u001b[0;34m(self, *args, **kwds)\u001b[0m\n\u001b[1;32m    912\u001b[0m compiler \u001b[38;5;241m=\u001b[39m \u001b[38;5;124m\"\u001b[39m\u001b[38;5;124mxla\u001b[39m\u001b[38;5;124m\"\u001b[39m \u001b[38;5;28;01mif\u001b[39;00m \u001b[38;5;28mself\u001b[39m\u001b[38;5;241m.\u001b[39m_jit_compile \u001b[38;5;28;01melse\u001b[39;00m \u001b[38;5;124m\"\u001b[39m\u001b[38;5;124mnonXla\u001b[39m\u001b[38;5;124m\"\u001b[39m\n\u001b[1;32m    914\u001b[0m \u001b[38;5;28;01mwith\u001b[39;00m OptionalXlaContext(\u001b[38;5;28mself\u001b[39m\u001b[38;5;241m.\u001b[39m_jit_compile):\n\u001b[0;32m--> 915\u001b[0m   result \u001b[38;5;241m=\u001b[39m \u001b[38;5;28;43mself\u001b[39;49m\u001b[38;5;241;43m.\u001b[39;49m\u001b[43m_call\u001b[49m\u001b[43m(\u001b[49m\u001b[38;5;241;43m*\u001b[39;49m\u001b[43margs\u001b[49m\u001b[43m,\u001b[49m\u001b[43m \u001b[49m\u001b[38;5;241;43m*\u001b[39;49m\u001b[38;5;241;43m*\u001b[39;49m\u001b[43mkwds\u001b[49m\u001b[43m)\u001b[49m\n\u001b[1;32m    917\u001b[0m new_tracing_count \u001b[38;5;241m=\u001b[39m \u001b[38;5;28mself\u001b[39m\u001b[38;5;241m.\u001b[39mexperimental_get_tracing_count()\n\u001b[1;32m    918\u001b[0m without_tracing \u001b[38;5;241m=\u001b[39m (tracing_count \u001b[38;5;241m==\u001b[39m new_tracing_count)\n",
      "File \u001b[0;32m/usr/local/lib/python3.8/dist-packages/tensorflow/python/eager/def_function.py:947\u001b[0m, in \u001b[0;36mFunction._call\u001b[0;34m(self, *args, **kwds)\u001b[0m\n\u001b[1;32m    944\u001b[0m   \u001b[38;5;28mself\u001b[39m\u001b[38;5;241m.\u001b[39m_lock\u001b[38;5;241m.\u001b[39mrelease()\n\u001b[1;32m    945\u001b[0m   \u001b[38;5;66;03m# In this case we have created variables on the first call, so we run the\u001b[39;00m\n\u001b[1;32m    946\u001b[0m   \u001b[38;5;66;03m# defunned version which is guaranteed to never create variables.\u001b[39;00m\n\u001b[0;32m--> 947\u001b[0m   \u001b[38;5;28;01mreturn\u001b[39;00m \u001b[38;5;28;43mself\u001b[39;49m\u001b[38;5;241;43m.\u001b[39;49m\u001b[43m_stateless_fn\u001b[49m\u001b[43m(\u001b[49m\u001b[38;5;241;43m*\u001b[39;49m\u001b[43margs\u001b[49m\u001b[43m,\u001b[49m\u001b[43m \u001b[49m\u001b[38;5;241;43m*\u001b[39;49m\u001b[38;5;241;43m*\u001b[39;49m\u001b[43mkwds\u001b[49m\u001b[43m)\u001b[49m  \u001b[38;5;66;03m# pylint: disable=not-callable\u001b[39;00m\n\u001b[1;32m    948\u001b[0m \u001b[38;5;28;01melif\u001b[39;00m \u001b[38;5;28mself\u001b[39m\u001b[38;5;241m.\u001b[39m_stateful_fn \u001b[38;5;129;01mis\u001b[39;00m \u001b[38;5;129;01mnot\u001b[39;00m \u001b[38;5;28;01mNone\u001b[39;00m:\n\u001b[1;32m    949\u001b[0m   \u001b[38;5;66;03m# Release the lock early so that multiple threads can perform the call\u001b[39;00m\n\u001b[1;32m    950\u001b[0m   \u001b[38;5;66;03m# in parallel.\u001b[39;00m\n\u001b[1;32m    951\u001b[0m   \u001b[38;5;28mself\u001b[39m\u001b[38;5;241m.\u001b[39m_lock\u001b[38;5;241m.\u001b[39mrelease()\n",
      "File \u001b[0;32m/usr/local/lib/python3.8/dist-packages/tensorflow/python/eager/function.py:2453\u001b[0m, in \u001b[0;36mFunction.__call__\u001b[0;34m(self, *args, **kwargs)\u001b[0m\n\u001b[1;32m   2450\u001b[0m \u001b[38;5;28;01mwith\u001b[39;00m \u001b[38;5;28mself\u001b[39m\u001b[38;5;241m.\u001b[39m_lock:\n\u001b[1;32m   2451\u001b[0m   (graph_function,\n\u001b[1;32m   2452\u001b[0m    filtered_flat_args) \u001b[38;5;241m=\u001b[39m \u001b[38;5;28mself\u001b[39m\u001b[38;5;241m.\u001b[39m_maybe_define_function(args, kwargs)\n\u001b[0;32m-> 2453\u001b[0m \u001b[38;5;28;01mreturn\u001b[39;00m \u001b[43mgraph_function\u001b[49m\u001b[38;5;241;43m.\u001b[39;49m\u001b[43m_call_flat\u001b[49m\u001b[43m(\u001b[49m\n\u001b[1;32m   2454\u001b[0m \u001b[43m    \u001b[49m\u001b[43mfiltered_flat_args\u001b[49m\u001b[43m,\u001b[49m\u001b[43m \u001b[49m\u001b[43mcaptured_inputs\u001b[49m\u001b[38;5;241;43m=\u001b[39;49m\u001b[43mgraph_function\u001b[49m\u001b[38;5;241;43m.\u001b[39;49m\u001b[43mcaptured_inputs\u001b[49m\u001b[43m)\u001b[49m\n",
      "File \u001b[0;32m/usr/local/lib/python3.8/dist-packages/tensorflow/python/eager/function.py:1860\u001b[0m, in \u001b[0;36mConcreteFunction._call_flat\u001b[0;34m(self, args, captured_inputs, cancellation_manager)\u001b[0m\n\u001b[1;32m   1856\u001b[0m possible_gradient_type \u001b[38;5;241m=\u001b[39m gradients_util\u001b[38;5;241m.\u001b[39mPossibleTapeGradientTypes(args)\n\u001b[1;32m   1857\u001b[0m \u001b[38;5;28;01mif\u001b[39;00m (possible_gradient_type \u001b[38;5;241m==\u001b[39m gradients_util\u001b[38;5;241m.\u001b[39mPOSSIBLE_GRADIENT_TYPES_NONE\n\u001b[1;32m   1858\u001b[0m     \u001b[38;5;129;01mand\u001b[39;00m executing_eagerly):\n\u001b[1;32m   1859\u001b[0m   \u001b[38;5;66;03m# No tape is watching; skip to running the function.\u001b[39;00m\n\u001b[0;32m-> 1860\u001b[0m   \u001b[38;5;28;01mreturn\u001b[39;00m \u001b[38;5;28mself\u001b[39m\u001b[38;5;241m.\u001b[39m_build_call_outputs(\u001b[38;5;28;43mself\u001b[39;49m\u001b[38;5;241;43m.\u001b[39;49m\u001b[43m_inference_function\u001b[49m\u001b[38;5;241;43m.\u001b[39;49m\u001b[43mcall\u001b[49m\u001b[43m(\u001b[49m\n\u001b[1;32m   1861\u001b[0m \u001b[43m      \u001b[49m\u001b[43mctx\u001b[49m\u001b[43m,\u001b[49m\u001b[43m \u001b[49m\u001b[43margs\u001b[49m\u001b[43m,\u001b[49m\u001b[43m \u001b[49m\u001b[43mcancellation_manager\u001b[49m\u001b[38;5;241;43m=\u001b[39;49m\u001b[43mcancellation_manager\u001b[49m\u001b[43m)\u001b[49m)\n\u001b[1;32m   1862\u001b[0m forward_backward \u001b[38;5;241m=\u001b[39m \u001b[38;5;28mself\u001b[39m\u001b[38;5;241m.\u001b[39m_select_forward_and_backward_functions(\n\u001b[1;32m   1863\u001b[0m     args,\n\u001b[1;32m   1864\u001b[0m     possible_gradient_type,\n\u001b[1;32m   1865\u001b[0m     executing_eagerly)\n\u001b[1;32m   1866\u001b[0m forward_function, args_with_tangents \u001b[38;5;241m=\u001b[39m forward_backward\u001b[38;5;241m.\u001b[39mforward()\n",
      "File \u001b[0;32m/usr/local/lib/python3.8/dist-packages/tensorflow/python/eager/function.py:497\u001b[0m, in \u001b[0;36m_EagerDefinedFunction.call\u001b[0;34m(self, ctx, args, cancellation_manager)\u001b[0m\n\u001b[1;32m    495\u001b[0m \u001b[38;5;28;01mwith\u001b[39;00m _InterpolateFunctionError(\u001b[38;5;28mself\u001b[39m):\n\u001b[1;32m    496\u001b[0m   \u001b[38;5;28;01mif\u001b[39;00m cancellation_manager \u001b[38;5;129;01mis\u001b[39;00m \u001b[38;5;28;01mNone\u001b[39;00m:\n\u001b[0;32m--> 497\u001b[0m     outputs \u001b[38;5;241m=\u001b[39m \u001b[43mexecute\u001b[49m\u001b[38;5;241;43m.\u001b[39;49m\u001b[43mexecute\u001b[49m\u001b[43m(\u001b[49m\n\u001b[1;32m    498\u001b[0m \u001b[43m        \u001b[49m\u001b[38;5;28;43mstr\u001b[39;49m\u001b[43m(\u001b[49m\u001b[38;5;28;43mself\u001b[39;49m\u001b[38;5;241;43m.\u001b[39;49m\u001b[43msignature\u001b[49m\u001b[38;5;241;43m.\u001b[39;49m\u001b[43mname\u001b[49m\u001b[43m)\u001b[49m\u001b[43m,\u001b[49m\n\u001b[1;32m    499\u001b[0m \u001b[43m        \u001b[49m\u001b[43mnum_outputs\u001b[49m\u001b[38;5;241;43m=\u001b[39;49m\u001b[38;5;28;43mself\u001b[39;49m\u001b[38;5;241;43m.\u001b[39;49m\u001b[43m_num_outputs\u001b[49m\u001b[43m,\u001b[49m\n\u001b[1;32m    500\u001b[0m \u001b[43m        \u001b[49m\u001b[43minputs\u001b[49m\u001b[38;5;241;43m=\u001b[39;49m\u001b[43margs\u001b[49m\u001b[43m,\u001b[49m\n\u001b[1;32m    501\u001b[0m \u001b[43m        \u001b[49m\u001b[43mattrs\u001b[49m\u001b[38;5;241;43m=\u001b[39;49m\u001b[43mattrs\u001b[49m\u001b[43m,\u001b[49m\n\u001b[1;32m    502\u001b[0m \u001b[43m        \u001b[49m\u001b[43mctx\u001b[49m\u001b[38;5;241;43m=\u001b[39;49m\u001b[43mctx\u001b[49m\u001b[43m)\u001b[49m\n\u001b[1;32m    503\u001b[0m   \u001b[38;5;28;01melse\u001b[39;00m:\n\u001b[1;32m    504\u001b[0m     outputs \u001b[38;5;241m=\u001b[39m execute\u001b[38;5;241m.\u001b[39mexecute_with_cancellation(\n\u001b[1;32m    505\u001b[0m         \u001b[38;5;28mstr\u001b[39m(\u001b[38;5;28mself\u001b[39m\u001b[38;5;241m.\u001b[39msignature\u001b[38;5;241m.\u001b[39mname),\n\u001b[1;32m    506\u001b[0m         num_outputs\u001b[38;5;241m=\u001b[39m\u001b[38;5;28mself\u001b[39m\u001b[38;5;241m.\u001b[39m_num_outputs,\n\u001b[0;32m   (...)\u001b[0m\n\u001b[1;32m    509\u001b[0m         ctx\u001b[38;5;241m=\u001b[39mctx,\n\u001b[1;32m    510\u001b[0m         cancellation_manager\u001b[38;5;241m=\u001b[39mcancellation_manager)\n",
      "File \u001b[0;32m/usr/local/lib/python3.8/dist-packages/tensorflow/python/eager/execute.py:54\u001b[0m, in \u001b[0;36mquick_execute\u001b[0;34m(op_name, num_outputs, inputs, attrs, ctx, name)\u001b[0m\n\u001b[1;32m     52\u001b[0m \u001b[38;5;28;01mtry\u001b[39;00m:\n\u001b[1;32m     53\u001b[0m   ctx\u001b[38;5;241m.\u001b[39mensure_initialized()\n\u001b[0;32m---> 54\u001b[0m   tensors \u001b[38;5;241m=\u001b[39m \u001b[43mpywrap_tfe\u001b[49m\u001b[38;5;241;43m.\u001b[39;49m\u001b[43mTFE_Py_Execute\u001b[49m\u001b[43m(\u001b[49m\u001b[43mctx\u001b[49m\u001b[38;5;241;43m.\u001b[39;49m\u001b[43m_handle\u001b[49m\u001b[43m,\u001b[49m\u001b[43m \u001b[49m\u001b[43mdevice_name\u001b[49m\u001b[43m,\u001b[49m\u001b[43m \u001b[49m\u001b[43mop_name\u001b[49m\u001b[43m,\u001b[49m\n\u001b[1;32m     55\u001b[0m \u001b[43m                                      \u001b[49m\u001b[43minputs\u001b[49m\u001b[43m,\u001b[49m\u001b[43m \u001b[49m\u001b[43mattrs\u001b[49m\u001b[43m,\u001b[49m\u001b[43m \u001b[49m\u001b[43mnum_outputs\u001b[49m\u001b[43m)\u001b[49m\n\u001b[1;32m     56\u001b[0m \u001b[38;5;28;01mexcept\u001b[39;00m core\u001b[38;5;241m.\u001b[39m_NotOkStatusException \u001b[38;5;28;01mas\u001b[39;00m e:\n\u001b[1;32m     57\u001b[0m   \u001b[38;5;28;01mif\u001b[39;00m name \u001b[38;5;129;01mis\u001b[39;00m \u001b[38;5;129;01mnot\u001b[39;00m \u001b[38;5;28;01mNone\u001b[39;00m:\n",
      "\u001b[0;31mKeyboardInterrupt\u001b[0m: "
     ]
    },
    {
     "name": "stderr",
     "output_type": "stream",
     "text": [
      "Process Keras_worker_ForkPoolWorker-2194:\n",
      "Process Keras_worker_ForkPoolWorker-2191:\n",
      "Process Keras_worker_ForkPoolWorker-2192:\n",
      "Process Keras_worker_ForkPoolWorker-2200:\n",
      "Process Keras_worker_ForkPoolWorker-2197:\n",
      "Process Keras_worker_ForkPoolWorker-2193:\n",
      "Process Keras_worker_ForkPoolWorker-2195:\n",
      "Process Keras_worker_ForkPoolWorker-2196:\n",
      "Process Keras_worker_ForkPoolWorker-2199:\n",
      "Process Keras_worker_ForkPoolWorker-2198:\n",
      "Traceback (most recent call last):\n",
      "Traceback (most recent call last):\n",
      "Traceback (most recent call last):\n",
      "Traceback (most recent call last):\n",
      "Traceback (most recent call last):\n",
      "  File \"/usr/lib/python3.8/multiprocessing/process.py\", line 315, in _bootstrap\n",
      "    self.run()\n",
      "Traceback (most recent call last):\n",
      "Traceback (most recent call last):\n",
      "Traceback (most recent call last):\n",
      "  File \"/usr/lib/python3.8/multiprocessing/process.py\", line 315, in _bootstrap\n",
      "    self.run()\n",
      "  File \"/usr/lib/python3.8/multiprocessing/process.py\", line 315, in _bootstrap\n",
      "    self.run()\n",
      "  File \"/usr/lib/python3.8/multiprocessing/process.py\", line 315, in _bootstrap\n",
      "    self.run()\n",
      "Traceback (most recent call last):\n",
      "Traceback (most recent call last):\n",
      "  File \"/usr/lib/python3.8/multiprocessing/process.py\", line 315, in _bootstrap\n",
      "    self.run()\n",
      "  File \"/usr/lib/python3.8/multiprocessing/process.py\", line 108, in run\n",
      "    self._target(*self._args, **self._kwargs)\n",
      "  File \"/usr/lib/python3.8/multiprocessing/process.py\", line 315, in _bootstrap\n",
      "    self.run()\n",
      "  File \"/usr/lib/python3.8/multiprocessing/process.py\", line 315, in _bootstrap\n",
      "    self.run()\n",
      "  File \"/usr/lib/python3.8/multiprocessing/process.py\", line 108, in run\n",
      "    self._target(*self._args, **self._kwargs)\n",
      "  File \"/usr/lib/python3.8/multiprocessing/process.py\", line 315, in _bootstrap\n",
      "    self.run()\n",
      "  File \"/usr/lib/python3.8/multiprocessing/process.py\", line 108, in run\n",
      "    self._target(*self._args, **self._kwargs)\n",
      "  File \"/usr/lib/python3.8/multiprocessing/process.py\", line 108, in run\n",
      "    self._target(*self._args, **self._kwargs)\n",
      "  File \"/usr/lib/python3.8/multiprocessing/process.py\", line 315, in _bootstrap\n",
      "    self.run()\n",
      "  File \"/usr/lib/python3.8/multiprocessing/process.py\", line 108, in run\n",
      "    self._target(*self._args, **self._kwargs)\n",
      "  File \"/usr/lib/python3.8/multiprocessing/process.py\", line 315, in _bootstrap\n",
      "    self.run()\n",
      "  File \"/usr/lib/python3.8/multiprocessing/pool.py\", line 114, in worker\n",
      "    task = get()\n",
      "  File \"/usr/lib/python3.8/multiprocessing/process.py\", line 108, in run\n",
      "    self._target(*self._args, **self._kwargs)\n",
      "  File \"/usr/lib/python3.8/multiprocessing/process.py\", line 108, in run\n",
      "    self._target(*self._args, **self._kwargs)\n",
      "  File \"/usr/lib/python3.8/multiprocessing/process.py\", line 108, in run\n",
      "    self._target(*self._args, **self._kwargs)\n",
      "  File \"/usr/lib/python3.8/multiprocessing/pool.py\", line 114, in worker\n",
      "    task = get()\n",
      "  File \"/usr/lib/python3.8/multiprocessing/pool.py\", line 114, in worker\n",
      "    task = get()\n",
      "  File \"/usr/lib/python3.8/multiprocessing/pool.py\", line 114, in worker\n",
      "    task = get()\n",
      "  File \"/usr/lib/python3.8/multiprocessing/process.py\", line 108, in run\n",
      "    self._target(*self._args, **self._kwargs)\n",
      "  File \"/usr/lib/python3.8/multiprocessing/process.py\", line 108, in run\n",
      "    self._target(*self._args, **self._kwargs)\n",
      "  File \"/usr/lib/python3.8/multiprocessing/pool.py\", line 114, in worker\n",
      "    task = get()\n",
      "  File \"/usr/lib/python3.8/multiprocessing/queues.py\", line 355, in get\n",
      "    with self._rlock:\n",
      "  File \"/usr/lib/python3.8/multiprocessing/pool.py\", line 114, in worker\n",
      "    task = get()\n",
      "  File \"/usr/lib/python3.8/multiprocessing/pool.py\", line 114, in worker\n",
      "    task = get()\n",
      "  File \"/usr/lib/python3.8/multiprocessing/pool.py\", line 114, in worker\n",
      "    task = get()\n",
      "  File \"/usr/lib/python3.8/multiprocessing/queues.py\", line 355, in get\n",
      "    with self._rlock:\n",
      "  File \"/usr/lib/python3.8/multiprocessing/queues.py\", line 356, in get\n",
      "    res = self._reader.recv_bytes()\n",
      "  File \"/usr/lib/python3.8/multiprocessing/queues.py\", line 355, in get\n",
      "    with self._rlock:\n",
      "  File \"/usr/lib/python3.8/multiprocessing/queues.py\", line 355, in get\n",
      "    with self._rlock:\n",
      "  File \"/usr/lib/python3.8/multiprocessing/pool.py\", line 114, in worker\n",
      "    task = get()\n",
      "  File \"/usr/lib/python3.8/multiprocessing/pool.py\", line 114, in worker\n",
      "    task = get()\n",
      "  File \"/usr/lib/python3.8/multiprocessing/synchronize.py\", line 95, in __enter__\n",
      "    return self._semlock.__enter__()\n",
      "  File \"/usr/lib/python3.8/multiprocessing/queues.py\", line 355, in get\n",
      "    with self._rlock:\n",
      "  File \"/usr/lib/python3.8/multiprocessing/queues.py\", line 355, in get\n",
      "    with self._rlock:\n",
      "  File \"/usr/lib/python3.8/multiprocessing/queues.py\", line 355, in get\n",
      "    with self._rlock:\n",
      "  File \"/usr/lib/python3.8/multiprocessing/synchronize.py\", line 95, in __enter__\n",
      "    return self._semlock.__enter__()\n",
      "  File \"/usr/lib/python3.8/multiprocessing/connection.py\", line 216, in recv_bytes\n",
      "    buf = self._recv_bytes(maxlength)\n",
      "  File \"/usr/lib/python3.8/multiprocessing/synchronize.py\", line 95, in __enter__\n",
      "    return self._semlock.__enter__()\n",
      "  File \"/usr/lib/python3.8/multiprocessing/synchronize.py\", line 95, in __enter__\n",
      "    return self._semlock.__enter__()\n",
      "  File \"/usr/lib/python3.8/multiprocessing/queues.py\", line 355, in get\n",
      "    with self._rlock:\n",
      "  File \"/usr/lib/python3.8/multiprocessing/synchronize.py\", line 95, in __enter__\n",
      "    return self._semlock.__enter__()\n",
      "  File \"/usr/lib/python3.8/multiprocessing/queues.py\", line 355, in get\n",
      "    with self._rlock:\n",
      "KeyboardInterrupt\n",
      "  File \"/usr/lib/python3.8/multiprocessing/synchronize.py\", line 95, in __enter__\n",
      "    return self._semlock.__enter__()\n",
      "KeyboardInterrupt\n",
      "  File \"/usr/lib/python3.8/multiprocessing/synchronize.py\", line 95, in __enter__\n",
      "    return self._semlock.__enter__()\n",
      "KeyboardInterrupt\n",
      "  File \"/usr/lib/python3.8/multiprocessing/connection.py\", line 414, in _recv_bytes\n",
      "    buf = self._recv(4)\n",
      "KeyboardInterrupt\n",
      "KeyboardInterrupt\n",
      "  File \"/usr/lib/python3.8/multiprocessing/synchronize.py\", line 95, in __enter__\n",
      "    return self._semlock.__enter__()\n",
      "  File \"/usr/lib/python3.8/multiprocessing/synchronize.py\", line 95, in __enter__\n",
      "    return self._semlock.__enter__()\n"
     ]
    },
    {
     "name": "stdout",
     "output_type": "stream",
     "text": [
      "WARNING:tensorflow:Value in checkpoint could not be found in the restored object: (root).model.optimizer.learning_rate\n"
     ]
    },
    {
     "name": "stderr",
     "output_type": "stream",
     "text": [
      "KeyboardInterrupt\n"
     ]
    },
    {
     "name": "stdout",
     "output_type": "stream",
     "text": [
      "WARNING:tensorflow:Value in checkpoint could not be found in the restored object: (root).model.optimizer.iter\n"
     ]
    },
    {
     "name": "stderr",
     "output_type": "stream",
     "text": [
      "KeyboardInterrupt\n",
      "  File \"/usr/lib/python3.8/multiprocessing/connection.py\", line 379, in _recv\n",
      "    chunk = read(handle, remaining)\n"
     ]
    },
    {
     "name": "stdout",
     "output_type": "stream",
     "text": [
      "WARNING:tensorflow:Value in checkpoint could not be found in the restored object: (root).model.optimizer's state 'm' for (root).model.layer_with_weights-0.layer_with_weights-4.bias\n",
      "WARNING:tensorflow:Value in checkpoint could not be found in the restored object: (root).model.optimizer's state 'm' for (root).model.layer_with_weights-0.layer_with_weights-1.bias\n"
     ]
    },
    {
     "name": "stderr",
     "output_type": "stream",
     "text": [
      "KeyboardInterrupt\n",
      "KeyboardInterrupt\n"
     ]
    },
    {
     "name": "stdout",
     "output_type": "stream",
     "text": [
      "WARNING:tensorflow:Value in checkpoint could not be found in the restored object: (root).model.optimizer's state 'm' for (root).model.layer_with_weights-1.bias\n",
      "WARNING:tensorflow:Value in checkpoint could not be found in the restored object: (root).model.optimizer's state 'm' for (root).model.layer_with_weights-0.layer_with_weights-0.bias\n"
     ]
    },
    {
     "name": "stderr",
     "output_type": "stream",
     "text": [
      "KeyboardInterrupt\n"
     ]
    }
   ],
   "source": [
    "history = model.fit(\n",
    "    x=train_gen,\n",
    "    batch_size=BATCH_SIZE,\n",
    "    epochs=250,\n",
    "    verbose=\"auto\",\n",
    "    callbacks=callbacks,\n",
    "    validation_data=val_gen,\n",
    "    shuffle=True,\n",
    "    steps_per_epoch=len(train_data) // BATCH_SIZE,\n",
    "    validation_steps=len(val_data) // BATCH_SIZE,\n",
    "    validation_batch_size=BATCH_SIZE,\n",
    "    validation_freq=1,\n",
    "    max_queue_size=10,\n",
    "    workers=10,\n",
    "    use_multiprocessing=True,\n",
    ")"
   ]
  },
  {
   "cell_type": "code",
   "execution_count": 33,
   "id": "b76c738b-d0bd-4767-a109-09ca5eaf4140",
   "metadata": {},
   "outputs": [],
   "source": [
    "def plot_history(history):\n",
    "    tran_keys = [k for k, v in history.items() if \"val\" not in k and k != \"lr\"]\n",
    "    n_plots = len(tran_keys)\n",
    "    n_rows = int(np.ceil(n_plots / 2))\n",
    "    plt.figure(figsize=(20, 5 * n_rows))\n",
    "    plt.suptitle(\"Training history\")\n",
    "    for n in range(n_plots):\n",
    "        label = tran_keys[n]\n",
    "        plt.subplot(n_rows, 2, n + 1)\n",
    "        plt.title(label)\n",
    "        plt.plot(history[label], label=f\"train_{label}\")\n",
    "        plt.plot(history[f\"val_{label}\"], label=f\"val_{label}\")\n",
    "        plt.legend()\n",
    "    plt.show();"
   ]
  },
  {
   "cell_type": "code",
   "execution_count": 34,
   "id": "21f25d69-9c88-4317-a221-63cb5f3fed82",
   "metadata": {},
   "outputs": [
    {
     "ename": "NameError",
     "evalue": "name 'history' is not defined",
     "output_type": "error",
     "traceback": [
      "\u001b[0;31m---------------------------------------------------------------------------\u001b[0m",
      "\u001b[0;31mNameError\u001b[0m                                 Traceback (most recent call last)",
      "Cell \u001b[0;32mIn [34], line 1\u001b[0m\n\u001b[0;32m----> 1\u001b[0m plot_history(\u001b[43mhistory\u001b[49m\u001b[38;5;241m.\u001b[39mhistory)\n",
      "\u001b[0;31mNameError\u001b[0m: name 'history' is not defined"
     ]
    }
   ],
   "source": [
    "plot_history(history.history)"
   ]
  },
  {
   "cell_type": "markdown",
   "id": "faf0b249-af65-4c62-bc53-df6eac3dbcba",
   "metadata": {},
   "source": [
    "## save"
   ]
  },
  {
   "cell_type": "code",
   "execution_count": 34,
   "id": "210062bb-37c9-42e9-b18d-5bc0fb9c6e71",
   "metadata": {},
   "outputs": [],
   "source": [
    "mod_folder = \"/app/_data/artist_data/models/test_arch/constr_1/\""
   ]
  },
  {
   "cell_type": "code",
   "execution_count": 28,
   "id": "2edd2601-c417-45a5-9df9-be016f2f67c1",
   "metadata": {},
   "outputs": [],
   "source": [
    "min_val_loss_ix = np.argmin(history.history[\"val_loss\"])\n",
    "max_acc = history.history[\"val_accuracy\"][min_val_loss_ix]\n",
    "max_acc = int(np.round(max_acc * 1000))"
   ]
  },
  {
   "cell_type": "code",
   "execution_count": 29,
   "id": "0e7d079c-5635-407e-9b1a-5e3812d6140a",
   "metadata": {},
   "outputs": [
    {
     "data": {
      "text/plain": [
       "854"
      ]
     },
     "execution_count": 29,
     "metadata": {},
     "output_type": "execute_result"
    }
   ],
   "source": [
    "max_acc"
   ]
  },
  {
   "cell_type": "code",
   "execution_count": 30,
   "id": "7f730896-85bd-4415-9afe-3fdad3f6497a",
   "metadata": {},
   "outputs": [],
   "source": [
    "train_history = history.history\n",
    "for k in train_history.keys():\n",
    "    train_history[k] = list(map(float, train_history[k]))"
   ]
  },
  {
   "cell_type": "code",
   "execution_count": 31,
   "id": "a03de1c3-ab12-45e1-99d7-a0cfb2340846",
   "metadata": {},
   "outputs": [],
   "source": [
    "model.save(\n",
    "    os.path.join(mod_folder, f\"model_{max_acc}.h5\"),\n",
    ")"
   ]
  },
  {
   "cell_type": "code",
   "execution_count": 35,
   "id": "1a12c02a-1faa-47fb-aba6-13667de326ea",
   "metadata": {},
   "outputs": [],
   "source": [
    "config = {\n",
    "    \"loss\": \"constr\",\n",
    "    \"pos_label\": 0,\n",
    "    \"model\": {\n",
    "        \"eff\": False,\n",
    "        \"input_shape\": (512, 81, 1),\n",
    "        \"n_blocks\": 4,\n",
    "        \"embedding_len\": 1024,\n",
    "        \"kernel_size\": (10, 3),\n",
    "        \"activation_fn\": \"relu\",\n",
    "        \"batch_norm\": True,\n",
    "    },\n",
    "    \"history\": train_history,\n",
    "    \"norm\": NORM,\n",
    "    \"fold\": FOLD,\n",
    "}"
   ]
  },
  {
   "cell_type": "code",
   "execution_count": 36,
   "id": "75c697b3-88d5-4f74-bfac-982c54c7ad6d",
   "metadata": {},
   "outputs": [],
   "source": [
    "with open(os.path.join(mod_folder, \"config.json\"), \"w\") as f:\n",
    "    json.dump(config, f)"
   ]
  },
  {
   "cell_type": "code",
   "execution_count": null,
   "id": "b88cf108-6d53-414a-b86a-ea7a45131715",
   "metadata": {},
   "outputs": [],
   "source": []
  },
  {
   "cell_type": "code",
   "execution_count": null,
   "id": "a8f87b3d-75a6-4fe8-a350-80c6e0257eb5",
   "metadata": {},
   "outputs": [],
   "source": []
  },
  {
   "cell_type": "code",
   "execution_count": null,
   "id": "534fd6bc-462c-4fb1-bdb4-6b517d54d806",
   "metadata": {},
   "outputs": [],
   "source": []
  }
 ],
 "metadata": {
  "kernelspec": {
   "display_name": "Python 3 (ipykernel)",
   "language": "python",
   "name": "python3"
  },
  "language_info": {
   "codemirror_mode": {
    "name": "ipython",
    "version": 3
   },
   "file_extension": ".py",
   "mimetype": "text/x-python",
   "name": "python",
   "nbconvert_exporter": "python",
   "pygments_lexer": "ipython3",
   "version": "3.8.10"
  }
 },
 "nbformat": 4,
 "nbformat_minor": 5
}
