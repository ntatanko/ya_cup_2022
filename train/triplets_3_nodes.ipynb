{
 "cells": [
  {
   "cell_type": "code",
   "execution_count": 1,
   "id": "064b6827-4c18-407b-87ca-6d8787b944d7",
   "metadata": {},
   "outputs": [],
   "source": [
    "import glob\n",
    "import json\n",
    "import os\n",
    "import random as rnd\n",
    "import shutil\n",
    "\n",
    "import keras.backend as K\n",
    "import matplotlib.pyplot as plt\n",
    "import numpy as np\n",
    "import pandas as pd\n",
    "import seaborn as sns\n",
    "import tensorflow as tf\n",
    "import tensorflow_addons as tfa\n",
    "from IPython.core.interactiveshell import InteractiveShell\n",
    "from sklearn.model_selection import StratifiedGroupKFold\n",
    "from tensorflow import keras\n",
    "from tqdm import tqdm\n",
    "\n",
    "from src.utils import (\n",
    "    DataGenerator,\n",
    "    TripletsGenerator,\n",
    "    euclidean_distance,\n",
    "    loss,\n",
    "    make_callbacks,\n",
    "    make_model,\n",
    "    plot_history,\n",
    "    plot_triplets,\n",
    ")\n",
    "\n",
    "InteractiveShell.ast_node_interactivity = \"all\""
   ]
  },
  {
   "cell_type": "code",
   "execution_count": 2,
   "id": "391e220b-62cf-4013-9f2f-7823729b98ae",
   "metadata": {},
   "outputs": [],
   "source": [
    "class CFG:\n",
    "    def __init__(\n",
    "        self,\n",
    "    ):\n",
    "        self.seed = 39\n",
    "        self.batch_size = 64\n",
    "        self.img_size = (512, 60)\n",
    "        self.crop = self.img_size < (512, 81)\n",
    "        self.n_chanels = 1\n",
    "        self.n_folds = 6\n",
    "        self.fold = 2\n",
    "        self.norm = False\n",
    "        self.emb_len = 1024\n",
    "        self.kernel_size = (5, 2)\n",
    "        self.act_fn = \"relu\"\n",
    "        self.n_epochs = 60\n",
    "        self.input_shape = (*self.img_size, self.n_chanels)"
   ]
  },
  {
   "cell_type": "code",
   "execution_count": 3,
   "id": "bccd9db6-310c-442a-b229-a1b40f8c730f",
   "metadata": {},
   "outputs": [],
   "source": [
    "cfg = CFG()"
   ]
  },
  {
   "cell_type": "code",
   "execution_count": 4,
   "id": "08ccf3c3-0926-4895-b6cc-b5a3cfa84105",
   "metadata": {},
   "outputs": [
    {
     "data": {
      "text/plain": [
       "(512, 60, 1)"
      ]
     },
     "execution_count": 4,
     "metadata": {},
     "output_type": "execute_result"
    }
   ],
   "source": [
    "cfg.input_shape"
   ]
  },
  {
   "cell_type": "code",
   "execution_count": 5,
   "id": "746ff0f6-1733-403b-a984-c64e208abca6",
   "metadata": {},
   "outputs": [],
   "source": [
    "root_dir = \"/app/_data/artist_data/\"\n",
    "mod_dir = \"/app/_data/artist_data/models/test_arch/tripl_5/\""
   ]
  },
  {
   "cell_type": "code",
   "execution_count": 6,
   "id": "32efea26-699b-4ab1-b487-952a61f7b328",
   "metadata": {},
   "outputs": [],
   "source": [
    "train = pd.read_csv(os.path.join(root_dir, \"train.csv\"))\n",
    "train = train[train[\"artistid_count\"] != 1].reset_index(drop=True)"
   ]
  },
  {
   "cell_type": "markdown",
   "id": "33a2fbab-e9b5-4f1d-b77c-1786c4fe2c3e",
   "metadata": {
    "tags": []
   },
   "source": [
    "## train_val_split"
   ]
  },
  {
   "cell_type": "code",
   "execution_count": 7,
   "id": "67933038-5db0-4898-b4eb-7aca587c51a7",
   "metadata": {},
   "outputs": [],
   "source": [
    "gkf = StratifiedGroupKFold(n_splits=cfg.n_folds, shuffle=True, random_state=cfg.seed)\n",
    "for n, (train_ids, val_ids) in enumerate(\n",
    "    gkf.split(\n",
    "        X=train[[\"artistid\", \"artistid_count\"]],\n",
    "        y=train[\"artistid_count\"],\n",
    "        groups=train[\"artistid\"],\n",
    "    )\n",
    "):\n",
    "    train.loc[val_ids, \"fold\"] = n"
   ]
  },
  {
   "cell_type": "code",
   "execution_count": 8,
   "id": "9f597225-a25e-43dd-871e-b4a93d367256",
   "metadata": {},
   "outputs": [],
   "source": [
    "train_df = train[train[\"fold\"] != cfg.fold].reset_index(drop=True)\n",
    "val_df = train[train[\"fold\"] == cfg.fold].reset_index(drop=True)"
   ]
  },
  {
   "cell_type": "markdown",
   "id": "b2c91502-ca2b-40d8-94f5-28529f8d2cc9",
   "metadata": {},
   "source": [
    "## DataGenerator"
   ]
  },
  {
   "cell_type": "code",
   "execution_count": 9,
   "id": "f12f9ed8-d3ad-4c19-a7ef-039c6fdeccc7",
   "metadata": {},
   "outputs": [],
   "source": [
    "class TripletsGenerator(keras.utils.Sequence):\n",
    "    def __init__(\n",
    "        self,\n",
    "        data,\n",
    "        img_size,\n",
    "        batch_size=32,\n",
    "        norm=False,\n",
    "        n_chanels=1,\n",
    "        shuffle=True,\n",
    "        debug=True,\n",
    "        transpose=True,\n",
    "    ):\n",
    "        self.data = data.reset_index(drop=True)\n",
    "        self.img_size = img_size\n",
    "        self.batch_size = batch_size\n",
    "        self.norm = norm\n",
    "        self.n_chanels = n_chanels\n",
    "        self.shuffle = shuffle\n",
    "        self.artist_ids = self.data[\"artistid\"].unique().tolist()\n",
    "        self.default_img_size = (512, 81)\n",
    "        self.artis2path = self.data.groupby(\"artistid\").agg(list)[\"path\"].to_dict()\n",
    "        self.path2artist = self.data.set_index(\"path\")[\"artistid\"].to_dict()\n",
    "        self.paths = self.data[\"path\"].tolist()\n",
    "        self.debug = debug\n",
    "        self.transpose = transpose\n",
    "        if self.shuffle:\n",
    "            np.random.shuffle(self.paths)\n",
    "\n",
    "    def __len__(self):\n",
    "        return self.data.shape[0] // self.batch_size\n",
    "\n",
    "    def on_epoch_end(self):\n",
    "        if self.shuffle:\n",
    "            np.random.shuffle(self.artist_ids)\n",
    "\n",
    "    def load_img(self, path):\n",
    "        img = np.load(path).astype(\"float32\")\n",
    "        if self.norm:\n",
    "            img -= img.min()\n",
    "            img /= img.max()\n",
    "        if self.img_size < self.default_img_size:\n",
    "            wpad = (img.shape[1] - self.img_size[1]) // 2\n",
    "            img = img[:, wpad : wpad + self.img_size[1]]\n",
    "        if img.shape != self.img_size:\n",
    "            wpad = self.img_size[1] - img.shape[1]\n",
    "            wpad_l = wpad // 2\n",
    "            wpad_r = wpad - wpad_l\n",
    "            img = np.pad(\n",
    "                img,\n",
    "                pad_width=((0, 0), (wpad_l, wpad_r)),\n",
    "                mode=\"constant\",\n",
    "                constant_values=0,\n",
    "            )\n",
    "        if self.transpose:\n",
    "            img = img.transpose(1, 0)\n",
    "        img = np.expand_dims(img, -1)\n",
    "        if self.n_chanels == 3:\n",
    "            img = np.concatenate([img, img, img], -1)\n",
    "        return img\n",
    "\n",
    "    def make_labels(self, array):\n",
    "        array = np.expand_dims(array, -1)\n",
    "        dists = (\n",
    "            np.sum(np.square(array), axis=1)\n",
    "            + np.sum(np.square(array.T), axis=0)\n",
    "            - 2.0 * np.matmul(array, array.T)\n",
    "        )\n",
    "        labels = np.where(dists == 0, 0, 1)\n",
    "        return labels\n",
    "\n",
    "    def __getitem__(self, batch_ix):\n",
    "        artist_ids = rnd.sample(self.artist_ids, self.batch_size // 4)\n",
    "        paths = (\n",
    "            self.data.query(\"artistid in @artist_ids\").sample(frac=1)[\"path\"].tolist()\n",
    "        )\n",
    "        if len(paths) >= self.batch_size:\n",
    "            batch_paths = rnd.sample(paths, self.batch_size)\n",
    "        else:\n",
    "            paths.extend(rnd.sample(self.paths, self.batch_size - len(paths)))\n",
    "            batch_paths = paths\n",
    "        imgs, labels = [], []\n",
    "        for i in range(self.batch_size):\n",
    "            path = batch_paths[i]\n",
    "            imgs.append(self.load_img(path))\n",
    "            labels.append(self.path2artist[path])\n",
    "        imgs = np.array(imgs)\n",
    "        labels = self.make_labels(np.array(labels))\n",
    "        return imgs, labels"
   ]
  },
  {
   "cell_type": "code",
   "execution_count": 10,
   "id": "2acbc5fb-d800-43af-b3d2-af559d6229f1",
   "metadata": {},
   "outputs": [],
   "source": [
    "train_gen = TripletsGenerator(\n",
    "    data=train_df,\n",
    "    img_size=cfg.img_size,\n",
    "    batch_size=cfg.batch_size,\n",
    "    norm=cfg.norm,\n",
    "    n_chanels=cfg.n_chanels,\n",
    "    shuffle=True,\n",
    "    debug=False,\n",
    "    transpose=False,\n",
    ")\n",
    "val_gen = TripletsGenerator(\n",
    "    data=val_df,\n",
    "    img_size=cfg.img_size,\n",
    "    batch_size=cfg.batch_size,\n",
    "    norm=cfg.norm,\n",
    "    n_chanels=cfg.n_chanels,\n",
    "    shuffle=True,\n",
    "    debug=False,\n",
    "    transpose=False,\n",
    ")"
   ]
  },
  {
   "cell_type": "code",
   "execution_count": 11,
   "id": "44856883-ac55-4c02-9f23-20e60019325a",
   "metadata": {},
   "outputs": [
    {
     "data": {
      "image/png": "[encoded data removed]",
      "text/plain": [
       "<Figure size 640x480 with 1 Axes>"
      ]
     },
     "metadata": {
      "image/png": {
       "height": 415,
       "width": 417
      }
     },
     "output_type": "display_data"
    }
   ],
   "source": [
    "imgs, labels = train_gen.__getitem__(9)\n",
    "imgs.shape\n",
    "plt.imshow(labels)\n",
    "plt.show();"
   ]
  },
  {
   "cell_type": "markdown",
   "id": "065f057b-8d86-483d-92cd-e96799ee0d3a",
   "metadata": {},
   "source": [
    "## Model"
   ]
  },
  {
   "cell_type": "code",
   "execution_count": 12,
   "id": "f691dfc6-3f2a-48a9-a0cc-125a0d9646b8",
   "metadata": {},
   "outputs": [],
   "source": [
    "def embNet(\n",
    "    input_shape,\n",
    "    kernel_size=3,\n",
    "    dropout_rate=0.1,\n",
    "    embedding_len=1024,\n",
    "    activation_fn=\"relu\",\n",
    "    padding=\"same\",\n",
    "    dense_activation=\"relu\",\n",
    "):\n",
    "    base_model = tf.keras.models.Sequential(\n",
    "        [\n",
    "            keras.layers.Conv2D(\n",
    "                filters=1,\n",
    "                kernel_size=kernel_size,\n",
    "                activation=activation_fn,\n",
    "                input_shape=input_shape,\n",
    "                padding=padding,\n",
    "                name=\"conv_1\",\n",
    "            ),\n",
    "            keras.layers.Conv2D(\n",
    "                filters=1,\n",
    "                kernel_size=kernel_size,\n",
    "                activation=activation_fn,\n",
    "                padding=padding,\n",
    "                name=\"conv_2\",\n",
    "            ),\n",
    "            keras.layers.Dropout(rate=dropout_rate, name=\"dropout1\"),\n",
    "            keras.layers.MaxPooling2D(\n",
    "                pool_size=(2, 2), strides=1, padding=\"same\", name=\"max_1\"\n",
    "            ),\n",
    "            keras.layers.Conv2D(\n",
    "                filters=1,\n",
    "                kernel_size=kernel_size,\n",
    "                activation=activation_fn,\n",
    "                padding=padding,\n",
    "                name=\"conv_3\",\n",
    "            ),\n",
    "            keras.layers.Conv2D(\n",
    "                filters=1,\n",
    "                kernel_size=kernel_size,\n",
    "                activation=activation_fn,\n",
    "                padding=padding,\n",
    "                name=\"conv_4\",\n",
    "            ),\n",
    "            keras.layers.Dropout(rate=dropout_rate, name=\"dropout2\"),\n",
    "            keras.layers.MaxPooling2D(\n",
    "                pool_size=(2, 2), strides=1, padding=\"same\", name=\"max_2\"\n",
    "            ),\n",
    "            keras.layers.Conv2D(\n",
    "                filters=1,\n",
    "                kernel_size=kernel_size,\n",
    "                activation=activation_fn,\n",
    "                padding=padding,\n",
    "                name=\"conv_5\",\n",
    "            ),\n",
    "            keras.layers.Conv2D(\n",
    "                filters=1,\n",
    "                kernel_size=kernel_size,\n",
    "                activation=activation_fn,\n",
    "                padding=padding,\n",
    "                name=\"conv_6\",\n",
    "            ),\n",
    "            keras.layers.Dropout(rate=dropout_rate, name=\"dropout3\"),\n",
    "            keras.layers.MaxPooling2D(\n",
    "                pool_size=(2, 2), strides=1, padding=\"same\", name=\"max_3\"\n",
    "            ),\n",
    "            keras.layers.Flatten(name=\"flatten_base\"),\n",
    "            keras.layers.Dense(\n",
    "                embedding_len, activation=dense_activation, name=\"dense_base\"\n",
    "            ),\n",
    "        ]\n",
    "    )\n",
    "    # x = tf.squeeze(base_model.output, axis=-1)\n",
    "    # x = tf.reduce_mean(x, axis=-1)\n",
    "    # x = keras.layers.Reshape((1, -1))(base_model.output, name='base_reshape')\n",
    "    embedding_net = keras.Model(inputs=base_model.input, outputs=base_model.output, name=\"embedding\")\n",
    "    return embedding_net"
   ]
  },
  {
   "cell_type": "code",
   "execution_count": 13,
   "id": "82cb5cc7-a613-46eb-af7c-4fc8c3decf31",
   "metadata": {},
   "outputs": [],
   "source": [
    "embedding_net = embNet(\n",
    "    input_shape=cfg.input_shape,\n",
    "    kernel_size=5,\n",
    "    dropout_rate=0.1,\n",
    "    embedding_len=cfg.emb_len,\n",
    "    activation_fn=\"relu\",\n",
    "    padding=\"valid\",\n",
    "    dense_activation=\"relu\",\n",
    ")"
   ]
  },
  {
   "cell_type": "code",
   "execution_count": 14,
   "id": "877cc5ae-fa0f-456a-a8c6-082213d0581b",
   "metadata": {},
   "outputs": [
    {
     "name": "stdout",
     "output_type": "stream",
     "text": [
      "Model: \"embedding\"\n",
      "_________________________________________________________________\n",
      " Layer (type)                Output Shape              Param #   \n",
      "=================================================================\n",
      " conv_1_input (InputLayer)   [(None, 512, 60, 1)]      0         \n",
      "                                                                 \n",
      " conv_1 (Conv2D)             (None, 508, 56, 1)        26        \n",
      "                                                                 \n",
      " conv_2 (Conv2D)             (None, 504, 52, 1)        26        \n",
      "                                                                 \n",
      " dropout1 (Dropout)          (None, 504, 52, 1)        0         \n",
      "                                                                 \n",
      " max_1 (MaxPooling2D)        (None, 504, 52, 1)        0         \n",
      "                                                                 \n",
      " conv_3 (Conv2D)             (None, 500, 48, 1)        26        \n",
      "                                                                 \n",
      " conv_4 (Conv2D)             (None, 496, 44, 1)        26        \n",
      "                                                                 \n",
      " dropout2 (Dropout)          (None, 496, 44, 1)        0         \n",
      "                                                                 \n",
      " max_2 (MaxPooling2D)        (None, 496, 44, 1)        0         \n",
      "                                                                 \n",
      " conv_5 (Conv2D)             (None, 492, 40, 1)        26        \n",
      "                                                                 \n",
      " conv_6 (Conv2D)             (None, 488, 36, 1)        26        \n",
      "                                                                 \n",
      " dropout3 (Dropout)          (None, 488, 36, 1)        0         \n",
      "                                                                 \n",
      " max_3 (MaxPooling2D)        (None, 488, 36, 1)        0         \n",
      "                                                                 \n",
      " flatten_base (Flatten)      (None, 17568)             0         \n",
      "                                                                 \n",
      " dense_base (Dense)          (None, 1024)              17990656  \n",
      "                                                                 \n",
      "=================================================================\n",
      "Total params: 17,990,812\n",
      "Trainable params: 17,990,812\n",
      "Non-trainable params: 0\n",
      "_________________________________________________________________\n"
     ]
    }
   ],
   "source": [
    "embedding_net.summary()"
   ]
  },
  {
   "cell_type": "code",
   "execution_count": 15,
   "id": "eaf756c7-668b-482c-875c-c3b7bc80b903",
   "metadata": {},
   "outputs": [],
   "source": [
    "def low_res_models(\n",
    "    kernel_size=(9, 9),\n",
    "    activation_fn=\"relu\",\n",
    "    padding=\"valid\",\n",
    "    input_shape=cfg.input_shape,\n",
    "    n_filters=4,\n",
    "    pool_size=7,\n",
    "    embedding_len=1024,\n",
    "):\n",
    "    low_res_1 = tf.keras.models.Sequential(\n",
    "        [\n",
    "            tf.keras.layers.Resizing(\n",
    "                height=60,\n",
    "                width=60,\n",
    "                interpolation=\"bilinear\",\n",
    "                crop_to_aspect_ratio=False,\n",
    "                input_shape=input_shape,\n",
    "                name=\"lr1_resize\",\n",
    "            ),\n",
    "            keras.layers.BatchNormalization(name=\"lr1_bnorm\"),\n",
    "            keras.layers.Conv2D(\n",
    "                filters=n_filters,\n",
    "                kernel_size=kernel_size,\n",
    "                activation=activation_fn,\n",
    "                padding=padding,\n",
    "                name=\"lr1_conv\",\n",
    "            ),\n",
    "            keras.layers.MaxPooling2D(\n",
    "                pool_size=pool_size, strides=1, padding=padding, name=\"lr1_maxpool\"\n",
    "            ),\n",
    "            keras.layers.Flatten(name=\"lr1_flatten\"),\n",
    "            keras.layers.Dense(\n",
    "                embedding_len, activation=activation_fn, name=\"lr1_dense\"\n",
    "            ),\n",
    "            # keras.layers.Reshape((1, -1), name=\"lr1_reshape\"),\n",
    "        ],\n",
    "        name=\"low_res_1\",\n",
    "    )\n",
    "    low_res_2 = tf.keras.models.Sequential(\n",
    "        [\n",
    "            tf.keras.layers.Resizing(\n",
    "                height=30,\n",
    "                width=30,\n",
    "                interpolation=\"bilinear\",\n",
    "                crop_to_aspect_ratio=False,\n",
    "                input_shape=input_shape,\n",
    "                name=\"lr2_resize\",\n",
    "            ),\n",
    "            keras.layers.BatchNormalization(name=\"lr2_bnorm\"),\n",
    "            keras.layers.Conv2D(\n",
    "                filters=n_filters,\n",
    "                kernel_size=kernel_size,\n",
    "                activation=activation_fn,\n",
    "                padding=padding,\n",
    "                name=\"lr2_conv\",\n",
    "            ),\n",
    "            keras.layers.MaxPooling2D(\n",
    "                pool_size=pool_size, strides=1, padding=padding, name=\"lr2_maxpool\"\n",
    "            ),\n",
    "            keras.layers.Flatten(name=\"lr2_flatten\"),\n",
    "            keras.layers.Dense(\n",
    "                embedding_len, activation=activation_fn, name=\"lr2_dense\"\n",
    "            ),\n",
    "            # keras.layers.Reshape((1, -1), name=\"lr2_reshape\"),\n",
    "        ],\n",
    "        name=\"low_res_2\",\n",
    "    )\n",
    "    return low_res_1, low_res_2"
   ]
  },
  {
   "cell_type": "code",
   "execution_count": 16,
   "id": "43baa14b-eff2-4dda-a22b-baf9aa2b9642",
   "metadata": {},
   "outputs": [],
   "source": [
    "low_res_1, low_res_2 = low_res_models(\n",
    "    kernel_size=(9, 9),\n",
    "    activation_fn=\"relu\",\n",
    "    padding=\"valid\",\n",
    "    input_shape=cfg.input_shape,\n",
    "    n_filters=2,\n",
    "    pool_size=7,\n",
    "    embedding_len=1024,\n",
    ")"
   ]
  },
  {
   "cell_type": "code",
   "execution_count": 17,
   "id": "015582b0-f56f-41cc-b4b5-c2ff26176e39",
   "metadata": {},
   "outputs": [
    {
     "name": "stdout",
     "output_type": "stream",
     "text": [
      "Model: \"low_res_1\"\n",
      "_________________________________________________________________\n",
      " Layer (type)                Output Shape              Param #   \n",
      "=================================================================\n",
      " lr1_resize (Resizing)       (None, 60, 60, 1)         0         \n",
      "                                                                 \n",
      " lr1_bnorm (BatchNormalizati  (None, 60, 60, 1)        4         \n",
      " on)                                                             \n",
      "                                                                 \n",
      " lr1_conv (Conv2D)           (None, 52, 52, 2)         164       \n",
      "                                                                 \n",
      " lr1_maxpool (MaxPooling2D)  (None, 46, 46, 2)         0         \n",
      "                                                                 \n",
      " lr1_flatten (Flatten)       (None, 4232)              0         \n",
      "                                                                 \n",
      " lr1_dense (Dense)           (None, 1024)              4334592   \n",
      "                                                                 \n",
      "=================================================================\n",
      "Total params: 4,334,760\n",
      "Trainable params: 4,334,758\n",
      "Non-trainable params: 2\n",
      "_________________________________________________________________\n"
     ]
    }
   ],
   "source": [
    "low_res_1.summary()"
   ]
  },
  {
   "cell_type": "code",
   "execution_count": 18,
   "id": "5079a65e-1cc1-4e28-bb3d-522b229aff30",
   "metadata": {},
   "outputs": [
    {
     "name": "stdout",
     "output_type": "stream",
     "text": [
      "Model: \"low_res_2\"\n",
      "_________________________________________________________________\n",
      " Layer (type)                Output Shape              Param #   \n",
      "=================================================================\n",
      " lr2_resize (Resizing)       (None, 30, 30, 1)         0         \n",
      "                                                                 \n",
      " lr2_bnorm (BatchNormalizati  (None, 30, 30, 1)        4         \n",
      " on)                                                             \n",
      "                                                                 \n",
      " lr2_conv (Conv2D)           (None, 22, 22, 2)         164       \n",
      "                                                                 \n",
      " lr2_maxpool (MaxPooling2D)  (None, 16, 16, 2)         0         \n",
      "                                                                 \n",
      " lr2_flatten (Flatten)       (None, 512)               0         \n",
      "                                                                 \n",
      " lr2_dense (Dense)           (None, 1024)              525312    \n",
      "                                                                 \n",
      "=================================================================\n",
      "Total params: 525,480\n",
      "Trainable params: 525,478\n",
      "Non-trainable params: 2\n",
      "_________________________________________________________________\n"
     ]
    }
   ],
   "source": [
    "low_res_2.summary()"
   ]
  },
  {
   "cell_type": "code",
   "execution_count": 19,
   "id": "37e0dde7-41e6-450a-bcde-7925257e2078",
   "metadata": {},
   "outputs": [],
   "source": [
    "def pairwise_distance(feature, squared=False):\n",
    "    pairwise_distances_squared = tf.math.add(\n",
    "        tf.math.reduce_sum(tf.math.square(feature), axis=[1], keepdims=True),\n",
    "        tf.math.reduce_sum(\n",
    "            tf.math.square(tf.transpose(feature)), axis=[0], keepdims=True\n",
    "        ),\n",
    "    ) - 2.0 * tf.matmul(feature, tf.transpose(feature))\n",
    "\n",
    "    # Deal with numerical inaccuracies. Set small negatives to zero.\n",
    "    pairwise_distances_squared = tf.math.maximum(pairwise_distances_squared, 0.0)\n",
    "    # Get the mask where the zero distances are at.\n",
    "    error_mask = tf.math.less_equal(pairwise_distances_squared, 0.0)\n",
    "\n",
    "    # Optionally take the sqrt.\n",
    "    if squared:\n",
    "        pairwise_distances = pairwise_distances_squared\n",
    "    else:\n",
    "        pairwise_distances = tf.math.sqrt(\n",
    "            pairwise_distances_squared\n",
    "            + tf.cast(error_mask, dtype=tf.dtypes.float32) * 1e-16\n",
    "        )\n",
    "\n",
    "    # Undo conditionally adding 1e-16.\n",
    "    pairwise_distances = tf.math.multiply(\n",
    "        pairwise_distances,\n",
    "        tf.cast(tf.math.logical_not(error_mask), dtype=tf.dtypes.float32),\n",
    "    )\n",
    "\n",
    "    num_data = tf.shape(feature)[0]\n",
    "    # Explicitly set diagonals to zero.\n",
    "    mask_offdiagonals = tf.ones_like(pairwise_distances) - tf.linalg.diag(\n",
    "        tf.ones([num_data])\n",
    "    )\n",
    "    pairwise_distances = tf.math.multiply(pairwise_distances, mask_offdiagonals)\n",
    "    return pairwise_distances"
   ]
  },
  {
   "cell_type": "code",
   "execution_count": null,
   "id": "df280eb3-1b55-472e-9314-e3365f43153a",
   "metadata": {},
   "outputs": [],
   "source": []
  },
  {
   "cell_type": "code",
   "execution_count": 20,
   "id": "dfa3e878-8db1-478c-a72b-a641fb33f168",
   "metadata": {},
   "outputs": [],
   "source": [
    "def siamese_model(input_shape, embedding_net, low_res_1, low_res_2):\n",
    "    input_img = keras.layers.Input(shape=input_shape, name=\"img\")\n",
    "\n",
    "    embedding = embedding_net(input_img)\n",
    "    low1 = low_res_1(input_img)\n",
    "    low2 = low_res_2(input_img)\n",
    "\n",
    "    concat = tf.keras.layers.concatenate([embedding, low1, low2], axis=1)\n",
    "    output = keras.layers.Flatten(name=\"vector\")(concat)\n",
    "\n",
    "    siamese_net = tf.keras.models.Model(\n",
    "        inputs=input_img, outputs=output, name=\"siamese\"\n",
    "    )\n",
    "    return siamese_net"
   ]
  },
  {
   "cell_type": "code",
   "execution_count": 21,
   "id": "35b21a92-274d-4c7d-8800-24c39844bad9",
   "metadata": {},
   "outputs": [],
   "source": [
    "siamese_net = siamese_model(\n",
    "    input_shape=cfg.input_shape,\n",
    "    embedding_net=embedding_net,\n",
    "    low_res_1=low_res_1,\n",
    "    low_res_2=low_res_2,\n",
    ")"
   ]
  },
  {
   "cell_type": "code",
   "execution_count": 22,
   "id": "ea904a99-aeff-47fe-a42d-e8c9f5c3166e",
   "metadata": {},
   "outputs": [
    {
     "data": {
      "text/plain": [
       "(None, 3072)"
      ]
     },
     "execution_count": 22,
     "metadata": {},
     "output_type": "execute_result"
    }
   ],
   "source": [
    "siamese_net.output_shape"
   ]
  },
  {
   "cell_type": "code",
   "execution_count": 23,
   "id": "251b1f7b-b60b-468f-b422-44b8b4c55f41",
   "metadata": {},
   "outputs": [
    {
     "data": {
      "text/plain": [
       "TensorShape([64, 3072])"
      ]
     },
     "execution_count": 23,
     "metadata": {},
     "output_type": "execute_result"
    }
   ],
   "source": [
    "pr = siamese_net(imgs)\n",
    "pr.shape"
   ]
  },
  {
   "cell_type": "code",
   "execution_count": 24,
   "id": "7868e884-5011-4b02-9d7b-3c40ce28adf3",
   "metadata": {},
   "outputs": [],
   "source": [
    "d = pairwise_distance(pr)"
   ]
  },
  {
   "cell_type": "code",
   "execution_count": 25,
   "id": "bc9d80c8-bd24-4f15-b09b-4e24acc3d002",
   "metadata": {},
   "outputs": [
    {
     "data": {
      "text/plain": [
       "TensorShape([64, 64])"
      ]
     },
     "execution_count": 25,
     "metadata": {},
     "output_type": "execute_result"
    }
   ],
   "source": [
    "d.shape"
   ]
  },
  {
   "cell_type": "code",
   "execution_count": 26,
   "id": "b28088a5-d49d-4213-962d-cf396b63bce8",
   "metadata": {},
   "outputs": [],
   "source": [
    "d = keras.activations.sigmoid(d)"
   ]
  },
  {
   "cell_type": "code",
   "execution_count": 27,
   "id": "68ed731b-51c4-4afd-9b32-a60ba1a8b513",
   "metadata": {},
   "outputs": [
    {
     "data": {
      "text/plain": [
       "<matplotlib.image.AxesImage at 0x7f43b0623940>"
      ]
     },
     "execution_count": 27,
     "metadata": {},
     "output_type": "execute_result"
    },
    {
     "data": {
      "image/png": "[encoded data removed]",
      "text/plain": [
       "<Figure size 640x480 with 1 Axes>"
      ]
     },
     "metadata": {
      "image/png": {
       "height": 415,
       "width": 417
      }
     },
     "output_type": "display_data"
    }
   ],
   "source": [
    "plt.imshow(d.numpy())"
   ]
  },
  {
   "cell_type": "code",
   "execution_count": 31,
   "id": "b6845144-1c6e-4b7d-80d4-e792bbd328bc",
   "metadata": {},
   "outputs": [],
   "source": [
    "def dist_loss():\n",
    "    def loss(y_true, y_pred):\n",
    "        dist = pairwise_distance(y_pred)\n",
    "        dist = keras.activations.sigmoid(dist)\n",
    "        dist = keras.layers.Flatten()(dist)\n",
    "        y_true = keras.layers.Flatten()(y_true)\n",
    "        return  keras.losses.CategoricalCrossentropy(from_logits=False)(y_true, dist)\n",
    "\n",
    "    return loss"
   ]
  },
  {
   "cell_type": "code",
   "execution_count": 32,
   "id": "beaf8da3-5fbb-4fd9-88c3-81cda67c4b70",
   "metadata": {},
   "outputs": [
    {
     "data": {
      "text/plain": [
       "0.9999409"
      ]
     },
     "execution_count": 32,
     "metadata": {},
     "output_type": "execute_result"
    }
   ],
   "source": [
    "d.numpy().max()"
   ]
  },
  {
   "cell_type": "code",
   "execution_count": 33,
   "id": "ab50b452-01a1-4a12-85a9-763f9d2f117b",
   "metadata": {},
   "outputs": [
    {
     "data": {
      "text/plain": [
       "<tf.Tensor: shape=(), dtype=float32, numpy=243.83693>"
      ]
     },
     "execution_count": 33,
     "metadata": {},
     "output_type": "execute_result"
    }
   ],
   "source": [
    "dist_loss()(labels,d)"
   ]
  },
  {
   "cell_type": "code",
   "execution_count": 44,
   "id": "681f0262-3589-4014-8cd2-643593d77b77",
   "metadata": {},
   "outputs": [],
   "source": [
    "callbacks = make_callbacks(\n",
    "    path=mod_dir, monitor=\"val_loss\", mode=\"min\", reduce_patience=10, stop_patience=100\n",
    ")"
   ]
  },
  {
   "cell_type": "code",
   "execution_count": 45,
   "id": "1f222ebc-fdca-441c-b1bd-ac34deb7c429",
   "metadata": {},
   "outputs": [],
   "source": [
    "siamese_net.compile(optimizer=tf.keras.optimizers.Adam(0.001), loss=dist_loss())"
   ]
  },
  {
   "cell_type": "code",
   "execution_count": 46,
   "id": "bac5cc68-9177-4d13-a49a-b9bdd62f7e0b",
   "metadata": {},
   "outputs": [],
   "source": [
    "# keras.mixed_precision.set_global_policy(\"mixed_float16\")"
   ]
  },
  {
   "cell_type": "code",
   "execution_count": 47,
   "id": "7a0a857e-1c28-4a8e-8d41-a814e6065782",
   "metadata": {},
   "outputs": [],
   "source": [
    "# shutil.rmtree('/app/_data/artist_data/models/test_arch/tripl_5/backup')"
   ]
  },
  {
   "cell_type": "code",
   "execution_count": 48,
   "id": "216b0d9b-581a-41a6-8e94-55a3fa151bbc",
   "metadata": {
    "tags": []
   },
   "outputs": [
    {
     "name": "stdout",
     "output_type": "stream",
     "text": [
      "Epoch 1/60\n",
      "2176/2179 [============================>.] - ETA: 0s - loss: 245.7550\n",
      "Epoch 1: val_loss improved from inf to 245.66483, saving model to /app/_data/artist_data/models/test_arch/tripl_5/model.h5\n",
      "2179/2179 [==============================] - 50s 22ms/step - loss: 245.7543 - val_loss: 245.6648 - lr: 0.0010\n",
      "Epoch 2/60\n",
      "2178/2179 [============================>.] - ETA: 0s - loss: 245.6814\n",
      "Epoch 2: val_loss improved from 245.66483 to 245.63057, saving model to /app/_data/artist_data/models/test_arch/tripl_5/model.h5\n",
      "2179/2179 [==============================] - 49s 22ms/step - loss: 245.6817 - val_loss: 245.6306 - lr: 0.0010\n",
      "Epoch 3/60\n",
      "2178/2179 [============================>.] - ETA: 0s - loss: 245.7234\n",
      "Epoch 3: val_loss improved from 245.63057 to 245.63054, saving model to /app/_data/artist_data/models/test_arch/tripl_5/model.h5\n",
      "2179/2179 [==============================] - 51s 23ms/step - loss: 245.7239 - val_loss: 245.6305 - lr: 0.0010\n",
      "Epoch 4/60\n",
      "2179/2179 [==============================] - ETA: 0s - loss: 245.6800\n",
      "Epoch 4: val_loss did not improve from 245.63054\n",
      "2179/2179 [==============================] - 48s 22ms/step - loss: 245.6800 - val_loss: 245.6525 - lr: 0.0010\n",
      "Epoch 5/60\n",
      "2179/2179 [==============================] - ETA: 0s - loss: 245.6794\n",
      "Epoch 5: val_loss improved from 245.63054 to 245.55598, saving model to /app/_data/artist_data/models/test_arch/tripl_5/model.h5\n",
      "2179/2179 [==============================] - 51s 23ms/step - loss: 245.6794 - val_loss: 245.5560 - lr: 0.0010\n",
      "Epoch 6/60\n",
      "2178/2179 [============================>.] - ETA: 0s - loss: 245.6797\n",
      "Epoch 6: val_loss did not improve from 245.55598\n",
      "2179/2179 [==============================] - 49s 22ms/step - loss: 245.6794 - val_loss: 245.5888 - lr: 0.0010\n",
      "Epoch 7/60\n",
      "2178/2179 [============================>.] - ETA: 0s - loss: 245.6516\n",
      "Epoch 7: val_loss did not improve from 245.55598\n",
      "2179/2179 [==============================] - 48s 22ms/step - loss: 245.6518 - val_loss: 245.5944 - lr: 0.0010\n",
      "Epoch 8/60\n",
      "2177/2179 [============================>.] - ETA: 0s - loss: 245.6682\n",
      "Epoch 8: val_loss did not improve from 245.55598\n",
      "2179/2179 [==============================] - 51s 23ms/step - loss: 245.6686 - val_loss: 245.6239 - lr: 0.0010\n",
      "Epoch 9/60\n",
      "2177/2179 [============================>.] - ETA: 0s - loss: 245.6538\n",
      "Epoch 9: val_loss did not improve from 245.55598\n",
      "2179/2179 [==============================] - 50s 23ms/step - loss: 245.6543 - val_loss: 245.5676 - lr: 0.0010\n",
      "Epoch 10/60\n",
      "2177/2179 [============================>.] - ETA: 0s - loss: 245.6782\n",
      "Epoch 10: val_loss did not improve from 245.55598\n",
      "2179/2179 [==============================] - 51s 23ms/step - loss: 245.6783 - val_loss: 245.5588 - lr: 0.0010\n",
      "Epoch 11/60\n",
      "2179/2179 [==============================] - ETA: 0s - loss: 245.6532\n",
      "Epoch 11: val_loss did not improve from 245.55598\n",
      "2179/2179 [==============================] - 51s 23ms/step - loss: 245.6532 - val_loss: 245.7006 - lr: 0.0010\n",
      "Epoch 12/60\n",
      "2178/2179 [============================>.] - ETA: 0s - loss: 245.6561\n",
      "Epoch 12: val_loss improved from 245.55598 to 245.51355, saving model to /app/_data/artist_data/models/test_arch/tripl_5/model.h5\n",
      "2179/2179 [==============================] - 51s 23ms/step - loss: 245.6559 - val_loss: 245.5135 - lr: 0.0010\n",
      "Epoch 13/60\n",
      "2177/2179 [============================>.] - ETA: 0s - loss: 245.6653\n",
      "Epoch 13: val_loss did not improve from 245.51355\n",
      "2179/2179 [==============================] - 49s 22ms/step - loss: 245.6656 - val_loss: 245.5696 - lr: 0.0010\n",
      "Epoch 14/60\n",
      "2178/2179 [============================>.] - ETA: 0s - loss: 245.6971\n",
      "Epoch 14: val_loss did not improve from 245.51355\n",
      "2179/2179 [==============================] - 51s 23ms/step - loss: 245.6975 - val_loss: 245.5460 - lr: 0.0010\n",
      "Epoch 15/60\n",
      "2178/2179 [============================>.] - ETA: 0s - loss: 245.6487\n",
      "Epoch 15: val_loss did not improve from 245.51355\n",
      "2179/2179 [==============================] - 51s 23ms/step - loss: 245.6484 - val_loss: 245.6263 - lr: 0.0010\n",
      "Epoch 16/60\n",
      "2177/2179 [============================>.] - ETA: 0s - loss: 245.6589\n",
      "Epoch 16: val_loss did not improve from 245.51355\n",
      "2179/2179 [==============================] - 51s 23ms/step - loss: 245.6596 - val_loss: 245.6209 - lr: 0.0010\n",
      "Epoch 17/60\n",
      "2177/2179 [============================>.] - ETA: 0s - loss: 245.7036\n",
      "Epoch 17: val_loss did not improve from 245.51355\n",
      "2179/2179 [==============================] - 50s 22ms/step - loss: 245.7038 - val_loss: 245.7125 - lr: 0.0010\n",
      "Epoch 18/60\n",
      "2177/2179 [============================>.] - ETA: 0s - loss: 245.6458\n",
      "Epoch 18: val_loss did not improve from 245.51355\n",
      "2179/2179 [==============================] - 53s 24ms/step - loss: 245.6465 - val_loss: 245.5746 - lr: 0.0010\n",
      "Epoch 19/60\n",
      "2176/2179 [============================>.] - ETA: 0s - loss: 245.6929\n",
      "Epoch 19: val_loss did not improve from 245.51355\n",
      "2179/2179 [==============================] - 50s 23ms/step - loss: 245.6928 - val_loss: 245.6467 - lr: 0.0010\n",
      "Epoch 20/60\n",
      "2177/2179 [============================>.] - ETA: 0s - loss: 245.6557\n",
      "Epoch 20: val_loss did not improve from 245.51355\n",
      "2179/2179 [==============================] - 50s 22ms/step - loss: 245.6561 - val_loss: 245.6498 - lr: 0.0010\n",
      "Epoch 21/60\n",
      "2178/2179 [============================>.] - ETA: 0s - loss: 245.6741\n",
      "Epoch 21: val_loss did not improve from 245.51355\n",
      "2179/2179 [==============================] - 52s 23ms/step - loss: 245.6734 - val_loss: 245.7332 - lr: 0.0010\n",
      "Epoch 22/60\n",
      "2179/2179 [==============================] - ETA: 0s - loss: 245.6811\n",
      "Epoch 22: val_loss did not improve from 245.51355\n",
      "\n",
      "Epoch 22: ReduceLROnPlateau reducing learning rate to 0.0009000000427477062.\n",
      "2179/2179 [==============================] - 50s 22ms/step - loss: 245.6811 - val_loss: 245.5462 - lr: 0.0010\n",
      "Epoch 23/60\n",
      "2179/2179 [==============================] - ETA: 0s - loss: 245.6670\n",
      "Epoch 23: val_loss did not improve from 245.51355\n",
      "2179/2179 [==============================] - 50s 22ms/step - loss: 245.6670 - val_loss: 245.6000 - lr: 9.0000e-04\n",
      "Epoch 24/60\n",
      "2176/2179 [============================>.] - ETA: 0s - loss: 245.6509\n",
      "Epoch 24: val_loss did not improve from 245.51355\n",
      "2179/2179 [==============================] - 51s 23ms/step - loss: 245.6514 - val_loss: 245.6153 - lr: 9.0000e-04\n",
      "Epoch 25/60\n",
      "2179/2179 [==============================] - ETA: 0s - loss: 245.6529\n",
      "Epoch 25: val_loss did not improve from 245.51355\n",
      "2179/2179 [==============================] - 51s 23ms/step - loss: 245.6529 - val_loss: 245.6008 - lr: 9.0000e-04\n",
      "Epoch 26/60\n",
      "2176/2179 [============================>.] - ETA: 0s - loss: 245.6652\n",
      "Epoch 26: val_loss did not improve from 245.51355\n",
      "2179/2179 [==============================] - 50s 22ms/step - loss: 245.6661 - val_loss: 245.6902 - lr: 9.0000e-04\n",
      "Epoch 27/60\n",
      "2179/2179 [==============================] - ETA: 0s - loss: 245.6347\n",
      "Epoch 27: val_loss did not improve from 245.51355\n",
      "2179/2179 [==============================] - 51s 23ms/step - loss: 245.6347 - val_loss: 245.5670 - lr: 9.0000e-04\n",
      "Epoch 28/60\n",
      "2176/2179 [============================>.] - ETA: 0s - loss: 245.6303\n",
      "Epoch 28: val_loss did not improve from 245.51355\n",
      "2179/2179 [==============================] - 50s 22ms/step - loss: 245.6308 - val_loss: 245.5798 - lr: 9.0000e-04\n",
      "Epoch 29/60\n",
      "2178/2179 [============================>.] - ETA: 0s - loss: 245.6327\n",
      "Epoch 29: val_loss did not improve from 245.51355\n",
      "2179/2179 [==============================] - 51s 23ms/step - loss: 245.6326 - val_loss: 245.6743 - lr: 9.0000e-04\n",
      "Epoch 30/60\n",
      "2179/2179 [==============================] - ETA: 0s - loss: 245.6507\n",
      "Epoch 30: val_loss did not improve from 245.51355\n",
      "2179/2179 [==============================] - 50s 22ms/step - loss: 245.6507 - val_loss: 245.5682 - lr: 9.0000e-04\n",
      "Epoch 31/60\n",
      "2179/2179 [==============================] - ETA: 0s - loss: 245.6317\n",
      "Epoch 31: val_loss did not improve from 245.51355\n",
      "2179/2179 [==============================] - 50s 22ms/step - loss: 245.6317 - val_loss: 245.5631 - lr: 9.0000e-04\n",
      "Epoch 32/60\n",
      "2179/2179 [==============================] - ETA: 0s - loss: 245.6466\n",
      "Epoch 32: val_loss did not improve from 245.51355\n",
      "\n",
      "Epoch 32: ReduceLROnPlateau reducing learning rate to 0.0008100000384729356.\n",
      "2179/2179 [==============================] - 50s 22ms/step - loss: 245.6466 - val_loss: 245.6113 - lr: 9.0000e-04\n",
      "Epoch 33/60\n",
      "2179/2179 [==============================] - ETA: 0s - loss: 245.6817\n",
      "Epoch 33: val_loss did not improve from 245.51355\n",
      "2179/2179 [==============================] - 49s 22ms/step - loss: 245.6817 - val_loss: 245.5967 - lr: 8.1000e-04\n",
      "Epoch 34/60\n",
      "2179/2179 [==============================] - ETA: 0s - loss: 245.6528\n",
      "Epoch 34: val_loss did not improve from 245.51355\n",
      "2179/2179 [==============================] - 51s 23ms/step - loss: 245.6528 - val_loss: 245.5968 - lr: 8.1000e-04\n",
      "Epoch 35/60\n",
      "2176/2179 [============================>.] - ETA: 0s - loss: 245.6455\n",
      "Epoch 35: val_loss did not improve from 245.51355\n",
      "2179/2179 [==============================] - 50s 22ms/step - loss: 245.6442 - val_loss: 245.5388 - lr: 8.1000e-04\n",
      "Epoch 36/60\n",
      "2179/2179 [==============================] - ETA: 0s - loss: 245.6438\n",
      "Epoch 36: val_loss did not improve from 245.51355\n",
      "2179/2179 [==============================] - 50s 22ms/step - loss: 245.6438 - val_loss: 245.5325 - lr: 8.1000e-04\n",
      "Epoch 37/60\n",
      "2179/2179 [==============================] - ETA: 0s - loss: 245.6245\n",
      "Epoch 37: val_loss did not improve from 245.51355\n",
      "2179/2179 [==============================] - 50s 23ms/step - loss: 245.6245 - val_loss: 245.6355 - lr: 8.1000e-04\n",
      "Epoch 38/60\n",
      "2177/2179 [============================>.] - ETA: 0s - loss: 245.6998\n",
      "Epoch 38: val_loss improved from 245.51355 to 245.49586, saving model to /app/_data/artist_data/models/test_arch/tripl_5/model.h5\n",
      "2179/2179 [==============================] - 53s 24ms/step - loss: 245.7003 - val_loss: 245.4959 - lr: 8.1000e-04\n",
      "Epoch 39/60\n",
      "2179/2179 [==============================] - ETA: 0s - loss: 245.6351\n",
      "Epoch 39: val_loss did not improve from 245.49586\n",
      "2179/2179 [==============================] - 51s 23ms/step - loss: 245.6351 - val_loss: 245.5267 - lr: 8.1000e-04\n",
      "Epoch 40/60\n",
      "2178/2179 [============================>.] - ETA: 0s - loss: 245.6713\n",
      "Epoch 40: val_loss did not improve from 245.49586\n",
      "2179/2179 [==============================] - 49s 22ms/step - loss: 245.6702 - val_loss: 245.5375 - lr: 8.1000e-04\n",
      "Epoch 41/60\n",
      "2178/2179 [============================>.] - ETA: 0s - loss: 245.6769\n",
      "Epoch 41: val_loss did not improve from 245.49586\n",
      "2179/2179 [==============================] - 49s 22ms/step - loss: 245.6766 - val_loss: 245.5927 - lr: 8.1000e-04\n",
      "Epoch 42/60\n",
      "2176/2179 [============================>.] - ETA: 0s - loss: 245.6675\n",
      "Epoch 42: val_loss did not improve from 245.49586\n",
      "2179/2179 [==============================] - 50s 22ms/step - loss: 245.6674 - val_loss: 245.6675 - lr: 8.1000e-04\n",
      "Epoch 43/60\n",
      "  23/2179 [..............................] - ETA: 58s - loss: 245.5443 "
     ]
    },
    {
     "name": "stderr",
     "output_type": "stream",
     "text": [
      "Process Keras_worker_ForkPoolWorker-1292:\n",
      "Process Keras_worker_ForkPoolWorker-1299:\n",
      "Process Keras_worker_ForkPoolWorker-1291:\n",
      "Process Keras_worker_ForkPoolWorker-1297:\n",
      "Process Keras_worker_ForkPoolWorker-1296:\n",
      "Process Keras_worker_ForkPoolWorker-1294:\n",
      "Process Keras_worker_ForkPoolWorker-1300:\n",
      "Process Keras_worker_ForkPoolWorker-1295:\n",
      "Process Keras_worker_ForkPoolWorker-1293:\n",
      "Process Keras_worker_ForkPoolWorker-1298:\n",
      "Traceback (most recent call last):\n",
      "Traceback (most recent call last):\n",
      "Traceback (most recent call last):\n",
      "Traceback (most recent call last):\n",
      "Traceback (most recent call last):\n",
      "Traceback (most recent call last):\n",
      "  File \"/usr/lib/python3.8/multiprocessing/process.py\", line 315, in _bootstrap\n",
      "    self.run()\n",
      "Traceback (most recent call last):\n",
      "Traceback (most recent call last):\n",
      "Traceback (most recent call last):\n",
      "  File \"/usr/lib/python3.8/multiprocessing/process.py\", line 315, in _bootstrap\n",
      "    self.run()\n",
      "  File \"/usr/lib/python3.8/multiprocessing/process.py\", line 315, in _bootstrap\n",
      "    self.run()\n",
      "  File \"/usr/lib/python3.8/multiprocessing/process.py\", line 315, in _bootstrap\n",
      "    self.run()\n",
      "Traceback (most recent call last):\n",
      "  File \"/usr/lib/python3.8/multiprocessing/process.py\", line 315, in _bootstrap\n",
      "    self.run()\n",
      "  File \"/usr/lib/python3.8/multiprocessing/process.py\", line 315, in _bootstrap\n",
      "    self.run()\n",
      "  File \"/usr/lib/python3.8/multiprocessing/process.py\", line 108, in run\n",
      "    self._target(*self._args, **self._kwargs)\n",
      "  File \"/usr/lib/python3.8/multiprocessing/process.py\", line 315, in _bootstrap\n",
      "    self.run()\n",
      "  File \"/usr/lib/python3.8/multiprocessing/process.py\", line 315, in _bootstrap\n",
      "    self.run()\n",
      "  File \"/usr/lib/python3.8/multiprocessing/process.py\", line 108, in run\n",
      "    self._target(*self._args, **self._kwargs)\n",
      "  File \"/usr/lib/python3.8/multiprocessing/process.py\", line 315, in _bootstrap\n",
      "    self.run()\n",
      "  File \"/usr/lib/python3.8/multiprocessing/process.py\", line 108, in run\n",
      "    self._target(*self._args, **self._kwargs)\n",
      "  File \"/usr/lib/python3.8/multiprocessing/process.py\", line 108, in run\n",
      "    self._target(*self._args, **self._kwargs)\n",
      "  File \"/usr/lib/python3.8/multiprocessing/process.py\", line 108, in run\n",
      "    self._target(*self._args, **self._kwargs)\n",
      "  File \"/usr/lib/python3.8/multiprocessing/process.py\", line 315, in _bootstrap\n",
      "    self.run()\n",
      "  File \"/usr/lib/python3.8/multiprocessing/process.py\", line 108, in run\n",
      "    self._target(*self._args, **self._kwargs)\n",
      "  File \"/usr/lib/python3.8/multiprocessing/pool.py\", line 114, in worker\n",
      "    task = get()\n",
      "  File \"/usr/lib/python3.8/multiprocessing/process.py\", line 108, in run\n",
      "    self._target(*self._args, **self._kwargs)\n",
      "  File \"/usr/lib/python3.8/multiprocessing/process.py\", line 108, in run\n",
      "    self._target(*self._args, **self._kwargs)\n",
      "  File \"/usr/lib/python3.8/multiprocessing/pool.py\", line 131, in worker\n",
      "    put((job, i, result))\n",
      "  File \"/usr/lib/python3.8/multiprocessing/process.py\", line 108, in run\n",
      "    self._target(*self._args, **self._kwargs)\n",
      "  File \"/usr/lib/python3.8/multiprocessing/pool.py\", line 131, in worker\n",
      "    put((job, i, result))\n",
      "  File \"/usr/lib/python3.8/multiprocessing/pool.py\", line 114, in worker\n",
      "    task = get()\n",
      "  File \"/usr/lib/python3.8/multiprocessing/pool.py\", line 114, in worker\n",
      "    task = get()\n",
      "  File \"/usr/lib/python3.8/multiprocessing/process.py\", line 108, in run\n",
      "    self._target(*self._args, **self._kwargs)\n",
      "  File \"/usr/lib/python3.8/multiprocessing/pool.py\", line 114, in worker\n",
      "    task = get()\n",
      "  File \"/usr/lib/python3.8/multiprocessing/pool.py\", line 114, in worker\n",
      "    task = get()\n",
      "  File \"/usr/lib/python3.8/multiprocessing/queues.py\", line 355, in get\n",
      "    with self._rlock:\n",
      "  File \"/usr/lib/python3.8/multiprocessing/pool.py\", line 125, in worker\n",
      "    result = (True, func(*args, **kwds))\n",
      "  File \"/usr/lib/python3.8/multiprocessing/pool.py\", line 114, in worker\n",
      "    task = get()\n",
      "  File \"/usr/lib/python3.8/multiprocessing/queues.py\", line 368, in put\n",
      "    self._writer.send_bytes(obj)\n",
      "  File \"/usr/lib/python3.8/multiprocessing/queues.py\", line 367, in put\n",
      "    with self._wlock:\n",
      "  File \"/usr/lib/python3.8/multiprocessing/queues.py\", line 355, in get\n",
      "    with self._rlock:\n",
      "  File \"/usr/lib/python3.8/multiprocessing/queues.py\", line 355, in get\n",
      "    with self._rlock:\n",
      "  File \"/usr/lib/python3.8/multiprocessing/pool.py\", line 125, in worker\n",
      "    result = (True, func(*args, **kwds))\n",
      "  File \"/usr/lib/python3.8/multiprocessing/queues.py\", line 356, in get\n",
      "    res = self._reader.recv_bytes()\n",
      "  File \"/usr/lib/python3.8/multiprocessing/synchronize.py\", line 95, in __enter__\n",
      "    return self._semlock.__enter__()\n",
      "  File \"/usr/lib/python3.8/multiprocessing/queues.py\", line 355, in get\n",
      "    with self._rlock:\n",
      "  File \"/usr/local/lib/python3.8/dist-packages/keras/utils/data_utils.py\", line 580, in get_index\n",
      "    return _SHARED_SEQUENCES[uid][i]\n",
      "  File \"/usr/lib/python3.8/multiprocessing/queues.py\", line 355, in get\n",
      "    with self._rlock:\n",
      "  File \"/usr/lib/python3.8/multiprocessing/connection.py\", line 200, in send_bytes\n",
      "    self._send_bytes(m[offset:offset + size])\n",
      "  File \"/usr/lib/python3.8/multiprocessing/synchronize.py\", line 95, in __enter__\n",
      "    return self._semlock.__enter__()\n",
      "  File \"/usr/lib/python3.8/multiprocessing/synchronize.py\", line 95, in __enter__\n",
      "    return self._semlock.__enter__()\n",
      "  File \"/usr/lib/python3.8/multiprocessing/synchronize.py\", line 95, in __enter__\n",
      "    return self._semlock.__enter__()\n",
      "  File \"/usr/local/lib/python3.8/dist-packages/keras/utils/data_utils.py\", line 580, in get_index\n",
      "    return _SHARED_SEQUENCES[uid][i]\n",
      "  File \"/usr/lib/python3.8/multiprocessing/connection.py\", line 216, in recv_bytes\n",
      "    buf = self._recv_bytes(maxlength)\n",
      "KeyboardInterrupt\n",
      "  File \"/usr/lib/python3.8/multiprocessing/synchronize.py\", line 95, in __enter__\n",
      "    return self._semlock.__enter__()\n",
      "  File \"/tmp/ipykernel_8285/1640806808.py\", line 84, in __getitem__\n",
      "    imgs.append(self.load_img(path))\n",
      "  File \"/usr/lib/python3.8/multiprocessing/connection.py\", line 405, in _send_bytes\n",
      "    self._send(buf)\n",
      "  File \"/usr/lib/python3.8/multiprocessing/synchronize.py\", line 95, in __enter__\n",
      "    return self._semlock.__enter__()\n",
      "KeyboardInterrupt\n",
      "KeyboardInterrupt\n",
      "KeyboardInterrupt\n",
      "  File \"/tmp/ipykernel_8285/1640806808.py\", line 84, in __getitem__\n",
      "    imgs.append(self.load_img(path))\n",
      "  File \"/usr/lib/python3.8/multiprocessing/connection.py\", line 414, in _recv_bytes\n",
      "    buf = self._recv(4)\n",
      "KeyboardInterrupt\n",
      "  File \"/tmp/ipykernel_8285/1640806808.py\", line 37, in load_img\n",
      "    img = np.load(path).astype(\"float32\")\n",
      "  File \"/usr/lib/python3.8/multiprocessing/connection.py\", line 368, in _send\n",
      "    n = write(self._handle, buf)\n",
      "KeyboardInterrupt\n",
      "  File \"/tmp/ipykernel_8285/1640806808.py\", line 37, in load_img\n",
      "    img = np.load(path).astype(\"float32\")\n",
      "  File \"/usr/lib/python3.8/multiprocessing/connection.py\", line 379, in _recv\n",
      "    chunk = read(handle, remaining)\n",
      "KeyboardInterrupt\n",
      "KeyboardInterrupt\n",
      "  File \"/usr/local/lib/python3.8/dist-packages/numpy/lib/npyio.py\", line 413, in load\n",
      "    return format.read_array(fid, allow_pickle=allow_pickle,\n",
      "KeyboardInterrupt\n",
      "  File \"/usr/local/lib/python3.8/dist-packages/numpy/lib/format.py\", line 731, in read_array\n",
      "    shape, fortran_order, dtype = _read_array_header(fp, version)\n",
      "  File \"/usr/local/lib/python3.8/dist-packages/numpy/lib/format.py\", line 594, in _read_array_header\n",
      "    header = _filter_header(header)\n",
      "  File \"/usr/local/lib/python3.8/dist-packages/numpy/lib/format.py\", line 563, in _filter_header\n",
      "    tokens.append(token)\n",
      "KeyboardInterrupt\n"
     ]
    },
    {
     "ename": "KeyboardInterrupt",
     "evalue": "",
     "output_type": "error",
     "traceback": [
      "\u001b[0;31m---------------------------------------------------------------------------\u001b[0m",
      "\u001b[0;31mKeyboardInterrupt\u001b[0m                         Traceback (most recent call last)",
      "Cell \u001b[0;32mIn [48], line 1\u001b[0m\n\u001b[0;32m----> 1\u001b[0m history \u001b[38;5;241m=\u001b[39m \u001b[43msiamese_net\u001b[49m\u001b[38;5;241;43m.\u001b[39;49m\u001b[43mfit\u001b[49m\u001b[43m(\u001b[49m\n\u001b[1;32m      2\u001b[0m \u001b[43m    \u001b[49m\u001b[43mx\u001b[49m\u001b[38;5;241;43m=\u001b[39;49m\u001b[43mtrain_gen\u001b[49m\u001b[43m,\u001b[49m\n\u001b[1;32m      3\u001b[0m \u001b[43m    \u001b[49m\u001b[43msteps_per_epoch\u001b[49m\u001b[38;5;241;43m=\u001b[39;49m\u001b[43mtrain_gen\u001b[49m\u001b[38;5;241;43m.\u001b[39;49m\u001b[38;5;21;43m__len__\u001b[39;49m\u001b[43m(\u001b[49m\u001b[43m)\u001b[49m\u001b[43m,\u001b[49m\n\u001b[1;32m      4\u001b[0m \u001b[43m    \u001b[49m\u001b[43mvalidation_data\u001b[49m\u001b[38;5;241;43m=\u001b[39;49m\u001b[43mval_gen\u001b[49m\u001b[43m,\u001b[49m\n\u001b[1;32m      5\u001b[0m \u001b[43m    \u001b[49m\u001b[43mcallbacks\u001b[49m\u001b[38;5;241;43m=\u001b[39;49m\u001b[43mcallbacks\u001b[49m\u001b[43m,\u001b[49m\n\u001b[1;32m      6\u001b[0m \u001b[43m    \u001b[49m\u001b[43mepochs\u001b[49m\u001b[38;5;241;43m=\u001b[39;49m\u001b[43mcfg\u001b[49m\u001b[38;5;241;43m.\u001b[39;49m\u001b[43mn_epochs\u001b[49m\u001b[43m,\u001b[49m\n\u001b[1;32m      7\u001b[0m \u001b[43m    \u001b[49m\u001b[43muse_multiprocessing\u001b[49m\u001b[38;5;241;43m=\u001b[39;49m\u001b[38;5;28;43;01mTrue\u001b[39;49;00m\u001b[43m,\u001b[49m\n\u001b[1;32m      8\u001b[0m \u001b[43m    \u001b[49m\u001b[43mworkers\u001b[49m\u001b[38;5;241;43m=\u001b[39;49m\u001b[38;5;241;43m10\u001b[39;49m\u001b[43m,\u001b[49m\n\u001b[1;32m      9\u001b[0m \u001b[43m)\u001b[49m\n",
      "File \u001b[0;32m/usr/local/lib/python3.8/dist-packages/keras/utils/traceback_utils.py:64\u001b[0m, in \u001b[0;36mfilter_traceback.<locals>.error_handler\u001b[0;34m(*args, **kwargs)\u001b[0m\n\u001b[1;32m     62\u001b[0m filtered_tb \u001b[38;5;241m=\u001b[39m \u001b[38;5;28;01mNone\u001b[39;00m\n\u001b[1;32m     63\u001b[0m \u001b[38;5;28;01mtry\u001b[39;00m:\n\u001b[0;32m---> 64\u001b[0m   \u001b[38;5;28;01mreturn\u001b[39;00m \u001b[43mfn\u001b[49m\u001b[43m(\u001b[49m\u001b[38;5;241;43m*\u001b[39;49m\u001b[43margs\u001b[49m\u001b[43m,\u001b[49m\u001b[43m \u001b[49m\u001b[38;5;241;43m*\u001b[39;49m\u001b[38;5;241;43m*\u001b[39;49m\u001b[43mkwargs\u001b[49m\u001b[43m)\u001b[49m\n\u001b[1;32m     65\u001b[0m \u001b[38;5;28;01mexcept\u001b[39;00m \u001b[38;5;167;01mException\u001b[39;00m \u001b[38;5;28;01mas\u001b[39;00m e:  \u001b[38;5;66;03m# pylint: disable=broad-except\u001b[39;00m\n\u001b[1;32m     66\u001b[0m   filtered_tb \u001b[38;5;241m=\u001b[39m _process_traceback_frames(e\u001b[38;5;241m.\u001b[39m__traceback__)\n",
      "File \u001b[0;32m/usr/local/lib/python3.8/dist-packages/keras/engine/training.py:1414\u001b[0m, in \u001b[0;36mModel.fit\u001b[0;34m(self, x, y, batch_size, epochs, verbose, callbacks, validation_split, validation_data, shuffle, class_weight, sample_weight, initial_epoch, steps_per_epoch, validation_steps, validation_batch_size, validation_freq, max_queue_size, workers, use_multiprocessing)\u001b[0m\n\u001b[1;32m   1412\u001b[0m logs \u001b[38;5;241m=\u001b[39m tmp_logs  \u001b[38;5;66;03m# No error, now safe to assign to logs.\u001b[39;00m\n\u001b[1;32m   1413\u001b[0m end_step \u001b[38;5;241m=\u001b[39m step \u001b[38;5;241m+\u001b[39m data_handler\u001b[38;5;241m.\u001b[39mstep_increment\n\u001b[0;32m-> 1414\u001b[0m \u001b[43mcallbacks\u001b[49m\u001b[38;5;241;43m.\u001b[39;49m\u001b[43mon_train_batch_end\u001b[49m\u001b[43m(\u001b[49m\u001b[43mend_step\u001b[49m\u001b[43m,\u001b[49m\u001b[43m \u001b[49m\u001b[43mlogs\u001b[49m\u001b[43m)\u001b[49m\n\u001b[1;32m   1415\u001b[0m \u001b[38;5;28;01mif\u001b[39;00m \u001b[38;5;28mself\u001b[39m\u001b[38;5;241m.\u001b[39mstop_training:\n\u001b[1;32m   1416\u001b[0m   \u001b[38;5;28;01mbreak\u001b[39;00m\n",
      "File \u001b[0;32m/usr/local/lib/python3.8/dist-packages/keras/callbacks.py:438\u001b[0m, in \u001b[0;36mCallbackList.on_train_batch_end\u001b[0;34m(self, batch, logs)\u001b[0m\n\u001b[1;32m    431\u001b[0m \u001b[38;5;124;03m\"\"\"Calls the `on_train_batch_end` methods of its callbacks.\u001b[39;00m\n\u001b[1;32m    432\u001b[0m \n\u001b[1;32m    433\u001b[0m \u001b[38;5;124;03mArgs:\u001b[39;00m\n\u001b[1;32m    434\u001b[0m \u001b[38;5;124;03m    batch: Integer, index of batch within the current epoch.\u001b[39;00m\n\u001b[1;32m    435\u001b[0m \u001b[38;5;124;03m    logs: Dict. Aggregated metric results up until this batch.\u001b[39;00m\n\u001b[1;32m    436\u001b[0m \u001b[38;5;124;03m\"\"\"\u001b[39;00m\n\u001b[1;32m    437\u001b[0m \u001b[38;5;28;01mif\u001b[39;00m \u001b[38;5;28mself\u001b[39m\u001b[38;5;241m.\u001b[39m_should_call_train_batch_hooks:\n\u001b[0;32m--> 438\u001b[0m   \u001b[38;5;28;43mself\u001b[39;49m\u001b[38;5;241;43m.\u001b[39;49m\u001b[43m_call_batch_hook\u001b[49m\u001b[43m(\u001b[49m\u001b[43mModeKeys\u001b[49m\u001b[38;5;241;43m.\u001b[39;49m\u001b[43mTRAIN\u001b[49m\u001b[43m,\u001b[49m\u001b[43m \u001b[49m\u001b[38;5;124;43m'\u001b[39;49m\u001b[38;5;124;43mend\u001b[39;49m\u001b[38;5;124;43m'\u001b[39;49m\u001b[43m,\u001b[49m\u001b[43m \u001b[49m\u001b[43mbatch\u001b[49m\u001b[43m,\u001b[49m\u001b[43m \u001b[49m\u001b[43mlogs\u001b[49m\u001b[38;5;241;43m=\u001b[39;49m\u001b[43mlogs\u001b[49m\u001b[43m)\u001b[49m\n",
      "File \u001b[0;32m/usr/local/lib/python3.8/dist-packages/keras/callbacks.py:297\u001b[0m, in \u001b[0;36mCallbackList._call_batch_hook\u001b[0;34m(self, mode, hook, batch, logs)\u001b[0m\n\u001b[1;32m    295\u001b[0m   \u001b[38;5;28mself\u001b[39m\u001b[38;5;241m.\u001b[39m_call_batch_begin_hook(mode, batch, logs)\n\u001b[1;32m    296\u001b[0m \u001b[38;5;28;01melif\u001b[39;00m hook \u001b[38;5;241m==\u001b[39m \u001b[38;5;124m'\u001b[39m\u001b[38;5;124mend\u001b[39m\u001b[38;5;124m'\u001b[39m:\n\u001b[0;32m--> 297\u001b[0m   \u001b[38;5;28;43mself\u001b[39;49m\u001b[38;5;241;43m.\u001b[39;49m\u001b[43m_call_batch_end_hook\u001b[49m\u001b[43m(\u001b[49m\u001b[43mmode\u001b[49m\u001b[43m,\u001b[49m\u001b[43m \u001b[49m\u001b[43mbatch\u001b[49m\u001b[43m,\u001b[49m\u001b[43m \u001b[49m\u001b[43mlogs\u001b[49m\u001b[43m)\u001b[49m\n\u001b[1;32m    298\u001b[0m \u001b[38;5;28;01melse\u001b[39;00m:\n\u001b[1;32m    299\u001b[0m   \u001b[38;5;28;01mraise\u001b[39;00m \u001b[38;5;167;01mValueError\u001b[39;00m(\n\u001b[1;32m    300\u001b[0m       \u001b[38;5;124mf\u001b[39m\u001b[38;5;124m'\u001b[39m\u001b[38;5;124mUnrecognized hook: \u001b[39m\u001b[38;5;132;01m{\u001b[39;00mhook\u001b[38;5;132;01m}\u001b[39;00m\u001b[38;5;124m. Expected values are [\u001b[39m\u001b[38;5;124m\"\u001b[39m\u001b[38;5;124mbegin\u001b[39m\u001b[38;5;124m\"\u001b[39m\u001b[38;5;124m, \u001b[39m\u001b[38;5;124m\"\u001b[39m\u001b[38;5;124mend\u001b[39m\u001b[38;5;124m\"\u001b[39m\u001b[38;5;124m]\u001b[39m\u001b[38;5;124m'\u001b[39m)\n",
      "File \u001b[0;32m/usr/local/lib/python3.8/dist-packages/keras/callbacks.py:318\u001b[0m, in \u001b[0;36mCallbackList._call_batch_end_hook\u001b[0;34m(self, mode, batch, logs)\u001b[0m\n\u001b[1;32m    315\u001b[0m   batch_time \u001b[38;5;241m=\u001b[39m time\u001b[38;5;241m.\u001b[39mtime() \u001b[38;5;241m-\u001b[39m \u001b[38;5;28mself\u001b[39m\u001b[38;5;241m.\u001b[39m_batch_start_time\n\u001b[1;32m    316\u001b[0m   \u001b[38;5;28mself\u001b[39m\u001b[38;5;241m.\u001b[39m_batch_times\u001b[38;5;241m.\u001b[39mappend(batch_time)\n\u001b[0;32m--> 318\u001b[0m \u001b[38;5;28;43mself\u001b[39;49m\u001b[38;5;241;43m.\u001b[39;49m\u001b[43m_call_batch_hook_helper\u001b[49m\u001b[43m(\u001b[49m\u001b[43mhook_name\u001b[49m\u001b[43m,\u001b[49m\u001b[43m \u001b[49m\u001b[43mbatch\u001b[49m\u001b[43m,\u001b[49m\u001b[43m \u001b[49m\u001b[43mlogs\u001b[49m\u001b[43m)\u001b[49m\n\u001b[1;32m    320\u001b[0m \u001b[38;5;28;01mif\u001b[39;00m \u001b[38;5;28mlen\u001b[39m(\u001b[38;5;28mself\u001b[39m\u001b[38;5;241m.\u001b[39m_batch_times) \u001b[38;5;241m>\u001b[39m\u001b[38;5;241m=\u001b[39m \u001b[38;5;28mself\u001b[39m\u001b[38;5;241m.\u001b[39m_num_batches_for_timing_check:\n\u001b[1;32m    321\u001b[0m   end_hook_name \u001b[38;5;241m=\u001b[39m hook_name\n",
      "File \u001b[0;32m/usr/local/lib/python3.8/dist-packages/keras/callbacks.py:356\u001b[0m, in \u001b[0;36mCallbackList._call_batch_hook_helper\u001b[0;34m(self, hook_name, batch, logs)\u001b[0m\n\u001b[1;32m    354\u001b[0m \u001b[38;5;28;01mfor\u001b[39;00m callback \u001b[38;5;129;01min\u001b[39;00m \u001b[38;5;28mself\u001b[39m\u001b[38;5;241m.\u001b[39mcallbacks:\n\u001b[1;32m    355\u001b[0m   hook \u001b[38;5;241m=\u001b[39m \u001b[38;5;28mgetattr\u001b[39m(callback, hook_name)\n\u001b[0;32m--> 356\u001b[0m   \u001b[43mhook\u001b[49m\u001b[43m(\u001b[49m\u001b[43mbatch\u001b[49m\u001b[43m,\u001b[49m\u001b[43m \u001b[49m\u001b[43mlogs\u001b[49m\u001b[43m)\u001b[49m\n\u001b[1;32m    358\u001b[0m \u001b[38;5;28;01mif\u001b[39;00m \u001b[38;5;28mself\u001b[39m\u001b[38;5;241m.\u001b[39m_check_timing:\n\u001b[1;32m    359\u001b[0m   \u001b[38;5;28;01mif\u001b[39;00m hook_name \u001b[38;5;129;01mnot\u001b[39;00m \u001b[38;5;129;01min\u001b[39;00m \u001b[38;5;28mself\u001b[39m\u001b[38;5;241m.\u001b[39m_hook_times:\n",
      "File \u001b[0;32m/usr/local/lib/python3.8/dist-packages/keras/callbacks.py:724\u001b[0m, in \u001b[0;36mCallback.on_train_batch_end\u001b[0;34m(self, batch, logs)\u001b[0m\n\u001b[1;32m    711\u001b[0m \u001b[38;5;124;03m\"\"\"Called at the end of a training batch in `fit` methods.\u001b[39;00m\n\u001b[1;32m    712\u001b[0m \n\u001b[1;32m    713\u001b[0m \u001b[38;5;124;03mSubclasses should override for any actions to run.\u001b[39;00m\n\u001b[0;32m   (...)\u001b[0m\n\u001b[1;32m    721\u001b[0m \u001b[38;5;124;03m    logs: Dict. Aggregated metric results up until this batch.\u001b[39;00m\n\u001b[1;32m    722\u001b[0m \u001b[38;5;124;03m\"\"\"\u001b[39;00m\n\u001b[1;32m    723\u001b[0m \u001b[38;5;66;03m# For backwards compatibility.\u001b[39;00m\n\u001b[0;32m--> 724\u001b[0m \u001b[38;5;28;43mself\u001b[39;49m\u001b[38;5;241;43m.\u001b[39;49m\u001b[43mon_batch_end\u001b[49m\u001b[43m(\u001b[49m\u001b[43mbatch\u001b[49m\u001b[43m,\u001b[49m\u001b[43m \u001b[49m\u001b[43mlogs\u001b[49m\u001b[38;5;241;43m=\u001b[39;49m\u001b[43mlogs\u001b[49m\u001b[43m)\u001b[49m\n",
      "File \u001b[0;32m/usr/local/lib/python3.8/dist-packages/keras/callbacks.py:946\u001b[0m, in \u001b[0;36mTerminateOnNaN.on_batch_end\u001b[0;34m(self, batch, logs)\u001b[0m\n\u001b[1;32m    944\u001b[0m loss \u001b[38;5;241m=\u001b[39m logs\u001b[38;5;241m.\u001b[39mget(\u001b[38;5;124m'\u001b[39m\u001b[38;5;124mloss\u001b[39m\u001b[38;5;124m'\u001b[39m)\n\u001b[1;32m    945\u001b[0m \u001b[38;5;28;01mif\u001b[39;00m loss \u001b[38;5;129;01mis\u001b[39;00m \u001b[38;5;129;01mnot\u001b[39;00m \u001b[38;5;28;01mNone\u001b[39;00m:\n\u001b[0;32m--> 946\u001b[0m   loss \u001b[38;5;241m=\u001b[39m \u001b[43mtf_utils\u001b[49m\u001b[38;5;241;43m.\u001b[39;49m\u001b[43msync_to_numpy_or_python_type\u001b[49m\u001b[43m(\u001b[49m\u001b[43mloss\u001b[49m\u001b[43m)\u001b[49m\n\u001b[1;32m    947\u001b[0m   \u001b[38;5;28;01mif\u001b[39;00m np\u001b[38;5;241m.\u001b[39misnan(loss) \u001b[38;5;129;01mor\u001b[39;00m np\u001b[38;5;241m.\u001b[39misinf(loss):\n\u001b[1;32m    948\u001b[0m     io_utils\u001b[38;5;241m.\u001b[39mprint_msg(\u001b[38;5;124mf\u001b[39m\u001b[38;5;124m'\u001b[39m\u001b[38;5;124mBatch \u001b[39m\u001b[38;5;132;01m{\u001b[39;00mbatch\u001b[38;5;132;01m}\u001b[39;00m\u001b[38;5;124m: Invalid loss, terminating training\u001b[39m\u001b[38;5;124m'\u001b[39m)\n",
      "File \u001b[0;32m/usr/local/lib/python3.8/dist-packages/keras/utils/tf_utils.py:607\u001b[0m, in \u001b[0;36msync_to_numpy_or_python_type\u001b[0;34m(tensors)\u001b[0m\n\u001b[1;32m    604\u001b[0m     \u001b[38;5;28;01mreturn\u001b[39;00m t\n\u001b[1;32m    605\u001b[0m   \u001b[38;5;28;01mreturn\u001b[39;00m t\u001b[38;5;241m.\u001b[39mitem() \u001b[38;5;28;01mif\u001b[39;00m np\u001b[38;5;241m.\u001b[39mndim(t) \u001b[38;5;241m==\u001b[39m \u001b[38;5;241m0\u001b[39m \u001b[38;5;28;01melse\u001b[39;00m t\n\u001b[0;32m--> 607\u001b[0m \u001b[38;5;28;01mreturn\u001b[39;00m \u001b[43mtf\u001b[49m\u001b[38;5;241;43m.\u001b[39;49m\u001b[43mnest\u001b[49m\u001b[38;5;241;43m.\u001b[39;49m\u001b[43mmap_structure\u001b[49m\u001b[43m(\u001b[49m\u001b[43m_to_single_numpy_or_python_type\u001b[49m\u001b[43m,\u001b[49m\u001b[43m \u001b[49m\u001b[43mtensors\u001b[49m\u001b[43m)\u001b[49m\n",
      "File \u001b[0;32m/usr/local/lib/python3.8/dist-packages/tensorflow/python/util/nest.py:916\u001b[0m, in \u001b[0;36mmap_structure\u001b[0;34m(func, *structure, **kwargs)\u001b[0m\n\u001b[1;32m    912\u001b[0m flat_structure \u001b[38;5;241m=\u001b[39m (flatten(s, expand_composites) \u001b[38;5;28;01mfor\u001b[39;00m s \u001b[38;5;129;01min\u001b[39;00m structure)\n\u001b[1;32m    913\u001b[0m entries \u001b[38;5;241m=\u001b[39m \u001b[38;5;28mzip\u001b[39m(\u001b[38;5;241m*\u001b[39mflat_structure)\n\u001b[1;32m    915\u001b[0m \u001b[38;5;28;01mreturn\u001b[39;00m pack_sequence_as(\n\u001b[0;32m--> 916\u001b[0m     structure[\u001b[38;5;241m0\u001b[39m], [func(\u001b[38;5;241m*\u001b[39mx) \u001b[38;5;28;01mfor\u001b[39;00m x \u001b[38;5;129;01min\u001b[39;00m entries],\n\u001b[1;32m    917\u001b[0m     expand_composites\u001b[38;5;241m=\u001b[39mexpand_composites)\n",
      "File \u001b[0;32m/usr/local/lib/python3.8/dist-packages/tensorflow/python/util/nest.py:916\u001b[0m, in \u001b[0;36m<listcomp>\u001b[0;34m(.0)\u001b[0m\n\u001b[1;32m    912\u001b[0m flat_structure \u001b[38;5;241m=\u001b[39m (flatten(s, expand_composites) \u001b[38;5;28;01mfor\u001b[39;00m s \u001b[38;5;129;01min\u001b[39;00m structure)\n\u001b[1;32m    913\u001b[0m entries \u001b[38;5;241m=\u001b[39m \u001b[38;5;28mzip\u001b[39m(\u001b[38;5;241m*\u001b[39mflat_structure)\n\u001b[1;32m    915\u001b[0m \u001b[38;5;28;01mreturn\u001b[39;00m pack_sequence_as(\n\u001b[0;32m--> 916\u001b[0m     structure[\u001b[38;5;241m0\u001b[39m], [\u001b[43mfunc\u001b[49m\u001b[43m(\u001b[49m\u001b[38;5;241;43m*\u001b[39;49m\u001b[43mx\u001b[49m\u001b[43m)\u001b[49m \u001b[38;5;28;01mfor\u001b[39;00m x \u001b[38;5;129;01min\u001b[39;00m entries],\n\u001b[1;32m    917\u001b[0m     expand_composites\u001b[38;5;241m=\u001b[39mexpand_composites)\n",
      "File \u001b[0;32m/usr/local/lib/python3.8/dist-packages/keras/utils/tf_utils.py:601\u001b[0m, in \u001b[0;36msync_to_numpy_or_python_type.<locals>._to_single_numpy_or_python_type\u001b[0;34m(t)\u001b[0m\n\u001b[1;32m    598\u001b[0m \u001b[38;5;28;01mdef\u001b[39;00m \u001b[38;5;21m_to_single_numpy_or_python_type\u001b[39m(t):\n\u001b[1;32m    599\u001b[0m   \u001b[38;5;66;03m# Don't turn ragged or sparse tensors to NumPy.\u001b[39;00m\n\u001b[1;32m    600\u001b[0m   \u001b[38;5;28;01mif\u001b[39;00m \u001b[38;5;28misinstance\u001b[39m(t, tf\u001b[38;5;241m.\u001b[39mTensor):\n\u001b[0;32m--> 601\u001b[0m     t \u001b[38;5;241m=\u001b[39m \u001b[43mt\u001b[49m\u001b[38;5;241;43m.\u001b[39;49m\u001b[43mnumpy\u001b[49m\u001b[43m(\u001b[49m\u001b[43m)\u001b[49m\n\u001b[1;32m    602\u001b[0m   \u001b[38;5;66;03m# Strings, ragged and sparse tensors don't have .item(). Return them as-is.\u001b[39;00m\n\u001b[1;32m    603\u001b[0m   \u001b[38;5;28;01mif\u001b[39;00m \u001b[38;5;129;01mnot\u001b[39;00m \u001b[38;5;28misinstance\u001b[39m(t, (np\u001b[38;5;241m.\u001b[39mndarray, np\u001b[38;5;241m.\u001b[39mgeneric)):\n",
      "File \u001b[0;32m/usr/local/lib/python3.8/dist-packages/tensorflow/python/framework/ops.py:1159\u001b[0m, in \u001b[0;36m_EagerTensorBase.numpy\u001b[0;34m(self)\u001b[0m\n\u001b[1;32m   1136\u001b[0m \u001b[38;5;124;03m\"\"\"Copy of the contents of this Tensor into a NumPy array or scalar.\u001b[39;00m\n\u001b[1;32m   1137\u001b[0m \n\u001b[1;32m   1138\u001b[0m \u001b[38;5;124;03mUnlike NumPy arrays, Tensors are immutable, so this method has to copy\u001b[39;00m\n\u001b[0;32m   (...)\u001b[0m\n\u001b[1;32m   1156\u001b[0m \u001b[38;5;124;03m    NumPy dtype.\u001b[39;00m\n\u001b[1;32m   1157\u001b[0m \u001b[38;5;124;03m\"\"\"\u001b[39;00m\n\u001b[1;32m   1158\u001b[0m \u001b[38;5;66;03m# TODO(slebedev): Consider avoiding a copy for non-CPU or remote tensors.\u001b[39;00m\n\u001b[0;32m-> 1159\u001b[0m maybe_arr \u001b[38;5;241m=\u001b[39m \u001b[38;5;28;43mself\u001b[39;49m\u001b[38;5;241;43m.\u001b[39;49m\u001b[43m_numpy\u001b[49m\u001b[43m(\u001b[49m\u001b[43m)\u001b[49m  \u001b[38;5;66;03m# pylint: disable=protected-access\u001b[39;00m\n\u001b[1;32m   1160\u001b[0m \u001b[38;5;28;01mreturn\u001b[39;00m maybe_arr\u001b[38;5;241m.\u001b[39mcopy() \u001b[38;5;28;01mif\u001b[39;00m \u001b[38;5;28misinstance\u001b[39m(maybe_arr, np\u001b[38;5;241m.\u001b[39mndarray) \u001b[38;5;28;01melse\u001b[39;00m maybe_arr\n",
      "File \u001b[0;32m/usr/local/lib/python3.8/dist-packages/tensorflow/python/framework/ops.py:1125\u001b[0m, in \u001b[0;36m_EagerTensorBase._numpy\u001b[0;34m(self)\u001b[0m\n\u001b[1;32m   1123\u001b[0m \u001b[38;5;28;01mdef\u001b[39;00m \u001b[38;5;21m_numpy\u001b[39m(\u001b[38;5;28mself\u001b[39m):\n\u001b[1;32m   1124\u001b[0m   \u001b[38;5;28;01mtry\u001b[39;00m:\n\u001b[0;32m-> 1125\u001b[0m     \u001b[38;5;28;01mreturn\u001b[39;00m \u001b[38;5;28;43mself\u001b[39;49m\u001b[38;5;241;43m.\u001b[39;49m\u001b[43m_numpy_internal\u001b[49m\u001b[43m(\u001b[49m\u001b[43m)\u001b[49m\n\u001b[1;32m   1126\u001b[0m   \u001b[38;5;28;01mexcept\u001b[39;00m core\u001b[38;5;241m.\u001b[39m_NotOkStatusException \u001b[38;5;28;01mas\u001b[39;00m e:  \u001b[38;5;66;03m# pylint: disable=protected-access\u001b[39;00m\n\u001b[1;32m   1127\u001b[0m     \u001b[38;5;28;01mraise\u001b[39;00m core\u001b[38;5;241m.\u001b[39m_status_to_exception(e) \u001b[38;5;28;01mfrom\u001b[39;00m \u001b[38;5;28mNone\u001b[39m\n",
      "\u001b[0;31mKeyboardInterrupt\u001b[0m: "
     ]
    },
    {
     "name": "stderr",
     "output_type": "stream",
     "text": [
      "Process Keras_worker_ForkPoolWorker-1302:\n",
      "Process Keras_worker_ForkPoolWorker-1306:\n",
      "Process Keras_worker_ForkPoolWorker-1311:\n",
      "Process Keras_worker_ForkPoolWorker-1305:\n",
      "Process Keras_worker_ForkPoolWorker-1316:\n",
      "Process Keras_worker_ForkPoolWorker-1303:\n",
      "Process Keras_worker_ForkPoolWorker-1313:\n",
      "Process Keras_worker_ForkPoolWorker-1317:\n",
      "Process Keras_worker_ForkPoolWorker-1310:\n",
      "Process Keras_worker_ForkPoolWorker-1309:\n",
      "Process Keras_worker_ForkPoolWorker-1315:\n",
      "Process Keras_worker_ForkPoolWorker-1320:\n",
      "Process Keras_worker_ForkPoolWorker-1319:\n",
      "Process Keras_worker_ForkPoolWorker-1314:\n",
      "Process Keras_worker_ForkPoolWorker-1308:\n",
      "Process Keras_worker_ForkPoolWorker-1304:\n",
      "Process Keras_worker_ForkPoolWorker-1318:\n",
      "Process Keras_worker_ForkPoolWorker-1307:\n",
      "Process Keras_worker_ForkPoolWorker-1301:\n",
      "Process Keras_worker_ForkPoolWorker-1312:\n",
      "Traceback (most recent call last):\n",
      "Traceback (most recent call last):\n",
      "Traceback (most recent call last):\n",
      "Traceback (most recent call last):\n",
      "Traceback (most recent call last):\n",
      "Traceback (most recent call last):\n",
      "Traceback (most recent call last):\n",
      "Traceback (most recent call last):\n",
      "Traceback (most recent call last):\n",
      "Traceback (most recent call last):\n",
      "Traceback (most recent call last):\n",
      "Traceback (most recent call last):\n",
      "  File \"/usr/lib/python3.8/multiprocessing/process.py\", line 315, in _bootstrap\n",
      "    self.run()\n",
      "Traceback (most recent call last):\n",
      "Traceback (most recent call last):\n",
      "  File \"/usr/lib/python3.8/multiprocessing/process.py\", line 315, in _bootstrap\n",
      "    self.run()\n",
      "Traceback (most recent call last):\n",
      "Traceback (most recent call last):\n",
      "  File \"/usr/lib/python3.8/multiprocessing/process.py\", line 315, in _bootstrap\n",
      "    self.run()\n",
      "Traceback (most recent call last):\n",
      "Traceback (most recent call last):\n",
      "Traceback (most recent call last):\n",
      "  File \"/usr/lib/python3.8/multiprocessing/process.py\", line 315, in _bootstrap\n",
      "    self.run()\n",
      "Traceback (most recent call last):\n",
      "  File \"/usr/lib/python3.8/multiprocessing/process.py\", line 315, in _bootstrap\n",
      "    self.run()\n",
      "  File \"/usr/lib/python3.8/multiprocessing/process.py\", line 315, in _bootstrap\n",
      "    self.run()\n",
      "  File \"/usr/lib/python3.8/multiprocessing/process.py\", line 315, in _bootstrap\n",
      "    self.run()\n",
      "  File \"/usr/lib/python3.8/multiprocessing/process.py\", line 315, in _bootstrap\n",
      "    self.run()\n",
      "  File \"/usr/lib/python3.8/multiprocessing/process.py\", line 315, in _bootstrap\n",
      "    self.run()\n",
      "  File \"/usr/lib/python3.8/multiprocessing/process.py\", line 315, in _bootstrap\n",
      "    self.run()\n",
      "  File \"/usr/lib/python3.8/multiprocessing/process.py\", line 315, in _bootstrap\n",
      "    self.run()\n",
      "  File \"/usr/lib/python3.8/multiprocessing/process.py\", line 108, in run\n",
      "    self._target(*self._args, **self._kwargs)\n",
      "  File \"/usr/lib/python3.8/multiprocessing/process.py\", line 315, in _bootstrap\n",
      "    self.run()\n",
      "  File \"/usr/lib/python3.8/multiprocessing/process.py\", line 315, in _bootstrap\n",
      "    self.run()\n",
      "  File \"/usr/lib/python3.8/multiprocessing/process.py\", line 315, in _bootstrap\n",
      "    self.run()\n",
      "  File \"/usr/lib/python3.8/multiprocessing/process.py\", line 108, in run\n",
      "    self._target(*self._args, **self._kwargs)\n",
      "  File \"/usr/lib/python3.8/multiprocessing/process.py\", line 315, in _bootstrap\n",
      "    self.run()\n",
      "  File \"/usr/lib/python3.8/multiprocessing/process.py\", line 315, in _bootstrap\n",
      "    self.run()\n",
      "  File \"/usr/lib/python3.8/multiprocessing/process.py\", line 108, in run\n",
      "    self._target(*self._args, **self._kwargs)\n",
      "  File \"/usr/lib/python3.8/multiprocessing/process.py\", line 315, in _bootstrap\n",
      "    self.run()\n",
      "  File \"/usr/lib/python3.8/multiprocessing/process.py\", line 315, in _bootstrap\n",
      "    self.run()\n",
      "  File \"/usr/lib/python3.8/multiprocessing/process.py\", line 315, in _bootstrap\n",
      "    self.run()\n",
      "  File \"/usr/lib/python3.8/multiprocessing/process.py\", line 108, in run\n",
      "    self._target(*self._args, **self._kwargs)\n",
      "  File \"/usr/lib/python3.8/multiprocessing/process.py\", line 315, in _bootstrap\n",
      "    self.run()\n",
      "  File \"/usr/lib/python3.8/multiprocessing/process.py\", line 108, in run\n",
      "    self._target(*self._args, **self._kwargs)\n",
      "  File \"/usr/lib/python3.8/multiprocessing/process.py\", line 108, in run\n",
      "    self._target(*self._args, **self._kwargs)\n",
      "  File \"/usr/lib/python3.8/multiprocessing/process.py\", line 108, in run\n",
      "    self._target(*self._args, **self._kwargs)\n",
      "  File \"/usr/lib/python3.8/multiprocessing/process.py\", line 108, in run\n",
      "    self._target(*self._args, **self._kwargs)\n",
      "  File \"/usr/lib/python3.8/multiprocessing/process.py\", line 108, in run\n",
      "    self._target(*self._args, **self._kwargs)\n",
      "  File \"/usr/lib/python3.8/multiprocessing/process.py\", line 108, in run\n",
      "    self._target(*self._args, **self._kwargs)\n",
      "  File \"/usr/lib/python3.8/multiprocessing/process.py\", line 108, in run\n",
      "    self._target(*self._args, **self._kwargs)\n",
      "  File \"/usr/lib/python3.8/multiprocessing/pool.py\", line 114, in worker\n",
      "    task = get()\n",
      "  File \"/usr/lib/python3.8/multiprocessing/process.py\", line 108, in run\n",
      "    self._target(*self._args, **self._kwargs)\n",
      "  File \"/usr/lib/python3.8/multiprocessing/process.py\", line 108, in run\n",
      "    self._target(*self._args, **self._kwargs)\n",
      "  File \"/usr/lib/python3.8/multiprocessing/process.py\", line 108, in run\n",
      "    self._target(*self._args, **self._kwargs)\n",
      "  File \"/usr/lib/python3.8/multiprocessing/pool.py\", line 114, in worker\n",
      "    task = get()\n",
      "  File \"/usr/lib/python3.8/multiprocessing/process.py\", line 108, in run\n",
      "    self._target(*self._args, **self._kwargs)\n",
      "  File \"/usr/lib/python3.8/multiprocessing/process.py\", line 108, in run\n",
      "    self._target(*self._args, **self._kwargs)\n",
      "  File \"/usr/lib/python3.8/multiprocessing/pool.py\", line 114, in worker\n",
      "    task = get()\n",
      "  File \"/usr/lib/python3.8/multiprocessing/process.py\", line 108, in run\n",
      "    self._target(*self._args, **self._kwargs)\n",
      "  File \"/usr/lib/python3.8/multiprocessing/process.py\", line 108, in run\n",
      "    self._target(*self._args, **self._kwargs)\n",
      "  File \"/usr/lib/python3.8/multiprocessing/process.py\", line 108, in run\n",
      "    self._target(*self._args, **self._kwargs)\n",
      "  File \"/usr/lib/python3.8/multiprocessing/pool.py\", line 114, in worker\n",
      "    task = get()\n",
      "  File \"/usr/lib/python3.8/multiprocessing/process.py\", line 108, in run\n",
      "    self._target(*self._args, **self._kwargs)\n",
      "  File \"/usr/lib/python3.8/multiprocessing/pool.py\", line 114, in worker\n",
      "    task = get()\n",
      "  File \"/usr/lib/python3.8/multiprocessing/pool.py\", line 114, in worker\n",
      "    task = get()\n",
      "  File \"/usr/lib/python3.8/multiprocessing/pool.py\", line 114, in worker\n",
      "    task = get()\n",
      "  File \"/usr/lib/python3.8/multiprocessing/pool.py\", line 114, in worker\n",
      "    task = get()\n",
      "  File \"/usr/lib/python3.8/multiprocessing/pool.py\", line 114, in worker\n",
      "    task = get()\n",
      "  File \"/usr/lib/python3.8/multiprocessing/pool.py\", line 114, in worker\n",
      "    task = get()\n",
      "  File \"/usr/lib/python3.8/multiprocessing/queues.py\", line 355, in get\n",
      "    with self._rlock:\n",
      "  File \"/usr/lib/python3.8/multiprocessing/pool.py\", line 114, in worker\n",
      "    task = get()\n",
      "  File \"/usr/lib/python3.8/multiprocessing/pool.py\", line 114, in worker\n",
      "    task = get()\n",
      "  File \"/usr/lib/python3.8/multiprocessing/pool.py\", line 114, in worker\n",
      "    task = get()\n",
      "  File \"/usr/lib/python3.8/multiprocessing/pool.py\", line 114, in worker\n",
      "    task = get()\n",
      "  File \"/usr/lib/python3.8/multiprocessing/queues.py\", line 355, in get\n",
      "    with self._rlock:\n",
      "  File \"/usr/lib/python3.8/multiprocessing/pool.py\", line 114, in worker\n",
      "    task = get()\n",
      "  File \"/usr/lib/python3.8/multiprocessing/queues.py\", line 355, in get\n",
      "    with self._rlock:\n",
      "  File \"/usr/lib/python3.8/multiprocessing/pool.py\", line 114, in worker\n",
      "    task = get()\n",
      "  File \"/usr/lib/python3.8/multiprocessing/pool.py\", line 114, in worker\n",
      "    task = get()\n",
      "  File \"/usr/lib/python3.8/multiprocessing/pool.py\", line 114, in worker\n",
      "    task = get()\n",
      "  File \"/usr/lib/python3.8/multiprocessing/pool.py\", line 114, in worker\n",
      "    task = get()\n",
      "  File \"/usr/lib/python3.8/multiprocessing/queues.py\", line 355, in get\n",
      "    with self._rlock:\n",
      "  File \"/usr/lib/python3.8/multiprocessing/pool.py\", line 114, in worker\n",
      "    task = get()\n",
      "  File \"/usr/lib/python3.8/multiprocessing/queues.py\", line 356, in get\n",
      "    res = self._reader.recv_bytes()\n",
      "  File \"/usr/lib/python3.8/multiprocessing/queues.py\", line 355, in get\n",
      "    with self._rlock:\n",
      "  File \"/usr/lib/python3.8/multiprocessing/queues.py\", line 355, in get\n",
      "    with self._rlock:\n",
      "  File \"/usr/lib/python3.8/multiprocessing/queues.py\", line 355, in get\n",
      "    with self._rlock:\n",
      "  File \"/usr/lib/python3.8/multiprocessing/queues.py\", line 355, in get\n",
      "    with self._rlock:\n",
      "  File \"/usr/lib/python3.8/multiprocessing/queues.py\", line 355, in get\n",
      "    with self._rlock:\n",
      "  File \"/usr/lib/python3.8/multiprocessing/synchronize.py\", line 95, in __enter__\n",
      "    return self._semlock.__enter__()\n",
      "  File \"/usr/lib/python3.8/multiprocessing/queues.py\", line 355, in get\n",
      "    with self._rlock:\n",
      "  File \"/usr/lib/python3.8/multiprocessing/queues.py\", line 355, in get\n",
      "    with self._rlock:\n",
      "  File \"/usr/lib/python3.8/multiprocessing/queues.py\", line 355, in get\n",
      "    with self._rlock:\n",
      "  File \"/usr/lib/python3.8/multiprocessing/queues.py\", line 355, in get\n",
      "    with self._rlock:\n",
      "  File \"/usr/lib/python3.8/multiprocessing/synchronize.py\", line 95, in __enter__\n",
      "    return self._semlock.__enter__()\n",
      "  File \"/usr/lib/python3.8/multiprocessing/queues.py\", line 355, in get\n",
      "    with self._rlock:\n",
      "  File \"/usr/lib/python3.8/multiprocessing/synchronize.py\", line 95, in __enter__\n",
      "    return self._semlock.__enter__()\n",
      "  File \"/usr/lib/python3.8/multiprocessing/queues.py\", line 355, in get\n",
      "    with self._rlock:\n",
      "  File \"/usr/lib/python3.8/multiprocessing/queues.py\", line 356, in get\n",
      "    res = self._reader.recv_bytes()\n",
      "  File \"/usr/lib/python3.8/multiprocessing/queues.py\", line 355, in get\n",
      "    with self._rlock:\n",
      "  File \"/usr/lib/python3.8/multiprocessing/queues.py\", line 355, in get\n",
      "    with self._rlock:\n",
      "  File \"/usr/lib/python3.8/multiprocessing/synchronize.py\", line 95, in __enter__\n",
      "    return self._semlock.__enter__()\n",
      "  File \"/usr/lib/python3.8/multiprocessing/queues.py\", line 355, in get\n",
      "    with self._rlock:\n",
      "  File \"/usr/lib/python3.8/multiprocessing/connection.py\", line 216, in recv_bytes\n",
      "    buf = self._recv_bytes(maxlength)\n",
      "  File \"/usr/lib/python3.8/multiprocessing/synchronize.py\", line 95, in __enter__\n",
      "    return self._semlock.__enter__()\n",
      "  File \"/usr/lib/python3.8/multiprocessing/synchronize.py\", line 95, in __enter__\n",
      "    return self._semlock.__enter__()\n",
      "  File \"/usr/lib/python3.8/multiprocessing/synchronize.py\", line 95, in __enter__\n",
      "    return self._semlock.__enter__()\n",
      "  File \"/usr/lib/python3.8/multiprocessing/synchronize.py\", line 95, in __enter__\n",
      "    return self._semlock.__enter__()\n",
      "  File \"/usr/lib/python3.8/multiprocessing/synchronize.py\", line 95, in __enter__\n",
      "    return self._semlock.__enter__()\n",
      "  File \"/usr/lib/python3.8/multiprocessing/synchronize.py\", line 95, in __enter__\n",
      "    return self._semlock.__enter__()\n",
      "KeyboardInterrupt\n",
      "  File \"/usr/lib/python3.8/multiprocessing/synchronize.py\", line 95, in __enter__\n",
      "    return self._semlock.__enter__()\n",
      "  File \"/usr/lib/python3.8/multiprocessing/synchronize.py\", line 95, in __enter__\n",
      "    return self._semlock.__enter__()\n",
      "KeyboardInterrupt\n",
      "  File \"/usr/lib/python3.8/multiprocessing/synchronize.py\", line 95, in __enter__\n",
      "    return self._semlock.__enter__()\n",
      "  File \"/usr/lib/python3.8/multiprocessing/synchronize.py\", line 95, in __enter__\n",
      "    return self._semlock.__enter__()\n",
      "  File \"/usr/lib/python3.8/multiprocessing/synchronize.py\", line 95, in __enter__\n",
      "    return self._semlock.__enter__()\n",
      "  File \"/usr/lib/python3.8/multiprocessing/connection.py\", line 216, in recv_bytes\n",
      "    buf = self._recv_bytes(maxlength)\n",
      "  File \"/usr/lib/python3.8/multiprocessing/synchronize.py\", line 95, in __enter__\n",
      "    return self._semlock.__enter__()\n",
      "  File \"/usr/lib/python3.8/multiprocessing/synchronize.py\", line 95, in __enter__\n",
      "    return self._semlock.__enter__()\n",
      "KeyboardInterrupt\n",
      "KeyboardInterrupt\n",
      "  File \"/usr/lib/python3.8/multiprocessing/synchronize.py\", line 95, in __enter__\n",
      "    return self._semlock.__enter__()\n",
      "  File \"/usr/lib/python3.8/multiprocessing/connection.py\", line 414, in _recv_bytes\n",
      "    buf = self._recv(4)\n",
      "KeyboardInterrupt\n",
      "KeyboardInterrupt\n",
      "KeyboardInterrupt\n",
      "KeyboardInterrupt\n",
      "KeyboardInterrupt\n",
      "KeyboardInterrupt\n",
      "KeyboardInterrupt\n",
      "KeyboardInterrupt\n",
      "KeyboardInterrupt\n",
      "KeyboardInterrupt\n",
      "KeyboardInterrupt\n",
      "  File \"/usr/lib/python3.8/multiprocessing/connection.py\", line 414, in _recv_bytes\n",
      "    buf = self._recv(4)\n",
      "KeyboardInterrupt\n",
      "KeyboardInterrupt\n",
      "KeyboardInterrupt\n",
      "  File \"/usr/lib/python3.8/multiprocessing/connection.py\", line 379, in _recv\n",
      "    chunk = read(handle, remaining)\n",
      "  File \"/usr/lib/python3.8/multiprocessing/connection.py\", line 379, in _recv\n",
      "    chunk = read(handle, remaining)\n",
      "KeyboardInterrupt\n",
      "KeyboardInterrupt\n"
     ]
    }
   ],
   "source": [
    "history = siamese_net.fit(\n",
    "    x=train_gen,\n",
    "    steps_per_epoch=train_gen.__len__(),\n",
    "    validation_data=val_gen,\n",
    "    callbacks=callbacks,\n",
    "    epochs=cfg.n_epochs,\n",
    "    use_multiprocessing=True,\n",
    "    workers=10,\n",
    ")"
   ]
  },
  {
   "cell_type": "code",
   "execution_count": 34,
   "id": "d0c255c9-fdeb-4850-b4c0-32c0a4861b61",
   "metadata": {},
   "outputs": [
    {
     "data": {
      "text/plain": [
       "<tf.Tensor: shape=(), dtype=float32, numpy=0.4401796>"
      ]
     },
     "execution_count": 34,
     "metadata": {},
     "output_type": "execute_result"
    }
   ],
   "source": [
    "keras.losses.BinaryCrossentropy(from_logits=False)(labels, d)"
   ]
  },
  {
   "cell_type": "code",
   "execution_count": 24,
   "id": "1e56d6bd-d6a0-410d-ad29-1211d661575e",
   "metadata": {},
   "outputs": [
    {
     "data": {
      "image/png": "[encoded data removed]",
      "text/plain": [
       "<Figure size 2000x500 with 1 Axes>"
      ]
     },
     "metadata": {
      "image/png": {
       "height": 478,
       "width": 875
      }
     },
     "output_type": "display_data"
    }
   ],
   "source": [
    "plot_history(history.history)"
   ]
  },
  {
   "cell_type": "code",
   "execution_count": 25,
   "id": "62e09e69-cea7-4e80-bf4a-0c445b35a68e",
   "metadata": {},
   "outputs": [],
   "source": [
    "def save_params(mod_dir, model, history, cfg, loss=\"constr\"):\n",
    "    train_history = history.history\n",
    "    min_val_loss = np.min(train_history[\"val_loss\"])\n",
    "\n",
    "    for k in train_history.keys():\n",
    "        train_history[k] = list(map(float, train_history[k]))\n",
    "    model.save(\n",
    "        os.path.join(mod_dir, f\"model_{min_val_loss}.h5\"),\n",
    "    )\n",
    "    config = {\n",
    "        \"loss\": loss,\n",
    "        \"history\": train_history,\n",
    "        \"norm\": cfg.norm,\n",
    "        \"fold\": cfg.fold,\n",
    "        \"model\": {\n",
    "            \"eff\": False,\n",
    "            \"input_shape\": cfg.input_shape,\n",
    "            \"embedding_len\": cfg.emb_len,\n",
    "            \"kernel_size\": cfg.kernel_size,\n",
    "            \"activation_fn\": cfg.act_fn,\n",
    "            \"batch_norm\": False,\n",
    "        },\n",
    "    }\n",
    "    with open(os.path.join(mod_dir, \"config.json\"), \"w\") as f:\n",
    "        json.dump(config, f)\n",
    "    model.save(os.path.join(mod_dir, f\"model_{min_val_loss}\"), include_optimizer=False)\n",
    "    print(\n",
    "        f'min_val_loss = {min_val_loss}, model saved to {os.path.join(mod_dir, f\"model_{min_val_loss}\")}'\n",
    "    )"
   ]
  },
  {
   "cell_type": "code",
   "execution_count": 26,
   "id": "0aa5ac30-15cb-4f96-be50-87b31133706f",
   "metadata": {},
   "outputs": [
    {
     "name": "stderr",
     "output_type": "stream",
     "text": [
      "WARNING:absl:Found untraced functions such as _jit_compiled_convolution_op, _jit_compiled_convolution_op, _jit_compiled_convolution_op, _jit_compiled_convolution_op, _jit_compiled_convolution_op while saving (showing 5 of 27). These functions will not be directly callable after loading.\n"
     ]
    },
    {
     "name": "stdout",
     "output_type": "stream",
     "text": [
      "INFO:tensorflow:Assets written to: /app/_data/artist_data/models/test_arch/tripl_4/model_0.09447911381721497/assets\n"
     ]
    },
    {
     "name": "stderr",
     "output_type": "stream",
     "text": [
      "INFO:tensorflow:Assets written to: /app/_data/artist_data/models/test_arch/tripl_4/model_0.09447911381721497/assets\n"
     ]
    },
    {
     "name": "stdout",
     "output_type": "stream",
     "text": [
      "min_val_loss = 0.09447911381721497, model saved to /app/_data/artist_data/models/test_arch/tripl_4/model_0.09447911381721497\n"
     ]
    }
   ],
   "source": [
    "save_params(mod_dir, siamese_net, history, cfg, loss=\"tripl\")"
   ]
  },
  {
   "cell_type": "code",
   "execution_count": 27,
   "id": "f9c26006-4501-40cb-8b40-7e32d9669745",
   "metadata": {},
   "outputs": [
    {
     "data": {
      "text/plain": [
       "['anchor', 'positive', 'negative', 'embedding', 'concatenate']"
      ]
     },
     "execution_count": 27,
     "metadata": {},
     "output_type": "execute_result"
    }
   ],
   "source": [
    "[x.name for x in siamese_net.layers]"
   ]
  },
  {
   "cell_type": "code",
   "execution_count": 28,
   "id": "9d917150-a016-4275-8838-150201564168",
   "metadata": {},
   "outputs": [],
   "source": [
    "# siamese_net(imgs[:3]).get_output('embedding')"
   ]
  },
  {
   "cell_type": "code",
   "execution_count": 29,
   "id": "194ac754-6a15-42c4-8f5f-f25ac68261c4",
   "metadata": {},
   "outputs": [],
   "source": [
    "embedding_net.set_weights(siamese_net.weights)"
   ]
  },
  {
   "cell_type": "code",
   "execution_count": 30,
   "id": "73639905-f7ec-4a3c-a447-e13ec82d843e",
   "metadata": {},
   "outputs": [
    {
     "data": {
      "text/html": [
       "<div>\n",
       "<style scoped>\n",
       "    .dataframe tbody tr th:only-of-type {\n",
       "        vertical-align: middle;\n",
       "    }\n",
       "\n",
       "    .dataframe tbody tr th {\n",
       "        vertical-align: top;\n",
       "    }\n",
       "\n",
       "    .dataframe thead th {\n",
       "        text-align: right;\n",
       "    }\n",
       "</style>\n",
       "<table border=\"1\" class=\"dataframe\">\n",
       "  <thead>\n",
       "    <tr style=\"text-align: right;\">\n",
       "      <th></th>\n",
       "      <th>trackid</th>\n",
       "      <th>artistid</th>\n",
       "      <th>archive_features_path</th>\n",
       "      <th>path</th>\n",
       "      <th>max</th>\n",
       "      <th>min</th>\n",
       "      <th>mean</th>\n",
       "      <th>width</th>\n",
       "      <th>height</th>\n",
       "      <th>artistid_count</th>\n",
       "      <th>fold</th>\n",
       "    </tr>\n",
       "  </thead>\n",
       "  <tbody>\n",
       "    <tr>\n",
       "      <th>0</th>\n",
       "      <td>105739</td>\n",
       "      <td>4</td>\n",
       "      <td>4/9/3/105739.npy</td>\n",
       "      <td>/app/_data/artist_data/train_features/4/9/3/10...</td>\n",
       "      <td>4.224643</td>\n",
       "      <td>0.0</td>\n",
       "      <td>0.444227</td>\n",
       "      <td>81.0</td>\n",
       "      <td>512.0</td>\n",
       "      <td>10</td>\n",
       "      <td>2.0</td>\n",
       "    </tr>\n",
       "    <tr>\n",
       "      <th>1</th>\n",
       "      <td>4</td>\n",
       "      <td>4</td>\n",
       "      <td>4/4/0/4.npy</td>\n",
       "      <td>/app/_data/artist_data/train_features/4/4/0/4.npy</td>\n",
       "      <td>3.786215</td>\n",
       "      <td>0.0</td>\n",
       "      <td>0.444095</td>\n",
       "      <td>81.0</td>\n",
       "      <td>512.0</td>\n",
       "      <td>10</td>\n",
       "      <td>2.0</td>\n",
       "    </tr>\n",
       "    <tr>\n",
       "      <th>2</th>\n",
       "      <td>868</td>\n",
       "      <td>4</td>\n",
       "      <td>4/8/6/868.npy</td>\n",
       "      <td>/app/_data/artist_data/train_features/4/8/6/86...</td>\n",
       "      <td>3.098363</td>\n",
       "      <td>0.0</td>\n",
       "      <td>0.370418</td>\n",
       "      <td>81.0</td>\n",
       "      <td>512.0</td>\n",
       "      <td>10</td>\n",
       "      <td>2.0</td>\n",
       "    </tr>\n",
       "    <tr>\n",
       "      <th>3</th>\n",
       "      <td>16333</td>\n",
       "      <td>4</td>\n",
       "      <td>4/3/3/16333.npy</td>\n",
       "      <td>/app/_data/artist_data/train_features/4/3/3/16...</td>\n",
       "      <td>5.220033</td>\n",
       "      <td>0.0</td>\n",
       "      <td>0.367171</td>\n",
       "      <td>73.0</td>\n",
       "      <td>512.0</td>\n",
       "      <td>10</td>\n",
       "      <td>2.0</td>\n",
       "    </tr>\n",
       "    <tr>\n",
       "      <th>4</th>\n",
       "      <td>68038</td>\n",
       "      <td>4</td>\n",
       "      <td>4/8/3/68038.npy</td>\n",
       "      <td>/app/_data/artist_data/train_features/4/8/3/68...</td>\n",
       "      <td>4.476882</td>\n",
       "      <td>0.0</td>\n",
       "      <td>0.419996</td>\n",
       "      <td>81.0</td>\n",
       "      <td>512.0</td>\n",
       "      <td>10</td>\n",
       "      <td>2.0</td>\n",
       "    </tr>\n",
       "    <tr>\n",
       "      <th>...</th>\n",
       "      <td>...</td>\n",
       "      <td>...</td>\n",
       "      <td>...</td>\n",
       "      <td>...</td>\n",
       "      <td>...</td>\n",
       "      <td>...</td>\n",
       "      <td>...</td>\n",
       "      <td>...</td>\n",
       "      <td>...</td>\n",
       "      <td>...</td>\n",
       "      <td>...</td>\n",
       "    </tr>\n",
       "    <tr>\n",
       "      <th>27699</th>\n",
       "      <td>153876</td>\n",
       "      <td>18455</td>\n",
       "      <td>5/6/7/153876.npy</td>\n",
       "      <td>/app/_data/artist_data/train_features/5/6/7/15...</td>\n",
       "      <td>5.924749</td>\n",
       "      <td>0.0</td>\n",
       "      <td>0.441504</td>\n",
       "      <td>81.0</td>\n",
       "      <td>512.0</td>\n",
       "      <td>2</td>\n",
       "      <td>2.0</td>\n",
       "    </tr>\n",
       "    <tr>\n",
       "      <th>27700</th>\n",
       "      <td>151291</td>\n",
       "      <td>18461</td>\n",
       "      <td>1/1/9/151291.npy</td>\n",
       "      <td>/app/_data/artist_data/train_features/1/1/9/15...</td>\n",
       "      <td>4.962697</td>\n",
       "      <td>0.0</td>\n",
       "      <td>0.382900</td>\n",
       "      <td>81.0</td>\n",
       "      <td>512.0</td>\n",
       "      <td>2</td>\n",
       "      <td>2.0</td>\n",
       "    </tr>\n",
       "    <tr>\n",
       "      <th>27701</th>\n",
       "      <td>155004</td>\n",
       "      <td>18461</td>\n",
       "      <td>1/4/0/155004.npy</td>\n",
       "      <td>/app/_data/artist_data/train_features/1/4/0/15...</td>\n",
       "      <td>5.474594</td>\n",
       "      <td>0.0</td>\n",
       "      <td>0.382723</td>\n",
       "      <td>81.0</td>\n",
       "      <td>512.0</td>\n",
       "      <td>2</td>\n",
       "      <td>2.0</td>\n",
       "    </tr>\n",
       "    <tr>\n",
       "      <th>27702</th>\n",
       "      <td>161032</td>\n",
       "      <td>18467</td>\n",
       "      <td>7/2/3/161032.npy</td>\n",
       "      <td>/app/_data/artist_data/train_features/7/2/3/16...</td>\n",
       "      <td>6.289591</td>\n",
       "      <td>0.0</td>\n",
       "      <td>0.315962</td>\n",
       "      <td>81.0</td>\n",
       "      <td>512.0</td>\n",
       "      <td>2</td>\n",
       "      <td>2.0</td>\n",
       "    </tr>\n",
       "    <tr>\n",
       "      <th>27703</th>\n",
       "      <td>166713</td>\n",
       "      <td>18467</td>\n",
       "      <td>7/3/1/166713.npy</td>\n",
       "      <td>/app/_data/artist_data/train_features/7/3/1/16...</td>\n",
       "      <td>4.223980</td>\n",
       "      <td>0.0</td>\n",
       "      <td>0.439307</td>\n",
       "      <td>81.0</td>\n",
       "      <td>512.0</td>\n",
       "      <td>2</td>\n",
       "      <td>2.0</td>\n",
       "    </tr>\n",
       "  </tbody>\n",
       "</table>\n",
       "<p>27704 rows × 11 columns</p>\n",
       "</div>"
      ],
      "text/plain": [
       "       trackid  artistid archive_features_path  \\\n",
       "0       105739         4      4/9/3/105739.npy   \n",
       "1            4         4           4/4/0/4.npy   \n",
       "2          868         4         4/8/6/868.npy   \n",
       "3        16333         4       4/3/3/16333.npy   \n",
       "4        68038         4       4/8/3/68038.npy   \n",
       "...        ...       ...                   ...   \n",
       "27699   153876     18455      5/6/7/153876.npy   \n",
       "27700   151291     18461      1/1/9/151291.npy   \n",
       "27701   155004     18461      1/4/0/155004.npy   \n",
       "27702   161032     18467      7/2/3/161032.npy   \n",
       "27703   166713     18467      7/3/1/166713.npy   \n",
       "\n",
       "                                                    path       max  min  \\\n",
       "0      /app/_data/artist_data/train_features/4/9/3/10...  4.224643  0.0   \n",
       "1      /app/_data/artist_data/train_features/4/4/0/4.npy  3.786215  0.0   \n",
       "2      /app/_data/artist_data/train_features/4/8/6/86...  3.098363  0.0   \n",
       "3      /app/_data/artist_data/train_features/4/3/3/16...  5.220033  0.0   \n",
       "4      /app/_data/artist_data/train_features/4/8/3/68...  4.476882  0.0   \n",
       "...                                                  ...       ...  ...   \n",
       "27699  /app/_data/artist_data/train_features/5/6/7/15...  5.924749  0.0   \n",
       "27700  /app/_data/artist_data/train_features/1/1/9/15...  4.962697  0.0   \n",
       "27701  /app/_data/artist_data/train_features/1/4/0/15...  5.474594  0.0   \n",
       "27702  /app/_data/artist_data/train_features/7/2/3/16...  6.289591  0.0   \n",
       "27703  /app/_data/artist_data/train_features/7/3/1/16...  4.223980  0.0   \n",
       "\n",
       "           mean  width  height  artistid_count  fold  \n",
       "0      0.444227   81.0   512.0              10   2.0  \n",
       "1      0.444095   81.0   512.0              10   2.0  \n",
       "2      0.370418   81.0   512.0              10   2.0  \n",
       "3      0.367171   73.0   512.0              10   2.0  \n",
       "4      0.419996   81.0   512.0              10   2.0  \n",
       "...         ...    ...     ...             ...   ...  \n",
       "27699  0.441504   81.0   512.0               2   2.0  \n",
       "27700  0.382900   81.0   512.0               2   2.0  \n",
       "27701  0.382723   81.0   512.0               2   2.0  \n",
       "27702  0.315962   81.0   512.0               2   2.0  \n",
       "27703  0.439307   81.0   512.0               2   2.0  \n",
       "\n",
       "[27704 rows x 11 columns]"
      ]
     },
     "execution_count": 30,
     "metadata": {},
     "output_type": "execute_result"
    }
   ],
   "source": [
    "val_df"
   ]
  },
  {
   "cell_type": "code",
   "execution_count": 31,
   "id": "2899c1c9-e355-4993-bdf6-f997ac2ff0b3",
   "metadata": {},
   "outputs": [],
   "source": [
    "class TestGenerator(keras.utils.Sequence):\n",
    "    def __init__(\n",
    "        self,\n",
    "        data,\n",
    "        img_size,\n",
    "        batch_size=32,\n",
    "        norm=False,\n",
    "        n_chanels=1,\n",
    "    ):\n",
    "        self.data = data.reset_index(drop=True)\n",
    "        self.img_size = img_size\n",
    "        self.batch_size = batch_size\n",
    "        self.norm = norm\n",
    "        self.n_chanels = n_chanels\n",
    "        self.default_img_size = (512, 81)\n",
    "\n",
    "    def __len__(self):\n",
    "        return self.data.shape[0] // self.batch_size\n",
    "\n",
    "    def load_img(self, path):\n",
    "        img = np.load(path).astype(\"float32\")\n",
    "        if self.norm:\n",
    "            img -= img.min()\n",
    "            img /= img.max()\n",
    "        if self.img_size < self.default_img_size:\n",
    "            wpad = (img.shape[1] - self.img_size[1]) // 2\n",
    "            img = img[:, wpad : wpad + self.img_size[1]]\n",
    "        if img.shape != self.img_size:\n",
    "            wpad = self.img_size[1] - img.shape[1]\n",
    "            wpad_l = wpad // 2\n",
    "            wpad_r = wpad - wpad_l\n",
    "            img = np.pad(\n",
    "                img,\n",
    "                pad_width=((0, 0), (wpad_l, wpad_r)),\n",
    "                mode=\"constant\",\n",
    "                constant_values=0,\n",
    "            )\n",
    "        img = np.expand_dims(img, -1)\n",
    "        if self.n_chanels == 3:\n",
    "            img = np.concatenate([img, img, img], -1)\n",
    "        return img\n",
    "\n",
    "    def __getitem__(self, batch_ix):\n",
    "        imgs = np.zeros([self.batch_size, *self.img_size, self.n_chanels])\n",
    "\n",
    "        for i in range(self.batch_size):\n",
    "            ix = i + self.batch_size * batch_ix\n",
    "            img = self.load_img(self.data.loc[ix, \"path\"])\n",
    "            imgs[i] = img\n",
    "\n",
    "        return imgs"
   ]
  },
  {
   "cell_type": "code",
   "execution_count": 32,
   "id": "57975f79-a3d5-440a-a8b4-de94b0558407",
   "metadata": {},
   "outputs": [],
   "source": [
    "def pairwise_distances(array):\n",
    "    dists = tf.add(\n",
    "        tf.reduce_sum(tf.square(array), axis=[1], keepdims=True),\n",
    "        tf.reduce_sum(tf.square(tf.transpose(array)), axis=[0], keepdims=True),\n",
    "    ) - 2.0 * tf.matmul(array, tf.transpose(array))\n",
    "    return dists"
   ]
  },
  {
   "cell_type": "code",
   "execution_count": 33,
   "id": "98a299a6-2c41-40cc-b143-2a42b4b90b0e",
   "metadata": {},
   "outputs": [],
   "source": [
    "def choose_100(\n",
    "    prediction,\n",
    "    df,\n",
    "):\n",
    "    dists = pairwise_distances(prediction)\n",
    "    neigh = {}\n",
    "    for ix in tqdm(range(dists.shape[0])):\n",
    "        trackid = df.loc[ix, \"trackid\"]\n",
    "        nearest_100 = np.argsort(dists[ix])[:101]\n",
    "        tracks_100 = df.loc[nearest_100, \"trackid\"].tolist()\n",
    "        neigh[trackid] = {\n",
    "            \"tracks\": [x for x in tracks_100 if x != trackid],\n",
    "            \"atrtistid\": df.loc[ix, \"artistid\"],\n",
    "            \"artists\": df.loc[nearest_100, \"artistid\"].tolist(),\n",
    "        }\n",
    "\n",
    "    return neigh"
   ]
  },
  {
   "cell_type": "code",
   "execution_count": 34,
   "id": "c82e085c-3e7d-42c5-80c6-8de7d52c9db7",
   "metadata": {},
   "outputs": [],
   "source": [
    "test_gen = TestGenerator(\n",
    "    data=val_df,\n",
    "    img_size=cfg.img_size,\n",
    "    batch_size=1,\n",
    "    norm=False,\n",
    "    n_chanels=1,\n",
    ")"
   ]
  },
  {
   "cell_type": "code",
   "execution_count": 35,
   "id": "f89f2a47-2009-41f3-93d2-1a4a741271b9",
   "metadata": {},
   "outputs": [
    {
     "name": "stdout",
     "output_type": "stream",
     "text": [
      "27704/27704 [==============================] - 162s 6ms/step\n"
     ]
    }
   ],
   "source": [
    "pred_val = np.squeeze(embedding_net.predict(test_gen))"
   ]
  },
  {
   "cell_type": "code",
   "execution_count": 36,
   "id": "d39ab843-cc8a-48cc-add8-bcbcd526f085",
   "metadata": {},
   "outputs": [
    {
     "name": "stderr",
     "output_type": "stream",
     "text": [
      "100% 27704/27704 [01:30<00:00, 307.25it/s]\n"
     ]
    }
   ],
   "source": [
    "neigh = choose_100(pred_val, val_df)"
   ]
  },
  {
   "cell_type": "code",
   "execution_count": 37,
   "id": "8d6a4b59-a6d2-4cf4-8181-56de939fb607",
   "metadata": {},
   "outputs": [],
   "source": [
    "dists = pairwise_distances(pred_val)"
   ]
  },
  {
   "cell_type": "code",
   "execution_count": 38,
   "id": "9c4afa99-1ed3-49e0-ba59-f87323f2d064",
   "metadata": {},
   "outputs": [
    {
     "data": {
      "text/plain": [
       "<AxesSubplot:>"
      ]
     },
     "execution_count": 38,
     "metadata": {},
     "output_type": "execute_result"
    },
    {
     "data": {
      "image/png": "[encoded data removed]",
      "text/plain": [
       "<Figure size 640x480 with 2 Axes>"
      ]
     },
     "metadata": {
      "image/png": {
       "height": 422,
       "width": 532
      }
     },
     "output_type": "display_data"
    }
   ],
   "source": [
    "sns.heatmap(pairwise_distances(pred_val[900:1000]))"
   ]
  },
  {
   "cell_type": "code",
   "execution_count": 39,
   "id": "b8cdf4f5-1612-49f9-9fe6-81cc32fa8938",
   "metadata": {},
   "outputs": [],
   "source": [
    "l = []\n",
    "for k in neigh.keys():\n",
    "    l.append(len([1 for x in neigh[k][\"artists\"] if x == neigh[k][\"atrtistid\"]]))"
   ]
  },
  {
   "cell_type": "code",
   "execution_count": 40,
   "id": "366f5e5e-a1bd-48f9-965d-6dcc23ecd81d",
   "metadata": {},
   "outputs": [
    {
     "data": {
      "image/png": "[encoded data removed]",
      "text/plain": [
       "<Figure size 640x480 with 1 Axes>"
      ]
     },
     "metadata": {
      "image/png": {
       "height": 413,
       "width": 561
      }
     },
     "output_type": "display_data"
    }
   ],
   "source": [
    "plt.hist(l)\n",
    "plt.show();"
   ]
  },
  {
   "cell_type": "code",
   "execution_count": 41,
   "id": "a5339759-47b1-49cb-9621-43b46062c3f2",
   "metadata": {},
   "outputs": [],
   "source": [
    "def position_discounter(position):\n",
    "    return 1.0 / np.log2(position + 1)\n",
    "\n",
    "\n",
    "def get_ideal_dcg(relevant_items_count, top_size):\n",
    "    dcg = 0.0\n",
    "    for result_indx in range(min(top_size, relevant_items_count)):\n",
    "        position = result_indx + 1\n",
    "        dcg += position_discounter(position)\n",
    "    return dcg\n",
    "\n",
    "\n",
    "def compute_dcg(query_trackid, ranked_list, track2artist_map):\n",
    "    query_artistid = track2artist_map[query_trackid]\n",
    "    dcg = 0.0\n",
    "    for result_indx, result_trackid in enumerate(ranked_list):\n",
    "        position = result_indx + 1\n",
    "        discounted_position = position_discounter(position)\n",
    "        result_artistid = track2artist_map[result_trackid]\n",
    "        if result_artistid == query_artistid:\n",
    "            dcg += discounted_position\n",
    "    return dcg"
   ]
  },
  {
   "cell_type": "code",
   "execution_count": 42,
   "id": "c526802d-6bd3-4158-8ffc-8c98323f303f",
   "metadata": {},
   "outputs": [],
   "source": [
    "def eval_submission(tracks_meta, submission, top_size=100):\n",
    "    track2artist_map = tracks_meta.set_index(\"trackid\")[\"artistid\"].to_dict()\n",
    "    track2subset_map = tracks_meta.set_index(\"trackid\")[\"subset\"].to_dict()\n",
    "    artist2tracks_map = tracks_meta.groupby(\"artistid\").agg(list)[\"trackid\"].to_dict()\n",
    "\n",
    "    ndcg_list = defaultdict(list)\n",
    "    for _, row in tracks_meta.iterrows():\n",
    "        query_trackid = row[\"trackid\"]\n",
    "        ranked_list = submission[query_trackid][\"tracks\"]\n",
    "        query_artistid = track2artist_map[query_trackid]\n",
    "        query_artist_tracks_count = len(artist2tracks_map[query_artistid])\n",
    "        ideal_dcg = get_ideal_dcg(query_artist_tracks_count - 1, top_size=top_size)\n",
    "        dcg = compute_dcg(query_trackid, ranked_list, track2artist_map)\n",
    "        if ideal_dcg != 0:\n",
    "            ndcg_list[track2subset_map[query_trackid]].append(dcg / ideal_dcg)\n",
    "\n",
    "    result = {}\n",
    "    for subset, values in ndcg_list.items():\n",
    "        result[subset] = np.mean(values)\n",
    "    return result"
   ]
  },
  {
   "cell_type": "code",
   "execution_count": 43,
   "id": "ce28fb5c-4f9a-43d3-a0f2-b1d3dc55a4cb",
   "metadata": {},
   "outputs": [],
   "source": [
    "val_df[\"subset\"] = \"0\"\n",
    "from collections import defaultdict"
   ]
  },
  {
   "cell_type": "code",
   "execution_count": 44,
   "id": "2b2ada34-dfcc-4a28-8603-0d2ca104dce0",
   "metadata": {},
   "outputs": [],
   "source": [
    "r = eval_submission(val_df, neigh)"
   ]
  },
  {
   "cell_type": "code",
   "execution_count": 45,
   "id": "b759de9d-ebe9-4702-8eab-88820882c533",
   "metadata": {},
   "outputs": [
    {
     "data": {
      "text/plain": [
       "{'0': 0.1410507742300167}"
      ]
     },
     "execution_count": 45,
     "metadata": {},
     "output_type": "execute_result"
    }
   ],
   "source": [
    "r"
   ]
  },
  {
   "cell_type": "code",
   "execution_count": null,
   "id": "823a04b0-7c5b-40cf-b7b8-96e98dbb6ca1",
   "metadata": {},
   "outputs": [],
   "source": []
  }
 ],
 "metadata": {
  "kernelspec": {
   "display_name": "Python 3 (ipykernel)",
   "language": "python",
   "name": "python3"
  },
  "language_info": {
   "codemirror_mode": {
    "name": "ipython",
    "version": 3
   },
   "file_extension": ".py",
   "mimetype": "text/x-python",
   "name": "python",
   "nbconvert_exporter": "python",
   "pygments_lexer": "ipython3",
   "version": "3.8.10"
  }
 },
 "nbformat": 4,
 "nbformat_minor": 5
}
