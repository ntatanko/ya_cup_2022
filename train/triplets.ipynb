{
 "cells": [
  {
   "cell_type": "code",
   "execution_count": 1,
   "id": "613d9ec3-a9b1-4a62-8c5d-f4b4db659e7a",
   "metadata": {},
   "outputs": [],
   "source": [
    "import glob\n",
    "import json\n",
    "import os\n",
    "import random as rnd\n",
    "import shutil\n",
    "\n",
    "import keras.backend as K\n",
    "import matplotlib.pyplot as plt\n",
    "import numpy as np\n",
    "import pandas as pd\n",
    "import seaborn as sns\n",
    "import tensorflow as tf\n",
    "import tensorflow_addons as tfa\n",
    "from IPython.core.interactiveshell import InteractiveShell\n",
    "from sklearn.model_selection import StratifiedGroupKFold\n",
    "from tensorflow import keras\n",
    "from tqdm import tqdm\n",
    "\n",
    "from src.utils import (\n",
    "    DataGenerator,\n",
    "    TripletsGenerator,\n",
    "    euclidean_distance,\n",
    "    loss,\n",
    "    make_callbacks,\n",
    "    make_model,\n",
    "    plot_history,\n",
    "    plot_triplets,\n",
    ")\n",
    "\n",
    "InteractiveShell.ast_node_interactivity = \"all\""
   ]
  },
  {
   "cell_type": "code",
   "execution_count": 2,
   "id": "4c221a4c-fb6f-4ab0-8c4e-4245690a574d",
   "metadata": {},
   "outputs": [],
   "source": [
    "class CFG:\n",
    "    def __init__(\n",
    "        self,\n",
    "    ):\n",
    "        self.seed = 39\n",
    "        self.batch_size = 64\n",
    "        self.img_size = (512, 60)\n",
    "        self.crop = self.img_size < (512, 81)\n",
    "        self.n_chanels = 1\n",
    "        self.n_folds = 6\n",
    "        self.fold = 2\n",
    "        self.norm = False\n",
    "        self.emb_len = 1024\n",
    "        self.kernel_size = (5, 2)\n",
    "        self.act_fn = \"relu\"\n",
    "        self.n_epochs = 60\n",
    "        self.input_shape = (*self.img_size, self.n_chanels)"
   ]
  },
  {
   "cell_type": "code",
   "execution_count": 3,
   "id": "152b6542-6d29-49d8-a55d-1a61cfed1a1b",
   "metadata": {},
   "outputs": [],
   "source": [
    "cfg = CFG()"
   ]
  },
  {
   "cell_type": "code",
   "execution_count": 4,
   "id": "6ff40dd7-fe9d-4536-bac2-2e38baced840",
   "metadata": {},
   "outputs": [
    {
     "data": {
      "text/plain": [
       "(512, 60, 1)"
      ]
     },
     "execution_count": 4,
     "metadata": {},
     "output_type": "execute_result"
    }
   ],
   "source": [
    "cfg.input_shape"
   ]
  },
  {
   "cell_type": "code",
   "execution_count": 5,
   "id": "b2593472-68ff-4c88-b958-b379ce0b57de",
   "metadata": {},
   "outputs": [],
   "source": [
    "root_dir = \"/app/_data/artist_data/\"\n",
    "mod_dir = \"/app/_data/artist_data/models/test_arch/tripl_6/\""
   ]
  },
  {
   "cell_type": "code",
   "execution_count": 6,
   "id": "50fe69f1-1f47-4da1-a15d-01e847857ef4",
   "metadata": {},
   "outputs": [],
   "source": [
    "train = pd.read_csv(os.path.join(root_dir, \"train.csv\"))\n",
    "train = train[train[\"artistid_count\"] != 1].reset_index(drop=True)"
   ]
  },
  {
   "cell_type": "markdown",
   "id": "f97996a5-ed11-4561-89da-950c3bf4d671",
   "metadata": {
    "tags": []
   },
   "source": [
    "## train_val_split"
   ]
  },
  {
   "cell_type": "code",
   "execution_count": 7,
   "id": "aa6abc0f-fba9-4474-9c50-fc19324c93a6",
   "metadata": {},
   "outputs": [],
   "source": [
    "gkf = StratifiedGroupKFold(n_splits=cfg.n_folds, shuffle=True, random_state=cfg.seed)\n",
    "for n, (train_ids, val_ids) in enumerate(\n",
    "    gkf.split(\n",
    "        X=train[[\"artistid\", \"artistid_count\"]],\n",
    "        y=train[\"artistid_count\"],\n",
    "        groups=train[\"artistid\"],\n",
    "    )\n",
    "):\n",
    "    train.loc[val_ids, \"fold\"] = n"
   ]
  },
  {
   "cell_type": "code",
   "execution_count": 8,
   "id": "824b718a-4327-45fc-80e0-44a3fbb7a678",
   "metadata": {},
   "outputs": [],
   "source": [
    "train_df = train[train[\"fold\"] != cfg.fold].reset_index(drop=True)\n",
    "val_df = train[train[\"fold\"] == cfg.fold].reset_index(drop=True)"
   ]
  },
  {
   "cell_type": "markdown",
   "id": "ea902f56-509c-467a-b691-a0011e522aba",
   "metadata": {},
   "source": [
    "## DataGenerator"
   ]
  },
  {
   "cell_type": "code",
   "execution_count": 9,
   "id": "75ad39b6-4b49-4f4b-a0bf-e6c087301464",
   "metadata": {},
   "outputs": [],
   "source": [
    "# artist_ids = train_df[\"artistid\"].unique().tolist()\n",
    "# path2artist = train_df.set_index(\"path\")[\"artistid\"].to_dict()\n",
    "# track2artist = train_df.set_index(\"trackid\")[\"artistid\"].to_dict()\n",
    "# artis2track = train_df.groupby(\"artistid\").agg(list)[\"trackid\"].to_dict()\n",
    "# artis2path = train_df.groupby(\"artistid\").agg(list)[\"path\"].to_dict()"
   ]
  },
  {
   "cell_type": "code",
   "execution_count": 10,
   "id": "3af40ea9-661e-4401-97fc-4c46d03be0bf",
   "metadata": {},
   "outputs": [],
   "source": [
    "train_gen = TripletsGenerator(\n",
    "    data=train_df,\n",
    "    img_size=cfg.img_size,\n",
    "    batch_size=cfg.batch_size,\n",
    "    norm=cfg.norm,\n",
    "    n_chanels=cfg.n_chanels,\n",
    "    shuffle=True,\n",
    "    debug=False,\n",
    ")\n",
    "val_gen = TripletsGenerator(\n",
    "    data=val_df,\n",
    "    img_size=cfg.img_size,\n",
    "    batch_size=cfg.batch_size,\n",
    "    norm=cfg.norm,\n",
    "    n_chanels=cfg.n_chanels,\n",
    "    shuffle=True,\n",
    "    debug=False,\n",
    ")"
   ]
  },
  {
   "cell_type": "code",
   "execution_count": 11,
   "id": "9ba8418a-913c-4291-812f-bb368fbb1b40",
   "metadata": {},
   "outputs": [
    {
     "data": {
      "text/plain": [
       "(64, 512, 60, 1)"
      ]
     },
     "execution_count": 11,
     "metadata": {},
     "output_type": "execute_result"
    }
   ],
   "source": [
    "imgs, y = train_gen.__getitem__(9)\n",
    "imgs[\"anchor\"].shape"
   ]
  },
  {
   "cell_type": "code",
   "execution_count": 12,
   "id": "cb5548df-c738-4dd6-9088-978e4192dc50",
   "metadata": {},
   "outputs": [],
   "source": [
    "# plot_triplets(df=train, cfg=cfg, n_examples=5)"
   ]
  },
  {
   "cell_type": "markdown",
   "id": "8bccba0b-96f1-4953-b7b9-fb3d032806e9",
   "metadata": {},
   "source": [
    "## Model"
   ]
  },
  {
   "cell_type": "code",
   "execution_count": 13,
   "id": "2c344844-7c69-494a-a0c5-12eef020feaf",
   "metadata": {},
   "outputs": [],
   "source": [
    "# def embNet(input_shape, dropout_rate=0.1, embedding_len=1024, activation_fn=\"relu\"):\n",
    "#     base_model = keras.applications.mobilenet_v2.MobileNetV2(\n",
    "#         input_shape=input_shape,\n",
    "#         alpha=1.0,\n",
    "#         include_top=False,\n",
    "#         weights=None,\n",
    "#         pooling=None,\n",
    "#     )\n",
    "#     # base_model = keras.applications.resnet50.ResNet50(\n",
    "#     #     include_top=False,\n",
    "#     #     weights=None,\n",
    "#     #     input_tensor=None,\n",
    "#     #     input_shape=input_shape,\n",
    "#     #     pooling=None,\n",
    "#     # )\n",
    "#     input = keras.layers.Input(shape=input_shape)\n",
    "#     x=keras.applications.mobilenet.preprocess_input(input)\n",
    "#     base_model = keras.applications.mobilenet_v2.MobileNetV2(\n",
    "#         input_tensor=x,\n",
    "#         alpha=1.0,\n",
    "#         include_top=False,\n",
    "#         weights=None,\n",
    "#         pooling=None,\n",
    "#     )\n",
    "#     x = base_model(x)\n",
    "#     x = keras.layers.Flatten()(x)\n",
    "#     x = keras.layers.Dense(embedding_len * 4, activation=activation_fn, name=\"dense_1\")(\n",
    "#         x\n",
    "#     )\n",
    "#     x = keras.layers.Dense(embedding_len * 2, activation=activation_fn, name=\"dense_2\")(\n",
    "#         x\n",
    "#     )\n",
    "#     x = keras.layers.Dense(embedding_len, activation=None, name=\"dense_3\")(x)\n",
    "#     x = keras.layers.Reshape((1, -1))(x)\n",
    "#     embedding_net = keras.Model(inputs=base_model.input, outputs=x, name=\"embedding\")\n",
    "#     return embedding_net\n",
    "# embedding_net = embNet(\n",
    "#     input_shape=cfg.input_shape,\n",
    "#     dropout_rate=0.1,\n",
    "#     embedding_len=cfg.emb_len,\n",
    "#     activation_fn=\"relu\",\n",
    "# )\n",
    "# embedding_net.summary()"
   ]
  },
  {
   "cell_type": "code",
   "execution_count": 14,
   "id": "5b015ed6-0ddb-4aab-b036-62f5c8d43517",
   "metadata": {},
   "outputs": [],
   "source": [
    "def embNet(\n",
    "    input_shape,\n",
    "    kernel_size=3,\n",
    "    dropout_rate=0.1,\n",
    "    embedding_len=1024,\n",
    "    activation_fn=\"relu\",\n",
    "    padding=\"valid\",\n",
    "    dense_activation=\"relu\",\n",
    "):\n",
    "    base_model = tf.keras.models.Sequential(\n",
    "        [\n",
    "            keras.layers.Conv2D(\n",
    "                filters=1,\n",
    "                kernel_size=kernel_size,\n",
    "                activation=activation_fn,\n",
    "                input_shape=input_shape,\n",
    "                padding=padding,\n",
    "                name=\"conv_1\",\n",
    "            ),\n",
    "            keras.layers.Conv2D(\n",
    "                filters=1,\n",
    "                kernel_size=kernel_size,\n",
    "                activation=activation_fn,\n",
    "                padding=padding,\n",
    "                name=\"conv_2\",\n",
    "            ),\n",
    "            keras.layers.Dropout(rate=dropout_rate, name=\"dropout1\"),\n",
    "            keras.layers.MaxPooling2D(\n",
    "                pool_size=(2, 2), strides=1, padding=\"same\", name=\"max_1\"\n",
    "            ),\n",
    "            keras.layers.Conv2D(\n",
    "                filters=1,\n",
    "                kernel_size=kernel_size,\n",
    "                activation=activation_fn,\n",
    "                padding=padding,\n",
    "                name=\"conv_3\",\n",
    "            ),\n",
    "            keras.layers.Conv2D(\n",
    "                filters=1,\n",
    "                kernel_size=kernel_size,\n",
    "                activation=activation_fn,\n",
    "                padding=padding,\n",
    "                name=\"conv_4\",\n",
    "            ),\n",
    "            keras.layers.Dropout(rate=dropout_rate, name=\"dropout2\"),\n",
    "            keras.layers.MaxPooling2D(\n",
    "                pool_size=(2, 2), strides=1, padding=\"same\", name=\"max_2\"\n",
    "            ),\n",
    "            keras.layers.Conv2D(\n",
    "                filters=1,\n",
    "                kernel_size=kernel_size,\n",
    "                activation=activation_fn,\n",
    "                padding=padding,\n",
    "                name=\"conv_5\",\n",
    "            ),\n",
    "            keras.layers.Conv2D(\n",
    "                filters=1,\n",
    "                kernel_size=kernel_size,\n",
    "                activation=activation_fn,\n",
    "                padding=padding,\n",
    "                name=\"conv_6\",\n",
    "            ),\n",
    "            keras.layers.Dropout(rate=dropout_rate, name=\"dropout3\"),\n",
    "            keras.layers.MaxPooling2D(\n",
    "                pool_size=(2, 2), strides=1, padding=\"same\", name=\"max_3\"\n",
    "            ),\n",
    "            keras.layers.Flatten(name=\"flatten_base\"),\n",
    "            keras.layers.Dense(embedding_len, activation=None, name=\"dense_base\"),\n",
    "        ]\n",
    "    )\n",
    "    x = keras.layers.Reshape((1, -1))(base_model.output)\n",
    "    embedding_net = keras.Model(inputs=base_model.input, outputs=x, name=\"embedding\")\n",
    "    return embedding_net"
   ]
  },
  {
   "cell_type": "code",
   "execution_count": 15,
   "id": "fed4cff2-d1ea-44fb-b607-225ff847b9ca",
   "metadata": {},
   "outputs": [],
   "source": [
    "embedding_net = embNet(\n",
    "    input_shape=cfg.input_shape,\n",
    "    kernel_size=3,\n",
    "    dropout_rate=0.1,\n",
    "    embedding_len=cfg.emb_len,\n",
    "    activation_fn=\"relu\",\n",
    "    padding=\"valid\",\n",
    "    dense_activation=\"relu\",\n",
    ")"
   ]
  },
  {
   "cell_type": "code",
   "execution_count": 16,
   "id": "ac6f951a-29f9-41e8-af7d-d5412d327c18",
   "metadata": {},
   "outputs": [
    {
     "name": "stdout",
     "output_type": "stream",
     "text": [
      "Model: \"embedding\"\n",
      "_________________________________________________________________\n",
      " Layer (type)                Output Shape              Param #   \n",
      "=================================================================\n",
      " conv_1_input (InputLayer)   [(None, 512, 60, 1)]      0         \n",
      "                                                                 \n",
      " conv_1 (Conv2D)             (None, 510, 58, 1)        10        \n",
      "                                                                 \n",
      " conv_2 (Conv2D)             (None, 508, 56, 1)        10        \n",
      "                                                                 \n",
      " dropout1 (Dropout)          (None, 508, 56, 1)        0         \n",
      "                                                                 \n",
      " max_1 (MaxPooling2D)        (None, 508, 56, 1)        0         \n",
      "                                                                 \n",
      " conv_3 (Conv2D)             (None, 506, 54, 1)        10        \n",
      "                                                                 \n",
      " conv_4 (Conv2D)             (None, 504, 52, 1)        10        \n",
      "                                                                 \n",
      " dropout2 (Dropout)          (None, 504, 52, 1)        0         \n",
      "                                                                 \n",
      " max_2 (MaxPooling2D)        (None, 504, 52, 1)        0         \n",
      "                                                                 \n",
      " conv_5 (Conv2D)             (None, 502, 50, 1)        10        \n",
      "                                                                 \n",
      " conv_6 (Conv2D)             (None, 500, 48, 1)        10        \n",
      "                                                                 \n",
      " dropout3 (Dropout)          (None, 500, 48, 1)        0         \n",
      "                                                                 \n",
      " max_3 (MaxPooling2D)        (None, 500, 48, 1)        0         \n",
      "                                                                 \n",
      " flatten_base (Flatten)      (None, 24000)             0         \n",
      "                                                                 \n",
      " dense_base (Dense)          (None, 1024)              24577024  \n",
      "                                                                 \n",
      " reshape (Reshape)           (None, 1, 1024)           0         \n",
      "                                                                 \n",
      "=================================================================\n",
      "Total params: 24,577,084\n",
      "Trainable params: 24,577,084\n",
      "Non-trainable params: 0\n",
      "_________________________________________________________________\n"
     ]
    }
   ],
   "source": [
    "embedding_net.summary()"
   ]
  },
  {
   "cell_type": "code",
   "execution_count": 17,
   "id": "c522bfe9-9f48-4f6d-a304-2afdbb39f0c5",
   "metadata": {},
   "outputs": [],
   "source": [
    "def low_res_models(\n",
    "    kernel_size=(9, 9),\n",
    "    activation_fn=\"relu\",\n",
    "    padding=\"valid\",\n",
    "    input_shape=cfg.input_shape,\n",
    "    n_filters=4,\n",
    "    pool_size=7,\n",
    "    embedding_len=1024,\n",
    "):\n",
    "    low_res_1 = tf.keras.models.Sequential(\n",
    "        [\n",
    "            tf.keras.layers.Resizing(\n",
    "                height=60,\n",
    "                width=60,\n",
    "                interpolation=\"bilinear\",\n",
    "                crop_to_aspect_ratio=False,\n",
    "                input_shape=input_shape,\n",
    "                name=\"lr1_resize\",\n",
    "            ),\n",
    "            keras.layers.BatchNormalization(name=\"lr1_bnorm\"),\n",
    "            keras.layers.Conv2D(\n",
    "                filters=n_filters,\n",
    "                kernel_size=kernel_size,\n",
    "                activation=activation_fn,\n",
    "                padding=padding,\n",
    "                name=\"lr1_conv\",\n",
    "            ),\n",
    "            keras.layers.MaxPooling2D(\n",
    "                pool_size=pool_size, strides=1, padding=padding, name=\"lr1_maxpool\"\n",
    "            ),\n",
    "            keras.layers.Flatten(name=\"lr1_flatten\"),\n",
    "            keras.layers.Dense(embedding_len, activation=None, name=\"lr1_dense\"),\n",
    "            keras.layers.Reshape((1, -1), name=\"lr1_reshape\"),\n",
    "        ],\n",
    "        name=\"low_res_1\",\n",
    "    )\n",
    "    low_res_2 = tf.keras.models.Sequential(\n",
    "        [\n",
    "            tf.keras.layers.Resizing(\n",
    "                height=30,\n",
    "                width=30,\n",
    "                interpolation=\"bilinear\",\n",
    "                crop_to_aspect_ratio=False,\n",
    "                input_shape=input_shape,\n",
    "                name=\"lr2_resize\",\n",
    "            ),\n",
    "            keras.layers.BatchNormalization(name=\"lr2_bnorm\"),\n",
    "            keras.layers.Conv2D(\n",
    "                filters=n_filters,\n",
    "                kernel_size=kernel_size,\n",
    "                activation=activation_fn,\n",
    "                padding=padding,\n",
    "                name=\"lr2_conv\",\n",
    "            ),\n",
    "            keras.layers.MaxPooling2D(\n",
    "                pool_size=pool_size, strides=1, padding=padding, name=\"lr2_maxpool\"\n",
    "            ),\n",
    "            keras.layers.Flatten(name=\"lr2_flatten\"),\n",
    "            keras.layers.Dense(embedding_len, activation=None, name=\"lr2_dense\"),\n",
    "            keras.layers.Reshape((1, -1), name=\"lr2_reshape\"),\n",
    "        ],\n",
    "        name=\"low_res_2\",\n",
    "    )\n",
    "    return low_res_1, low_res_2"
   ]
  },
  {
   "cell_type": "code",
   "execution_count": 18,
   "id": "e021c7ed-55d5-4e92-b559-ccf675b83938",
   "metadata": {},
   "outputs": [],
   "source": [
    "low_res_1, low_res_2 = low_res_models(\n",
    "    kernel_size=(9, 9),\n",
    "    activation_fn=\"relu\",\n",
    "    padding=\"valid\",\n",
    "    input_shape=cfg.input_shape,\n",
    "    n_filters=4,\n",
    "    pool_size=7,\n",
    "    embedding_len=1024,\n",
    ")"
   ]
  },
  {
   "cell_type": "code",
   "execution_count": 19,
   "id": "45c92ccc-7a2f-4009-ba5d-05e59d5b2ac5",
   "metadata": {},
   "outputs": [
    {
     "name": "stdout",
     "output_type": "stream",
     "text": [
      "Model: \"low_res_1\"\n",
      "_________________________________________________________________\n",
      " Layer (type)                Output Shape              Param #   \n",
      "=================================================================\n",
      " lr1_resize (Resizing)       (None, 60, 60, 1)         0         \n",
      "                                                                 \n",
      " lr1_bnorm (BatchNormalizati  (None, 60, 60, 1)        4         \n",
      " on)                                                             \n",
      "                                                                 \n",
      " lr1_conv (Conv2D)           (None, 52, 52, 4)         328       \n",
      "                                                                 \n",
      " lr1_maxpool (MaxPooling2D)  (None, 46, 46, 4)         0         \n",
      "                                                                 \n",
      " lr1_flatten (Flatten)       (None, 8464)              0         \n",
      "                                                                 \n",
      " lr1_dense (Dense)           (None, 1024)              8668160   \n",
      "                                                                 \n",
      " lr1_reshape (Reshape)       (None, 1, 1024)           0         \n",
      "                                                                 \n",
      "=================================================================\n",
      "Total params: 8,668,492\n",
      "Trainable params: 8,668,490\n",
      "Non-trainable params: 2\n",
      "_________________________________________________________________\n"
     ]
    }
   ],
   "source": [
    "low_res_1.summary()"
   ]
  },
  {
   "cell_type": "code",
   "execution_count": 20,
   "id": "bdac1a10-60f4-4e34-b8fc-c49cae33fcf5",
   "metadata": {},
   "outputs": [
    {
     "name": "stdout",
     "output_type": "stream",
     "text": [
      "Model: \"low_res_2\"\n",
      "_________________________________________________________________\n",
      " Layer (type)                Output Shape              Param #   \n",
      "=================================================================\n",
      " lr2_resize (Resizing)       (None, 30, 30, 1)         0         \n",
      "                                                                 \n",
      " lr2_bnorm (BatchNormalizati  (None, 30, 30, 1)        4         \n",
      " on)                                                             \n",
      "                                                                 \n",
      " lr2_conv (Conv2D)           (None, 22, 22, 4)         328       \n",
      "                                                                 \n",
      " lr2_maxpool (MaxPooling2D)  (None, 16, 16, 4)         0         \n",
      "                                                                 \n",
      " lr2_flatten (Flatten)       (None, 1024)              0         \n",
      "                                                                 \n",
      " lr2_dense (Dense)           (None, 1024)              1049600   \n",
      "                                                                 \n",
      " lr2_reshape (Reshape)       (None, 1, 1024)           0         \n",
      "                                                                 \n",
      "=================================================================\n",
      "Total params: 1,049,932\n",
      "Trainable params: 1,049,930\n",
      "Non-trainable params: 2\n",
      "_________________________________________________________________\n"
     ]
    }
   ],
   "source": [
    "low_res_2.summary()"
   ]
  },
  {
   "cell_type": "code",
   "execution_count": null,
   "id": "1eb79367-bf27-4632-99e9-40b46f9ce5a1",
   "metadata": {},
   "outputs": [],
   "source": []
  },
  {
   "cell_type": "code",
   "execution_count": null,
   "id": "aaef8def-5b5b-4eed-9e8f-966702b051c2",
   "metadata": {},
   "outputs": [],
   "source": []
  },
  {
   "cell_type": "code",
   "execution_count": 21,
   "id": "4e613529-edc4-444f-b241-a1e052f246db",
   "metadata": {},
   "outputs": [
    {
     "data": {
      "text/plain": [
       "(None, 1, 1024)"
      ]
     },
     "execution_count": 21,
     "metadata": {},
     "output_type": "execute_result"
    }
   ],
   "source": [
    "embedding_net.output_shape"
   ]
  },
  {
   "cell_type": "code",
   "execution_count": 22,
   "id": "8d445b73-a4b5-4237-b1bc-3c6cbafad38d",
   "metadata": {},
   "outputs": [],
   "source": [
    "def siamese_model(input_shape, embedding_net, low_res_1, low_res_2):\n",
    "    input_anchor = keras.layers.Input(shape=input_shape, name=\"anchor\")\n",
    "    input_positive = keras.layers.Input(shape=input_shape, name=\"positive\")\n",
    "    input_negative = keras.layers.Input(shape=input_shape, name=\"negative\")\n",
    "\n",
    "    embedding_anchor = embedding_net(input_anchor)\n",
    "    embedding_positive = embedding_net(input_positive)\n",
    "    embedding_negative = embedding_net(input_negative)\n",
    "\n",
    "    lr1_anchor = low_res_1(input_anchor)\n",
    "    lr1_positive = low_res_1(input_positive)\n",
    "    lr1_negative = low_res_1(input_negative)\n",
    "\n",
    "    lr2_anchor = low_res_2(input_anchor)\n",
    "    lr2_positive = low_res_2(input_positive)\n",
    "    lr2_negative = low_res_2(input_negative)\n",
    "    anchor_output = tf.keras.layers.concatenate(\n",
    "        [embedding_anchor, lr1_anchor, lr2_anchor], axis=1\n",
    "    )\n",
    "    pos_output = tf.keras.layers.concatenate(\n",
    "        [embedding_positive, lr1_positive, lr2_positive], axis=1\n",
    "    )\n",
    "    neg_output = tf.keras.layers.concatenate(\n",
    "        [embedding_negative, lr1_negative, lr2_negative], axis=1\n",
    "    )\n",
    "    output = keras.layers.concatenate([anchor_output, pos_output, neg_output])\n",
    "    siamese_net = tf.keras.models.Model(\n",
    "        inputs=[input_anchor, input_positive, input_negative],\n",
    "        outputs=output,\n",
    "        name=\"siamese\",\n",
    "    )\n",
    "    return siamese_net"
   ]
  },
  {
   "cell_type": "code",
   "execution_count": 23,
   "id": "205ff43b-058a-4193-815f-994ec1f67bdf",
   "metadata": {},
   "outputs": [],
   "source": [
    "siamese_net = siamese_model(\n",
    "    input_shape=cfg.input_shape,\n",
    "    embedding_net=embedding_net,\n",
    "    low_res_1=low_res_1,\n",
    "    low_res_2=low_res_2,\n",
    ")"
   ]
  },
  {
   "cell_type": "code",
   "execution_count": 24,
   "id": "483ec938-ffab-43df-848f-07570e6e2009",
   "metadata": {},
   "outputs": [
    {
     "data": {
      "text/plain": [
       "(None, 3, 3072)"
      ]
     },
     "execution_count": 24,
     "metadata": {},
     "output_type": "execute_result"
    }
   ],
   "source": [
    "siamese_net.output_shape"
   ]
  },
  {
   "cell_type": "code",
   "execution_count": 25,
   "id": "03fa19f0-c6e0-4bdb-9a25-0c47d2e576cc",
   "metadata": {},
   "outputs": [],
   "source": [
    "def triplet_loss(margin=1):\n",
    "    def loss(y_true, y_pred):\n",
    "        anchor, positive, negative = (\n",
    "            y_pred[:, 0, ...],\n",
    "            y_pred[:, 1, ...],\n",
    "            y_pred[:, 2, ...],\n",
    "        )\n",
    "        positive_dist = tf.reduce_mean(tf.square(anchor - positive), axis=1)\n",
    "        negative_dist = tf.reduce_mean(tf.square(anchor - negative), axis=1)\n",
    "        return tf.maximum(positive_dist - negative_dist + margin, 0.0)\n",
    "\n",
    "    return loss"
   ]
  },
  {
   "cell_type": "code",
   "execution_count": 26,
   "id": "fc229508-c812-42dd-998d-4fe12de8376f",
   "metadata": {},
   "outputs": [],
   "source": [
    "callbacks = make_callbacks(\n",
    "    path=mod_dir, monitor=\"val_loss\", mode=\"min\", reduce_patience=10, stop_patience=20\n",
    ")"
   ]
  },
  {
   "cell_type": "code",
   "execution_count": 27,
   "id": "c4103bf6-b20e-46ff-9e01-03d7d3e7bf39",
   "metadata": {},
   "outputs": [],
   "source": [
    "siamese_net.compile(optimizer=tf.keras.optimizers.Adam(0.001), loss=triplet_loss())"
   ]
  },
  {
   "cell_type": "code",
   "execution_count": 28,
   "id": "29ede401-47d8-4007-a61a-28323092182b",
   "metadata": {},
   "outputs": [],
   "source": [
    "# keras.mixed_precision.set_global_policy(\"mixed_float16\")"
   ]
  },
  {
   "cell_type": "code",
   "execution_count": 30,
   "id": "7d36ab03-795f-4d0d-8a26-1efa11fd86d9",
   "metadata": {},
   "outputs": [],
   "source": [
    "# shutil.rmtree('/app/_data/artist_data/models/test_arch/tripl_5/backup')"
   ]
  },
  {
   "cell_type": "code",
   "execution_count": 31,
   "id": "f80a1975-898a-41c7-95cb-cf7a4b84b1e7",
   "metadata": {
    "tags": []
   },
   "outputs": [
    {
     "name": "stdout",
     "output_type": "stream",
     "text": [
      "Epoch 2/10\n",
      "1418/2179 [==================>...........] - ETA: 1:21 - loss: 0.5123\n",
      "Epoch 2: val_loss improved from inf to 0.00000, saving model to /app/_data/artist_data/models/test_arch/tripl_6/model.h5\n",
      "2179/2179 [==============================] - 294s 132ms/step - loss: 0.3334 - val_loss: 0.0000e+00 - lr: 0.0010\n",
      "Epoch 3/10\n",
      "2179/2179 [==============================] - ETA: 0s - loss: 0.0000e+00\n",
      "Epoch 3: val_loss did not improve from 0.00000\n",
      "2179/2179 [==============================] - 293s 134ms/step - loss: 0.0000e+00 - val_loss: 0.0000e+00 - lr: 0.0010\n",
      "Epoch 4/10\n",
      "2179/2179 [==============================] - ETA: 0s - loss: 0.0000e+00\n",
      "Epoch 4: val_loss did not improve from 0.00000\n",
      "2179/2179 [==============================] - 299s 137ms/step - loss: 0.0000e+00 - val_loss: 0.0000e+00 - lr: 0.0010\n",
      "Epoch 5/10\n",
      "2179/2179 [==============================] - ETA: 0s - loss: 0.0000e+00\n",
      "Epoch 5: val_loss did not improve from 0.00000\n",
      "2179/2179 [==============================] - 310s 142ms/step - loss: 0.0000e+00 - val_loss: 0.0000e+00 - lr: 0.0010\n",
      "Epoch 6/10\n",
      "2179/2179 [==============================] - ETA: 0s - loss: 0.0000e+00\n",
      "Epoch 6: val_loss did not improve from 0.00000\n",
      "2179/2179 [==============================] - 309s 141ms/step - loss: 0.0000e+00 - val_loss: 0.0000e+00 - lr: 0.0010\n",
      "Epoch 7/10\n",
      "2179/2179 [==============================] - ETA: 0s - loss: 0.0000e+00\n",
      "Epoch 7: val_loss did not improve from 0.00000\n",
      "2179/2179 [==============================] - 322s 147ms/step - loss: 0.0000e+00 - val_loss: 0.0000e+00 - lr: 0.0010\n",
      "Epoch 8/10\n",
      "2179/2179 [==============================] - ETA: 0s - loss: 0.0000e+00\n",
      "Epoch 8: val_loss did not improve from 0.00000\n",
      "2179/2179 [==============================] - 311s 142ms/step - loss: 0.0000e+00 - val_loss: 0.0000e+00 - lr: 0.0010\n",
      "Epoch 9/10\n",
      "2055/2179 [===========================>..] - ETA: 14s - loss: 0.0000e+00\n",
      "Epoch 9: val_loss did not improve from 0.00000\n",
      "2179/2179 [==============================] - 309s 141ms/step - loss: 0.0000e+00 - val_loss: 0.0000e+00 - lr: 0.0010\n",
      "Epoch 10/10\n",
      "2179/2179 [==============================] - ETA: 0s - loss: 0.0000e+00\n",
      "Epoch 10: val_loss did not improve from 0.00000\n",
      "2179/2179 [==============================] - 304s 139ms/step - loss: 0.0000e+00 - val_loss: 0.0000e+00 - lr: 0.0010\n"
     ]
    }
   ],
   "source": [
    "history = siamese_net.fit(\n",
    "    x=train_gen,\n",
    "    steps_per_epoch=train_gen.__len__(),\n",
    "    validation_data=val_gen,\n",
    "    callbacks=callbacks,\n",
    "    epochs=10,\n",
    "    use_multiprocessing=True,\n",
    "    workers=10,\n",
    ")"
   ]
  },
  {
   "cell_type": "code",
   "execution_count": 32,
   "id": "11217d0d-a126-4ec1-b3fe-fb434230de18",
   "metadata": {},
   "outputs": [
    {
     "data": {
      "image/png": "[encoded data removed]",
      "text/plain": [
       "<Figure size 2000x500 with 1 Axes>"
      ]
     },
     "metadata": {
      "image/png": {
       "height": 478,
       "width": 875
      }
     },
     "output_type": "display_data"
    }
   ],
   "source": [
    "plot_history(history.history)"
   ]
  },
  {
   "cell_type": "code",
   "execution_count": null,
   "id": "88a35c6a-2e1a-4760-ae3e-4176eb754d5e",
   "metadata": {},
   "outputs": [],
   "source": [
    "def save_params(mod_dir, model, history, cfg, loss=\"constr\"):\n",
    "    train_history = history.history\n",
    "    min_val_loss = np.min(train_history[\"val_loss\"])\n",
    "\n",
    "    for k in train_history.keys():\n",
    "        train_history[k] = list(map(float, train_history[k]))\n",
    "    model.save(\n",
    "        os.path.join(mod_dir, f\"model_{min_val_loss}.h5\"),\n",
    "    )\n",
    "    config = {\n",
    "        \"loss\": loss,\n",
    "        \"history\": train_history,\n",
    "        \"norm\": cfg.norm,\n",
    "        \"fold\": cfg.fold,\n",
    "        \"model\": {\n",
    "            \"eff\": False,\n",
    "            \"input_shape\": cfg.input_shape,\n",
    "            \"embedding_len\": cfg.emb_len,\n",
    "            \"kernel_size\": cfg.kernel_size,\n",
    "            \"activation_fn\": cfg.act_fn,\n",
    "            \"batch_norm\": False,\n",
    "        },\n",
    "    }\n",
    "    with open(os.path.join(mod_dir, \"config.json\"), \"w\") as f:\n",
    "        json.dump(config, f)\n",
    "    model.save(os.path.join(mod_dir, f\"model_{min_val_loss}\"), include_optimizer=False)\n",
    "    print(\n",
    "        f'min_val_loss = {min_val_loss}, model saved to {os.path.join(mod_dir, f\"model_{min_val_loss}\")}'\n",
    "    )"
   ]
  },
  {
   "cell_type": "code",
   "execution_count": null,
   "id": "1083c177-4f54-46e6-aadf-3fafd674268e",
   "metadata": {},
   "outputs": [],
   "source": [
    "save_params(mod_dir, siamese_net, history, cfg, loss=\"tripl\")"
   ]
  },
  {
   "cell_type": "code",
   "execution_count": null,
   "id": "3dc716d4-3db8-497b-b70f-8cd5f3daa718",
   "metadata": {},
   "outputs": [],
   "source": [
    "[x.name for x in siamese_net.layers]"
   ]
  },
  {
   "cell_type": "code",
   "execution_count": null,
   "id": "df5efca5-2486-4131-a150-36b70844d782",
   "metadata": {},
   "outputs": [],
   "source": [
    "# siamese_net(imgs[:3]).get_output('embedding')"
   ]
  },
  {
   "cell_type": "code",
   "execution_count": 41,
   "id": "2ae00d11-29d6-4283-bbfa-8bc02c49bff5",
   "metadata": {},
   "outputs": [],
   "source": [
    "embedding_net.set_weights(\n",
    "    [\n",
    "        w\n",
    "        for w in siamese_net.weights\n",
    "        if w.name in [y.name for y in embedding_net.weights]\n",
    "    ]\n",
    ")"
   ]
  },
  {
   "cell_type": "code",
   "execution_count": 42,
   "id": "e64653eb-6cd1-4a9d-a6cc-7e46d0ebbd67",
   "metadata": {},
   "outputs": [],
   "source": [
    "low_res_1.set_weights(\n",
    "    [\n",
    "        w\n",
    "        for w in siamese_net.weights\n",
    "        if w.name in [y.name for y in low_res_1.weights]\n",
    "    ]\n",
    ")"
   ]
  },
  {
   "cell_type": "code",
   "execution_count": 43,
   "id": "68f93585-6b5b-44c5-8e50-c2d763e69379",
   "metadata": {},
   "outputs": [],
   "source": [
    "low_res_2.set_weights(\n",
    "    [\n",
    "        w\n",
    "        for w in siamese_net.weights\n",
    "        if w.name in [y.name for y in low_res_2.weights]\n",
    "    ]\n",
    ")"
   ]
  },
  {
   "cell_type": "code",
   "execution_count": 47,
   "id": "91044d4c-2fb0-4437-ab9f-7f148641ecd4",
   "metadata": {},
   "outputs": [
    {
     "name": "stdout",
     "output_type": "stream",
     "text": [
      "2/2 [==============================] - 0s 4ms/step\n"
     ]
    },
    {
     "data": {
      "text/plain": [
       "(64, 1, 1024)"
      ]
     },
     "execution_count": 47,
     "metadata": {},
     "output_type": "execute_result"
    }
   ],
   "source": [
    "low_res_1.predict(imgs['anchor']).shape"
   ]
  },
  {
   "cell_type": "code",
   "execution_count": 37,
   "id": "7973a464-3212-4822-a8b6-12737675011b",
   "metadata": {},
   "outputs": [
    {
     "data": {
      "text/html": [
       "<div>\n",
       "<style scoped>\n",
       "    .dataframe tbody tr th:only-of-type {\n",
       "        vertical-align: middle;\n",
       "    }\n",
       "\n",
       "    .dataframe tbody tr th {\n",
       "        vertical-align: top;\n",
       "    }\n",
       "\n",
       "    .dataframe thead th {\n",
       "        text-align: right;\n",
       "    }\n",
       "</style>\n",
       "<table border=\"1\" class=\"dataframe\">\n",
       "  <thead>\n",
       "    <tr style=\"text-align: right;\">\n",
       "      <th></th>\n",
       "      <th>trackid</th>\n",
       "      <th>artistid</th>\n",
       "      <th>archive_features_path</th>\n",
       "      <th>path</th>\n",
       "      <th>max</th>\n",
       "      <th>min</th>\n",
       "      <th>mean</th>\n",
       "      <th>width</th>\n",
       "      <th>height</th>\n",
       "      <th>artistid_count</th>\n",
       "      <th>fold</th>\n",
       "    </tr>\n",
       "  </thead>\n",
       "  <tbody>\n",
       "    <tr>\n",
       "      <th>0</th>\n",
       "      <td>105739</td>\n",
       "      <td>4</td>\n",
       "      <td>4/9/3/105739.npy</td>\n",
       "      <td>/app/_data/artist_data/train_features/4/9/3/10...</td>\n",
       "      <td>4.224643</td>\n",
       "      <td>0.0</td>\n",
       "      <td>0.444227</td>\n",
       "      <td>81.0</td>\n",
       "      <td>512.0</td>\n",
       "      <td>10</td>\n",
       "      <td>2.0</td>\n",
       "    </tr>\n",
       "    <tr>\n",
       "      <th>1</th>\n",
       "      <td>4</td>\n",
       "      <td>4</td>\n",
       "      <td>4/4/0/4.npy</td>\n",
       "      <td>/app/_data/artist_data/train_features/4/4/0/4.npy</td>\n",
       "      <td>3.786215</td>\n",
       "      <td>0.0</td>\n",
       "      <td>0.444095</td>\n",
       "      <td>81.0</td>\n",
       "      <td>512.0</td>\n",
       "      <td>10</td>\n",
       "      <td>2.0</td>\n",
       "    </tr>\n",
       "    <tr>\n",
       "      <th>2</th>\n",
       "      <td>868</td>\n",
       "      <td>4</td>\n",
       "      <td>4/8/6/868.npy</td>\n",
       "      <td>/app/_data/artist_data/train_features/4/8/6/86...</td>\n",
       "      <td>3.098363</td>\n",
       "      <td>0.0</td>\n",
       "      <td>0.370418</td>\n",
       "      <td>81.0</td>\n",
       "      <td>512.0</td>\n",
       "      <td>10</td>\n",
       "      <td>2.0</td>\n",
       "    </tr>\n",
       "    <tr>\n",
       "      <th>3</th>\n",
       "      <td>16333</td>\n",
       "      <td>4</td>\n",
       "      <td>4/3/3/16333.npy</td>\n",
       "      <td>/app/_data/artist_data/train_features/4/3/3/16...</td>\n",
       "      <td>5.220033</td>\n",
       "      <td>0.0</td>\n",
       "      <td>0.367171</td>\n",
       "      <td>73.0</td>\n",
       "      <td>512.0</td>\n",
       "      <td>10</td>\n",
       "      <td>2.0</td>\n",
       "    </tr>\n",
       "    <tr>\n",
       "      <th>4</th>\n",
       "      <td>68038</td>\n",
       "      <td>4</td>\n",
       "      <td>4/8/3/68038.npy</td>\n",
       "      <td>/app/_data/artist_data/train_features/4/8/3/68...</td>\n",
       "      <td>4.476882</td>\n",
       "      <td>0.0</td>\n",
       "      <td>0.419996</td>\n",
       "      <td>81.0</td>\n",
       "      <td>512.0</td>\n",
       "      <td>10</td>\n",
       "      <td>2.0</td>\n",
       "    </tr>\n",
       "    <tr>\n",
       "      <th>...</th>\n",
       "      <td>...</td>\n",
       "      <td>...</td>\n",
       "      <td>...</td>\n",
       "      <td>...</td>\n",
       "      <td>...</td>\n",
       "      <td>...</td>\n",
       "      <td>...</td>\n",
       "      <td>...</td>\n",
       "      <td>...</td>\n",
       "      <td>...</td>\n",
       "      <td>...</td>\n",
       "    </tr>\n",
       "    <tr>\n",
       "      <th>27699</th>\n",
       "      <td>153876</td>\n",
       "      <td>18455</td>\n",
       "      <td>5/6/7/153876.npy</td>\n",
       "      <td>/app/_data/artist_data/train_features/5/6/7/15...</td>\n",
       "      <td>5.924749</td>\n",
       "      <td>0.0</td>\n",
       "      <td>0.441504</td>\n",
       "      <td>81.0</td>\n",
       "      <td>512.0</td>\n",
       "      <td>2</td>\n",
       "      <td>2.0</td>\n",
       "    </tr>\n",
       "    <tr>\n",
       "      <th>27700</th>\n",
       "      <td>151291</td>\n",
       "      <td>18461</td>\n",
       "      <td>1/1/9/151291.npy</td>\n",
       "      <td>/app/_data/artist_data/train_features/1/1/9/15...</td>\n",
       "      <td>4.962697</td>\n",
       "      <td>0.0</td>\n",
       "      <td>0.382900</td>\n",
       "      <td>81.0</td>\n",
       "      <td>512.0</td>\n",
       "      <td>2</td>\n",
       "      <td>2.0</td>\n",
       "    </tr>\n",
       "    <tr>\n",
       "      <th>27701</th>\n",
       "      <td>155004</td>\n",
       "      <td>18461</td>\n",
       "      <td>1/4/0/155004.npy</td>\n",
       "      <td>/app/_data/artist_data/train_features/1/4/0/15...</td>\n",
       "      <td>5.474594</td>\n",
       "      <td>0.0</td>\n",
       "      <td>0.382723</td>\n",
       "      <td>81.0</td>\n",
       "      <td>512.0</td>\n",
       "      <td>2</td>\n",
       "      <td>2.0</td>\n",
       "    </tr>\n",
       "    <tr>\n",
       "      <th>27702</th>\n",
       "      <td>161032</td>\n",
       "      <td>18467</td>\n",
       "      <td>7/2/3/161032.npy</td>\n",
       "      <td>/app/_data/artist_data/train_features/7/2/3/16...</td>\n",
       "      <td>6.289591</td>\n",
       "      <td>0.0</td>\n",
       "      <td>0.315962</td>\n",
       "      <td>81.0</td>\n",
       "      <td>512.0</td>\n",
       "      <td>2</td>\n",
       "      <td>2.0</td>\n",
       "    </tr>\n",
       "    <tr>\n",
       "      <th>27703</th>\n",
       "      <td>166713</td>\n",
       "      <td>18467</td>\n",
       "      <td>7/3/1/166713.npy</td>\n",
       "      <td>/app/_data/artist_data/train_features/7/3/1/16...</td>\n",
       "      <td>4.223980</td>\n",
       "      <td>0.0</td>\n",
       "      <td>0.439307</td>\n",
       "      <td>81.0</td>\n",
       "      <td>512.0</td>\n",
       "      <td>2</td>\n",
       "      <td>2.0</td>\n",
       "    </tr>\n",
       "  </tbody>\n",
       "</table>\n",
       "<p>27704 rows × 11 columns</p>\n",
       "</div>"
      ],
      "text/plain": [
       "       trackid  artistid archive_features_path  \\\n",
       "0       105739         4      4/9/3/105739.npy   \n",
       "1            4         4           4/4/0/4.npy   \n",
       "2          868         4         4/8/6/868.npy   \n",
       "3        16333         4       4/3/3/16333.npy   \n",
       "4        68038         4       4/8/3/68038.npy   \n",
       "...        ...       ...                   ...   \n",
       "27699   153876     18455      5/6/7/153876.npy   \n",
       "27700   151291     18461      1/1/9/151291.npy   \n",
       "27701   155004     18461      1/4/0/155004.npy   \n",
       "27702   161032     18467      7/2/3/161032.npy   \n",
       "27703   166713     18467      7/3/1/166713.npy   \n",
       "\n",
       "                                                    path       max  min  \\\n",
       "0      /app/_data/artist_data/train_features/4/9/3/10...  4.224643  0.0   \n",
       "1      /app/_data/artist_data/train_features/4/4/0/4.npy  3.786215  0.0   \n",
       "2      /app/_data/artist_data/train_features/4/8/6/86...  3.098363  0.0   \n",
       "3      /app/_data/artist_data/train_features/4/3/3/16...  5.220033  0.0   \n",
       "4      /app/_data/artist_data/train_features/4/8/3/68...  4.476882  0.0   \n",
       "...                                                  ...       ...  ...   \n",
       "27699  /app/_data/artist_data/train_features/5/6/7/15...  5.924749  0.0   \n",
       "27700  /app/_data/artist_data/train_features/1/1/9/15...  4.962697  0.0   \n",
       "27701  /app/_data/artist_data/train_features/1/4/0/15...  5.474594  0.0   \n",
       "27702  /app/_data/artist_data/train_features/7/2/3/16...  6.289591  0.0   \n",
       "27703  /app/_data/artist_data/train_features/7/3/1/16...  4.223980  0.0   \n",
       "\n",
       "           mean  width  height  artistid_count  fold  \n",
       "0      0.444227   81.0   512.0              10   2.0  \n",
       "1      0.444095   81.0   512.0              10   2.0  \n",
       "2      0.370418   81.0   512.0              10   2.0  \n",
       "3      0.367171   73.0   512.0              10   2.0  \n",
       "4      0.419996   81.0   512.0              10   2.0  \n",
       "...         ...    ...     ...             ...   ...  \n",
       "27699  0.441504   81.0   512.0               2   2.0  \n",
       "27700  0.382900   81.0   512.0               2   2.0  \n",
       "27701  0.382723   81.0   512.0               2   2.0  \n",
       "27702  0.315962   81.0   512.0               2   2.0  \n",
       "27703  0.439307   81.0   512.0               2   2.0  \n",
       "\n",
       "[27704 rows x 11 columns]"
      ]
     },
     "execution_count": 37,
     "metadata": {},
     "output_type": "execute_result"
    }
   ],
   "source": [
    "val_df"
   ]
  },
  {
   "cell_type": "code",
   "execution_count": null,
   "id": "e9590cc2-faeb-4539-84b3-99cb38b658b0",
   "metadata": {},
   "outputs": [],
   "source": [
    "class TestGenerator(keras.utils.Sequence):\n",
    "    def __init__(\n",
    "        self,\n",
    "        data,\n",
    "        img_size,\n",
    "        batch_size=32,\n",
    "        norm=False,\n",
    "        n_chanels=1,\n",
    "    ):\n",
    "        self.data = data.reset_index(drop=True)\n",
    "        self.img_size = img_size\n",
    "        self.batch_size = batch_size\n",
    "        self.norm = norm\n",
    "        self.n_chanels = n_chanels\n",
    "        self.default_img_size = (512, 81)\n",
    "\n",
    "    def __len__(self):\n",
    "        return self.data.shape[0] // self.batch_size\n",
    "\n",
    "    def load_img(self, path):\n",
    "        img = np.load(path).astype(\"float32\")\n",
    "        if self.norm:\n",
    "            img -= img.min()\n",
    "            img /= img.max()\n",
    "        if self.img_size < self.default_img_size:\n",
    "            wpad = (img.shape[1] - self.img_size[1]) // 2\n",
    "            img = img[:, wpad : wpad + self.img_size[1]]\n",
    "        if img.shape != self.img_size:\n",
    "            wpad = self.img_size[1] - img.shape[1]\n",
    "            wpad_l = wpad // 2\n",
    "            wpad_r = wpad - wpad_l\n",
    "            img = np.pad(\n",
    "                img,\n",
    "                pad_width=((0, 0), (wpad_l, wpad_r)),\n",
    "                mode=\"constant\",\n",
    "                constant_values=0,\n",
    "            )\n",
    "        img = np.expand_dims(img, -1)\n",
    "        if self.n_chanels == 3:\n",
    "            img = np.concatenate([img, img, img], -1)\n",
    "        return img\n",
    "\n",
    "    def __getitem__(self, batch_ix):\n",
    "        imgs = np.zeros([self.batch_size, *self.img_size, self.n_chanels])\n",
    "\n",
    "        for i in range(self.batch_size):\n",
    "            ix = i + self.batch_size * batch_ix\n",
    "            img = self.load_img(self.data.loc[ix, \"path\"])\n",
    "            imgs[i] = img\n",
    "\n",
    "        return imgs"
   ]
  },
  {
   "cell_type": "code",
   "execution_count": null,
   "id": "b1a0792b-91b5-4c08-9942-e9d019e02302",
   "metadata": {},
   "outputs": [],
   "source": [
    "def pairwise_distances(array):\n",
    "    dists = tf.add(\n",
    "        tf.reduce_sum(tf.square(array), axis=[1], keepdims=True),\n",
    "        tf.reduce_sum(tf.square(tf.transpose(array)), axis=[0], keepdims=True),\n",
    "    ) - 2.0 * tf.matmul(array, tf.transpose(array))\n",
    "    return dists"
   ]
  },
  {
   "cell_type": "code",
   "execution_count": null,
   "id": "8dd0ef17-9ee9-4879-bed9-27ba4e72958f",
   "metadata": {},
   "outputs": [],
   "source": [
    "def choose_100(\n",
    "    prediction,\n",
    "    df,\n",
    "):\n",
    "    dists = pairwise_distances(prediction)\n",
    "    neigh = {}\n",
    "    for ix in tqdm(range(dists.shape[0])):\n",
    "        trackid = df.loc[ix, \"trackid\"]\n",
    "        nearest_100 = np.argsort(dists[ix])[:101]\n",
    "        tracks_100 = df.loc[nearest_100, \"trackid\"].tolist()\n",
    "        neigh[trackid] = {\n",
    "            \"tracks\": [x for x in tracks_100 if x != trackid],\n",
    "            \"atrtistid\": df.loc[ix, \"artistid\"],\n",
    "            \"artists\": df.loc[nearest_100, \"artistid\"].tolist(),\n",
    "        }\n",
    "\n",
    "    return neigh"
   ]
  },
  {
   "cell_type": "code",
   "execution_count": null,
   "id": "3b3f09ac-ab24-4789-8c6b-f0356cffa0c2",
   "metadata": {},
   "outputs": [],
   "source": [
    "test_gen = TestGenerator(\n",
    "    data=val_df,\n",
    "    img_size=cfg.img_size,\n",
    "    batch_size=1,\n",
    "    norm=False,\n",
    "    n_chanels=1,\n",
    ")"
   ]
  },
  {
   "cell_type": "code",
   "execution_count": null,
   "id": "e62d1092-23d8-4ea3-9bbf-7c98e9e83b21",
   "metadata": {},
   "outputs": [],
   "source": [
    "pred_val = np.squeeze(embedding_net.predict(test_gen))"
   ]
  },
  {
   "cell_type": "code",
   "execution_count": null,
   "id": "8b02c21b-b8f2-43f5-886a-946a4c35bcbc",
   "metadata": {},
   "outputs": [],
   "source": [
    "neigh = choose_100(pred_val, val_df)"
   ]
  },
  {
   "cell_type": "code",
   "execution_count": null,
   "id": "0de21f39-b065-492f-8c5b-9111c9314148",
   "metadata": {},
   "outputs": [],
   "source": [
    "dists = pairwise_distances(pred_val)"
   ]
  },
  {
   "cell_type": "code",
   "execution_count": null,
   "id": "f91ca4fa-5fa3-476b-b21d-a8ae727346bd",
   "metadata": {},
   "outputs": [],
   "source": [
    "sns.heatmap(pairwise_distances(pred_val[900:1000]))"
   ]
  },
  {
   "cell_type": "code",
   "execution_count": null,
   "id": "6c633e16-506e-4570-bf06-bccecec8fd1b",
   "metadata": {},
   "outputs": [],
   "source": [
    "l = []\n",
    "for k in neigh.keys():\n",
    "    l.append(len([1 for x in neigh[k][\"artists\"] if x == neigh[k][\"atrtistid\"]]))"
   ]
  },
  {
   "cell_type": "code",
   "execution_count": null,
   "id": "2b08a37b-afed-41c2-aab3-39cbe0d21201",
   "metadata": {},
   "outputs": [],
   "source": [
    "plt.hist(l)\n",
    "plt.show();"
   ]
  },
  {
   "cell_type": "code",
   "execution_count": null,
   "id": "244a3976-ccf8-407b-8b60-8db7675c96a5",
   "metadata": {},
   "outputs": [],
   "source": [
    "def position_discounter(position):\n",
    "    return 1.0 / np.log2(position + 1)\n",
    "\n",
    "\n",
    "def get_ideal_dcg(relevant_items_count, top_size):\n",
    "    dcg = 0.0\n",
    "    for result_indx in range(min(top_size, relevant_items_count)):\n",
    "        position = result_indx + 1\n",
    "        dcg += position_discounter(position)\n",
    "    return dcg\n",
    "\n",
    "\n",
    "def compute_dcg(query_trackid, ranked_list, track2artist_map):\n",
    "    query_artistid = track2artist_map[query_trackid]\n",
    "    dcg = 0.0\n",
    "    for result_indx, result_trackid in enumerate(ranked_list):\n",
    "        position = result_indx + 1\n",
    "        discounted_position = position_discounter(position)\n",
    "        result_artistid = track2artist_map[result_trackid]\n",
    "        if result_artistid == query_artistid:\n",
    "            dcg += discounted_position\n",
    "    return dcg"
   ]
  },
  {
   "cell_type": "code",
   "execution_count": null,
   "id": "b9cbeb09-46f0-49d7-905a-54806e55ecd8",
   "metadata": {},
   "outputs": [],
   "source": [
    "def eval_submission(tracks_meta, submission, top_size=100):\n",
    "    track2artist_map = tracks_meta.set_index(\"trackid\")[\"artistid\"].to_dict()\n",
    "    track2subset_map = tracks_meta.set_index(\"trackid\")[\"subset\"].to_dict()\n",
    "    artist2tracks_map = tracks_meta.groupby(\"artistid\").agg(list)[\"trackid\"].to_dict()\n",
    "\n",
    "    ndcg_list = defaultdict(list)\n",
    "    for _, row in tracks_meta.iterrows():\n",
    "        query_trackid = row[\"trackid\"]\n",
    "        ranked_list = submission[query_trackid][\"tracks\"]\n",
    "        query_artistid = track2artist_map[query_trackid]\n",
    "        query_artist_tracks_count = len(artist2tracks_map[query_artistid])\n",
    "        ideal_dcg = get_ideal_dcg(query_artist_tracks_count - 1, top_size=top_size)\n",
    "        dcg = compute_dcg(query_trackid, ranked_list, track2artist_map)\n",
    "        if ideal_dcg != 0:\n",
    "            ndcg_list[track2subset_map[query_trackid]].append(dcg / ideal_dcg)\n",
    "\n",
    "    result = {}\n",
    "    for subset, values in ndcg_list.items():\n",
    "        result[subset] = np.mean(values)\n",
    "    return result"
   ]
  },
  {
   "cell_type": "code",
   "execution_count": null,
   "id": "bef6b653-2418-43b0-89b1-2b4e7d3fff99",
   "metadata": {},
   "outputs": [],
   "source": [
    "val_df[\"subset\"] = \"0\"\n",
    "from collections import defaultdict"
   ]
  },
  {
   "cell_type": "code",
   "execution_count": null,
   "id": "2e9aead8-d0bb-4186-a886-77aa1a0869e3",
   "metadata": {},
   "outputs": [],
   "source": [
    "r = eval_submission(val_df, neigh)"
   ]
  },
  {
   "cell_type": "code",
   "execution_count": null,
   "id": "b3e7b4e0-8d24-48ce-a2e1-cdb3da109e41",
   "metadata": {},
   "outputs": [],
   "source": [
    "r"
   ]
  },
  {
   "cell_type": "code",
   "execution_count": null,
   "id": "0f19403b-51f4-4b1f-bfb5-c2bc164c5416",
   "metadata": {},
   "outputs": [],
   "source": []
  }
 ],
 "metadata": {
  "kernelspec": {
   "display_name": "Python 3 (ipykernel)",
   "language": "python",
   "name": "python3"
  },
  "language_info": {
   "codemirror_mode": {
    "name": "ipython",
    "version": 3
   },
   "file_extension": ".py",
   "mimetype": "text/x-python",
   "name": "python",
   "nbconvert_exporter": "python",
   "pygments_lexer": "ipython3",
   "version": "3.8.10"
  }
 },
 "nbformat": 4,
 "nbformat_minor": 5
}
